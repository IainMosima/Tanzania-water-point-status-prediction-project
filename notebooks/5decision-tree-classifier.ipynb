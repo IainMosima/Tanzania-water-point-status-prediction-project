{
 "cells": [
  {
   "cell_type": "code",
   "execution_count": 1,
   "metadata": {},
   "outputs": [],
   "source": [
    "# Importing necessary libraries\n",
    "import pandas as pd\n",
    "import numpy as np\n",
    "import seaborn as sns\n",
    "from myfunctions import set_importer, scores\n",
    "import matplotlib.pyplot as plt\n",
    "from sklearn.model_selection import train_test_split, cross_val_score, GridSearchCV\n",
    "from sklearn.preprocessing import StandardScaler, LabelEncoder, OneHotEncoder\n",
    "from sklearn.linear_model import LogisticRegression\n",
    "from sklearn.feature_selection import RFECV, RFE\n",
    "from sklearn.tree import DecisionTreeClassifier\n",
    "from sklearn.metrics import accuracy_score, precision_score, recall_score, confusion_matrix, classification_report, plot_confusion_matrix\n",
    "from sklearn.ensemble import BaggingClassifier, RandomForestClassifier\n",
    "pd.set_option('display.max_columns', None)\n",
    "\n",
    "sns.set_style(\"whitegrid\")\n",
    "%matplotlib inline\n",
    "\n",
    "# setting font size for all plots\n",
    "font = {'size'   : 16}\n",
    "\n",
    "plt.rc('font', **font)"
   ]
  },
  {
   "cell_type": "code",
   "execution_count": 3,
   "metadata": {},
   "outputs": [
    {
     "data": {
      "text/plain": [
       "(29852, 16)"
      ]
     },
     "metadata": {},
     "output_type": "display_data"
    },
    {
     "data": {
      "text/html": [
       "<div>\n",
       "<style scoped>\n",
       "    .dataframe tbody tr th:only-of-type {\n",
       "        vertical-align: middle;\n",
       "    }\n",
       "\n",
       "    .dataframe tbody tr th {\n",
       "        vertical-align: top;\n",
       "    }\n",
       "\n",
       "    .dataframe thead th {\n",
       "        text-align: right;\n",
       "    }\n",
       "</style>\n",
       "<table border=\"1\" class=\"dataframe\">\n",
       "  <thead>\n",
       "    <tr style=\"text-align: right;\">\n",
       "      <th></th>\n",
       "      <th>gps_height</th>\n",
       "      <th>longitude</th>\n",
       "      <th>latitude</th>\n",
       "      <th>region_code</th>\n",
       "      <th>district_code</th>\n",
       "      <th>population</th>\n",
       "      <th>permit</th>\n",
       "      <th>construction_year</th>\n",
       "      <th>basin</th>\n",
       "      <th>extraction_type_class</th>\n",
       "      <th>management_group</th>\n",
       "      <th>payment</th>\n",
       "      <th>quality_group</th>\n",
       "      <th>quantity_group</th>\n",
       "      <th>source_class</th>\n",
       "      <th>waterpoint_type_group</th>\n",
       "    </tr>\n",
       "  </thead>\n",
       "  <tbody>\n",
       "    <tr>\n",
       "      <th>0</th>\n",
       "      <td>-0.356274</td>\n",
       "      <td>1.723728</td>\n",
       "      <td>-1.640197</td>\n",
       "      <td>-0.393261</td>\n",
       "      <td>-0.194167</td>\n",
       "      <td>1.366671</td>\n",
       "      <td>0.66262</td>\n",
       "      <td>0.801349</td>\n",
       "      <td>-1.550911</td>\n",
       "      <td>-1.417821</td>\n",
       "      <td>-0.314342</td>\n",
       "      <td>-0.783634</td>\n",
       "      <td>-0.399189</td>\n",
       "      <td>-1.266481</td>\n",
       "      <td>-0.529080</td>\n",
       "      <td>-0.832690</td>\n",
       "    </tr>\n",
       "    <tr>\n",
       "      <th>1</th>\n",
       "      <td>-0.884573</td>\n",
       "      <td>-0.348901</td>\n",
       "      <td>-1.036569</td>\n",
       "      <td>-0.240379</td>\n",
       "      <td>0.092932</td>\n",
       "      <td>-0.675954</td>\n",
       "      <td>0.66262</td>\n",
       "      <td>-1.231119</td>\n",
       "      <td>-1.159302</td>\n",
       "      <td>-0.652663</td>\n",
       "      <td>-0.314342</td>\n",
       "      <td>-0.190823</td>\n",
       "      <td>-0.399189</td>\n",
       "      <td>-0.677096</td>\n",
       "      <td>1.788588</td>\n",
       "      <td>-0.832690</td>\n",
       "    </tr>\n",
       "    <tr>\n",
       "      <th>2</th>\n",
       "      <td>-0.884573</td>\n",
       "      <td>-0.267184</td>\n",
       "      <td>-1.007222</td>\n",
       "      <td>-0.240379</td>\n",
       "      <td>0.092932</td>\n",
       "      <td>-0.675954</td>\n",
       "      <td>0.66262</td>\n",
       "      <td>-1.231119</td>\n",
       "      <td>-1.159302</td>\n",
       "      <td>-0.652663</td>\n",
       "      <td>-0.314342</td>\n",
       "      <td>-0.783634</td>\n",
       "      <td>-0.399189</td>\n",
       "      <td>-0.087711</td>\n",
       "      <td>1.788588</td>\n",
       "      <td>-0.832690</td>\n",
       "    </tr>\n",
       "    <tr>\n",
       "      <th>3</th>\n",
       "      <td>-0.693453</td>\n",
       "      <td>1.097498</td>\n",
       "      <td>-0.507180</td>\n",
       "      <td>-0.597103</td>\n",
       "      <td>-0.385566</td>\n",
       "      <td>1.025095</td>\n",
       "      <td>0.66262</td>\n",
       "      <td>0.816731</td>\n",
       "      <td>-0.767692</td>\n",
       "      <td>0.112494</td>\n",
       "      <td>-0.314342</td>\n",
       "      <td>-0.190823</td>\n",
       "      <td>0.853827</td>\n",
       "      <td>-0.677096</td>\n",
       "      <td>-0.529080</td>\n",
       "      <td>0.319603</td>\n",
       "    </tr>\n",
       "    <tr>\n",
       "      <th>4</th>\n",
       "      <td>0.993994</td>\n",
       "      <td>-0.536809</td>\n",
       "      <td>1.177516</td>\n",
       "      <td>0.167305</td>\n",
       "      <td>-0.194167</td>\n",
       "      <td>1.366671</td>\n",
       "      <td>-1.50916</td>\n",
       "      <td>0.828011</td>\n",
       "      <td>-0.376083</td>\n",
       "      <td>0.112494</td>\n",
       "      <td>-0.314342</td>\n",
       "      <td>0.401987</td>\n",
       "      <td>2.106843</td>\n",
       "      <td>0.501674</td>\n",
       "      <td>-0.529080</td>\n",
       "      <td>0.319603</td>\n",
       "    </tr>\n",
       "    <tr>\n",
       "      <th>5</th>\n",
       "      <td>0.933395</td>\n",
       "      <td>-0.798928</td>\n",
       "      <td>1.241827</td>\n",
       "      <td>0.116345</td>\n",
       "      <td>-0.481266</td>\n",
       "      <td>2.732976</td>\n",
       "      <td>0.66262</td>\n",
       "      <td>0.815706</td>\n",
       "      <td>-0.376083</td>\n",
       "      <td>0.112494</td>\n",
       "      <td>-0.314342</td>\n",
       "      <td>-0.783634</td>\n",
       "      <td>-0.399189</td>\n",
       "      <td>-0.677096</td>\n",
       "      <td>-0.529080</td>\n",
       "      <td>0.319603</td>\n",
       "    </tr>\n",
       "    <tr>\n",
       "      <th>6</th>\n",
       "      <td>-0.884573</td>\n",
       "      <td>-1.349221</td>\n",
       "      <td>1.396173</td>\n",
       "      <td>0.065384</td>\n",
       "      <td>-0.385566</td>\n",
       "      <td>-0.675954</td>\n",
       "      <td>0.66262</td>\n",
       "      <td>-1.231119</td>\n",
       "      <td>-0.376083</td>\n",
       "      <td>0.877651</td>\n",
       "      <td>-0.314342</td>\n",
       "      <td>-0.783634</td>\n",
       "      <td>-0.399189</td>\n",
       "      <td>-0.677096</td>\n",
       "      <td>-0.529080</td>\n",
       "      <td>1.471897</td>\n",
       "    </tr>\n",
       "    <tr>\n",
       "      <th>7</th>\n",
       "      <td>-0.884573</td>\n",
       "      <td>-0.072088</td>\n",
       "      <td>1.885445</td>\n",
       "      <td>0.014424</td>\n",
       "      <td>-0.481266</td>\n",
       "      <td>-0.675954</td>\n",
       "      <td>-1.50916</td>\n",
       "      <td>-1.231119</td>\n",
       "      <td>-0.376083</td>\n",
       "      <td>0.877651</td>\n",
       "      <td>1.079108</td>\n",
       "      <td>-0.783634</td>\n",
       "      <td>0.853827</td>\n",
       "      <td>1.091059</td>\n",
       "      <td>-0.529080</td>\n",
       "      <td>1.471897</td>\n",
       "    </tr>\n",
       "    <tr>\n",
       "      <th>8</th>\n",
       "      <td>0.736060</td>\n",
       "      <td>0.033395</td>\n",
       "      <td>-1.704817</td>\n",
       "      <td>-0.342300</td>\n",
       "      <td>-0.289867</td>\n",
       "      <td>-0.341209</td>\n",
       "      <td>0.66262</td>\n",
       "      <td>0.809553</td>\n",
       "      <td>-1.550911</td>\n",
       "      <td>-0.652663</td>\n",
       "      <td>-0.314342</td>\n",
       "      <td>0.401987</td>\n",
       "      <td>-0.399189</td>\n",
       "      <td>-1.266481</td>\n",
       "      <td>-0.529080</td>\n",
       "      <td>-0.832690</td>\n",
       "    </tr>\n",
       "    <tr>\n",
       "      <th>9</th>\n",
       "      <td>2.404861</td>\n",
       "      <td>-0.405766</td>\n",
       "      <td>-1.092367</td>\n",
       "      <td>-0.291340</td>\n",
       "      <td>-0.289867</td>\n",
       "      <td>-0.675954</td>\n",
       "      <td>-1.50916</td>\n",
       "      <td>0.793146</td>\n",
       "      <td>-1.159302</td>\n",
       "      <td>-0.652663</td>\n",
       "      <td>-0.314342</td>\n",
       "      <td>0.994798</td>\n",
       "      <td>-0.399189</td>\n",
       "      <td>1.091059</td>\n",
       "      <td>-0.529080</td>\n",
       "      <td>-0.832690</td>\n",
       "    </tr>\n",
       "  </tbody>\n",
       "</table>\n",
       "</div>"
      ],
      "text/plain": [
       "   gps_height  longitude  latitude  region_code  district_code  population  \\\n",
       "0   -0.356274   1.723728 -1.640197    -0.393261      -0.194167    1.366671   \n",
       "1   -0.884573  -0.348901 -1.036569    -0.240379       0.092932   -0.675954   \n",
       "2   -0.884573  -0.267184 -1.007222    -0.240379       0.092932   -0.675954   \n",
       "3   -0.693453   1.097498 -0.507180    -0.597103      -0.385566    1.025095   \n",
       "4    0.993994  -0.536809  1.177516     0.167305      -0.194167    1.366671   \n",
       "5    0.933395  -0.798928  1.241827     0.116345      -0.481266    2.732976   \n",
       "6   -0.884573  -1.349221  1.396173     0.065384      -0.385566   -0.675954   \n",
       "7   -0.884573  -0.072088  1.885445     0.014424      -0.481266   -0.675954   \n",
       "8    0.736060   0.033395 -1.704817    -0.342300      -0.289867   -0.341209   \n",
       "9    2.404861  -0.405766 -1.092367    -0.291340      -0.289867   -0.675954   \n",
       "\n",
       "    permit  construction_year     basin  extraction_type_class  \\\n",
       "0  0.66262           0.801349 -1.550911              -1.417821   \n",
       "1  0.66262          -1.231119 -1.159302              -0.652663   \n",
       "2  0.66262          -1.231119 -1.159302              -0.652663   \n",
       "3  0.66262           0.816731 -0.767692               0.112494   \n",
       "4 -1.50916           0.828011 -0.376083               0.112494   \n",
       "5  0.66262           0.815706 -0.376083               0.112494   \n",
       "6  0.66262          -1.231119 -0.376083               0.877651   \n",
       "7 -1.50916          -1.231119 -0.376083               0.877651   \n",
       "8  0.66262           0.809553 -1.550911              -0.652663   \n",
       "9 -1.50916           0.793146 -1.159302              -0.652663   \n",
       "\n",
       "   management_group   payment  quality_group  quantity_group  source_class  \\\n",
       "0         -0.314342 -0.783634      -0.399189       -1.266481     -0.529080   \n",
       "1         -0.314342 -0.190823      -0.399189       -0.677096      1.788588   \n",
       "2         -0.314342 -0.783634      -0.399189       -0.087711      1.788588   \n",
       "3         -0.314342 -0.190823       0.853827       -0.677096     -0.529080   \n",
       "4         -0.314342  0.401987       2.106843        0.501674     -0.529080   \n",
       "5         -0.314342 -0.783634      -0.399189       -0.677096     -0.529080   \n",
       "6         -0.314342 -0.783634      -0.399189       -0.677096     -0.529080   \n",
       "7          1.079108 -0.783634       0.853827        1.091059     -0.529080   \n",
       "8         -0.314342  0.401987      -0.399189       -1.266481     -0.529080   \n",
       "9         -0.314342  0.994798      -0.399189        1.091059     -0.529080   \n",
       "\n",
       "   waterpoint_type_group  \n",
       "0              -0.832690  \n",
       "1              -0.832690  \n",
       "2              -0.832690  \n",
       "3               0.319603  \n",
       "4               0.319603  \n",
       "5               0.319603  \n",
       "6               1.471897  \n",
       "7               1.471897  \n",
       "8              -0.832690  \n",
       "9              -0.832690  "
      ]
     },
     "execution_count": 3,
     "metadata": {},
     "output_type": "execute_result"
    }
   ],
   "source": [
    "# importing the necessary sets\n",
    "X_train = set_importer('../analysis-dfs/X_train_ordinal_encoded.csv')\n",
    "X_test = set_importer('../analysis-dfs/X_test_ordinal_encoded.csv')\n",
    "\n",
    "y_train = set_importer('../analysis-dfs/y_train_prepared_2.csv', y=True)\n",
    "y_test = set_importer('../analysis-dfs/y_test_prepared.csv', y=True)\n",
    "\n",
    "display(X_train.shape)\n",
    "X_train.head(10)"
   ]
  },
  {
   "cell_type": "markdown",
   "metadata": {},
   "source": [
    "## Building Itertative models to find the Best Decision Tree Model"
   ]
  },
  {
   "cell_type": "markdown",
   "metadata": {},
   "source": [
    "### Decision Tree Classifier with criterion gini"
   ]
  },
  {
   "cell_type": "code",
   "execution_count": 4,
   "metadata": {},
   "outputs": [],
   "source": [
    "dtc_gini = DecisionTreeClassifier(criterion='gini', random_state=21)\n",
    "\n",
    "dtc_gini.fit(X_train, y_train)\n",
    "\n",
    "y_preds_gini = dtc_gini.predict(X_test)\n",
    "y_probs_gini = dtc_gini.predict_proba(X_test)[:, 1]"
   ]
  },
  {
   "cell_type": "code",
   "execution_count": 5,
   "metadata": {},
   "outputs": [
    {
     "name": "stdout",
     "output_type": "stream",
     "text": [
      "Model scores with gini criterion\n",
      "The precision score is:\t 0.8490742910710101\n",
      "The recall score is:\t 0.5603154964429322\n",
      "The accuracy score is:\t 0.542748492001049\n",
      "The log loss is:\t 15.788991389520987\n",
      "The auc is:\t\t 0.5016583428437343\n"
     ]
    }
   ],
   "source": [
    "print('Model scores with gini criterion')\n",
    "scores(y_test, y_preds_gini, y_probs_gini)"
   ]
  },
  {
   "cell_type": "markdown",
   "metadata": {},
   "source": [
    "### Decision Tree Classifier with criterion entropy"
   ]
  },
  {
   "cell_type": "code",
   "execution_count": 6,
   "metadata": {},
   "outputs": [],
   "source": [
    "dtc_entropy = DecisionTreeClassifier(criterion='entropy', random_state=21)\n",
    "\n",
    "dtc_entropy.fit(X_train, y_train)\n",
    "\n",
    "y_preds_entropy = dtc_entropy.predict(X_test)\n",
    "y_probs_entropy = dtc_entropy.predict_proba(X_test)[:, 1]"
   ]
  },
  {
   "cell_type": "code",
   "execution_count": 7,
   "metadata": {},
   "outputs": [
    {
     "name": "stdout",
     "output_type": "stream",
     "text": [
      "Model scores with gini criterion\n",
      "The precision score is:\t 0.8559880239520958\n",
      "The recall score is:\t 0.44215898546241883\n",
      "The accuracy score is:\t 0.46393915552058745\n",
      "The log loss is:\t 18.51095234925875\n",
      "The auc is:\t\t 0.5125949262455071\n"
     ]
    }
   ],
   "source": [
    "print('Model scores with gini criterion')\n",
    "scores(y_test, y_preds_entropy, y_probs_entropy)"
   ]
  },
  {
   "cell_type": "markdown",
   "metadata": {},
   "source": [
    "Both models did not do well compared to the best model in logistic regression part. Maybe tunning will help. \n",
    "I will continue with the entropy criterion since it perfomed better without ant tunning needed."
   ]
  },
  {
   "cell_type": "markdown",
   "metadata": {},
   "source": [
    "#### min_samples_split"
   ]
  },
  {
   "cell_type": "code",
   "execution_count": 8,
   "metadata": {},
   "outputs": [
    {
     "data": {
      "image/png": "[encoded data removed]",
      "text/plain": [
       "<Figure size 432x288 with 1 Axes>"
      ]
     },
     "metadata": {
      "needs_background": "light"
     },
     "output_type": "display_data"
    }
   ],
   "source": [
    "splits = np.arange(300, 500, 20)\n",
    "log_loss_means = []\n",
    "\n",
    "for split in splits:\n",
    "    dtc_model = DecisionTreeClassifier(criterion='entropy', random_state=21, min_samples_split=split)\n",
    "    log_loss_means.append( -cross_val_score(dtc_model, X_train, y_train, scoring='neg_log_loss').mean() )\n",
    "\n",
    "plt.plot(splits, log_loss_means)\n",
    "plt.xlabel('splits')\n",
    "plt.xticks(splits)\n",
    "plt.ylabel('log_loss')\n",
    "plt.title('Using various min_samples_split numbers')\n",
    "plt.show() "
   ]
  },
  {
   "cell_type": "markdown",
   "metadata": {},
   "source": [
    "The minimum number of samples required to split an internal node, with less log_loss is 420 samples"
   ]
  },
  {
   "cell_type": "markdown",
   "metadata": {},
   "source": [
    "#### min_samples_leaf"
   ]
  },
  {
   "cell_type": "code",
   "execution_count": 11,
   "metadata": {},
   "outputs": [
    {
     "data": {
      "image/png": "[encoded data removed]",
      "text/plain": [
       "<Figure size 432x288 with 1 Axes>"
      ]
     },
     "metadata": {
      "needs_background": "light"
     },
     "output_type": "display_data"
    }
   ],
   "source": [
    "samples = np.arange(40,160,20)\n",
    "log_loss_means = []\n",
    "\n",
    "for sample in samples:\n",
    "    dtc_model = DecisionTreeClassifier(criterion='entropy', random_state=21, min_samples_split=420, min_samples_leaf=sample)\n",
    "    log_loss_means.append( -cross_val_score(dtc_model, X_train, y_train, scoring='neg_log_loss').mean() )\n",
    "\n",
    "plt.plot(samples, log_loss_means)\n",
    "plt.xlabel('samples')\n",
    "plt.xticks(samples)\n",
    "plt.ylabel('log_loss')\n",
    "plt.title('Using various min_samples_leaf numbers')\n",
    "plt.show() "
   ]
  },
  {
   "cell_type": "markdown",
   "metadata": {},
   "source": [
    "The minimum number of samples required to be at a leaf node, producing less log loss are 100 samples."
   ]
  },
  {
   "cell_type": "markdown",
   "metadata": {},
   "source": [
    "#### max_depth"
   ]
  },
  {
   "cell_type": "code",
   "execution_count": 13,
   "metadata": {},
   "outputs": [
    {
     "data": {
      "image/png": "[encoded data removed]",
      "text/plain": [
       "<Figure size 432x288 with 1 Axes>"
      ]
     },
     "metadata": {
      "needs_background": "light"
     },
     "output_type": "display_data"
    }
   ],
   "source": [
    "depths = np.arange(200,470,20)\n",
    "log_loss_means = []\n",
    "\n",
    "for depth in depths:\n",
    "    dtc_model = DecisionTreeClassifier(criterion='entropy', random_state=21, min_samples_split=460, min_samples_leaf=100, max_depth=depth)\n",
    "    log_loss_means.append( -cross_val_score(dtc_model, X_train, y_train, scoring='neg_log_loss').mean() )\n",
    "\n",
    "plt.plot(depths, log_loss_means)\n",
    "plt.xlabel('Depths')\n",
    "plt.ylabel('log_loss')\n",
    "plt.title('Using various max depths')\n",
    "plt.show()"
   ]
  },
  {
   "cell_type": "markdown",
   "metadata": {},
   "source": [
    "Max depth has no effect."
   ]
  },
  {
   "cell_type": "markdown",
   "metadata": {},
   "source": [
    "#### max_features"
   ]
  },
  {
   "cell_type": "code",
   "execution_count": 14,
   "metadata": {},
   "outputs": [
    {
     "name": "stderr",
     "output_type": "stream",
     "text": [
      "/home/iain/.local/lib/python3.8/site-packages/sklearn/tree/_classes.py:298: FutureWarning: `max_features='auto'` has been deprecated in 1.1 and will be removed in 1.3. To keep the past behaviour, explicitly set `max_features='sqrt'`.\n",
      "  warnings.warn(\n",
      "/home/iain/.local/lib/python3.8/site-packages/sklearn/tree/_classes.py:298: FutureWarning: `max_features='auto'` has been deprecated in 1.1 and will be removed in 1.3. To keep the past behaviour, explicitly set `max_features='sqrt'`.\n",
      "  warnings.warn(\n",
      "/home/iain/.local/lib/python3.8/site-packages/sklearn/tree/_classes.py:298: FutureWarning: `max_features='auto'` has been deprecated in 1.1 and will be removed in 1.3. To keep the past behaviour, explicitly set `max_features='sqrt'`.\n",
      "  warnings.warn(\n",
      "/home/iain/.local/lib/python3.8/site-packages/sklearn/tree/_classes.py:298: FutureWarning: `max_features='auto'` has been deprecated in 1.1 and will be removed in 1.3. To keep the past behaviour, explicitly set `max_features='sqrt'`.\n",
      "  warnings.warn(\n",
      "/home/iain/.local/lib/python3.8/site-packages/sklearn/tree/_classes.py:298: FutureWarning: `max_features='auto'` has been deprecated in 1.1 and will be removed in 1.3. To keep the past behaviour, explicitly set `max_features='sqrt'`.\n",
      "  warnings.warn(\n"
     ]
    },
    {
     "data": {
      "image/png": "[encoded data removed]",
      "text/plain": [
       "<Figure size 432x288 with 1 Axes>"
      ]
     },
     "metadata": {
      "needs_background": "light"
     },
     "output_type": "display_data"
    }
   ],
   "source": [
    "features = ['auto', 'sqrt', 'log2']\n",
    "log_loss_means = []\n",
    "\n",
    "for feature in features:\n",
    "    dtc_model = DecisionTreeClassifier(criterion='entropy', random_state=21, min_samples_split=460, min_samples_leaf=70, max_features=feature)\n",
    "    log_loss_means.append( -cross_val_score(dtc_model, X_train, y_train, scoring='neg_log_loss').mean() )\n",
    "\n",
    "plt.plot(features, log_loss_means)\n",
    "plt.xlabel('features')\n",
    "plt.ylabel('log_loss')\n",
    "plt.xticks(features)\n",
    "plt.title('Using various max features')\n",
    "plt.show()"
   ]
  },
  {
   "cell_type": "markdown",
   "metadata": {},
   "source": [
    "No effect was notice hence will stick with these parameters: criterion='entropy', random_state=21, min_samples_split=460, min_samples_leaf=70."
   ]
  },
  {
   "cell_type": "markdown",
   "metadata": {},
   "source": [
    "## The best model"
   ]
  },
  {
   "cell_type": "code",
   "execution_count": 15,
   "metadata": {},
   "outputs": [
    {
     "data": {
      "text/html": [
       "<style>#sk-container-id-1 {color: black;background-color: white;}#sk-container-id-1 pre{padding: 0;}#sk-container-id-1 div.sk-toggleable {background-color: white;}#sk-container-id-1 label.sk-toggleable__label {cursor: pointer;display: block;width: 100%;margin-bottom: 0;padding: 0.3em;box-sizing: border-box;text-align: center;}#sk-container-id-1 label.sk-toggleable__label-arrow:before {content: \"▸\";float: left;margin-right: 0.25em;color: #696969;}#sk-container-id-1 label.sk-toggleable__label-arrow:hover:before {color: black;}#sk-container-id-1 div.sk-estimator:hover label.sk-toggleable__label-arrow:before {color: black;}#sk-container-id-1 div.sk-toggleable__content {max-height: 0;max-width: 0;overflow: hidden;text-align: left;background-color: #f0f8ff;}#sk-container-id-1 div.sk-toggleable__content pre {margin: 0.2em;color: black;border-radius: 0.25em;background-color: #f0f8ff;}#sk-container-id-1 input.sk-toggleable__control:checked~div.sk-toggleable__content {max-height: 200px;max-width: 100%;overflow: auto;}#sk-container-id-1 input.sk-toggleable__control:checked~label.sk-toggleable__label-arrow:before {content: \"▾\";}#sk-container-id-1 div.sk-estimator input.sk-toggleable__control:checked~label.sk-toggleable__label {background-color: #d4ebff;}#sk-container-id-1 div.sk-label input.sk-toggleable__control:checked~label.sk-toggleable__label {background-color: #d4ebff;}#sk-container-id-1 input.sk-hidden--visually {border: 0;clip: rect(1px 1px 1px 1px);clip: rect(1px, 1px, 1px, 1px);height: 1px;margin: -1px;overflow: hidden;padding: 0;position: absolute;width: 1px;}#sk-container-id-1 div.sk-estimator {font-family: monospace;background-color: #f0f8ff;border: 1px dotted black;border-radius: 0.25em;box-sizing: border-box;margin-bottom: 0.5em;}#sk-container-id-1 div.sk-estimator:hover {background-color: #d4ebff;}#sk-container-id-1 div.sk-parallel-item::after {content: \"\";width: 100%;border-bottom: 1px solid gray;flex-grow: 1;}#sk-container-id-1 div.sk-label:hover label.sk-toggleable__label {background-color: #d4ebff;}#sk-container-id-1 div.sk-serial::before {content: \"\";position: absolute;border-left: 1px solid gray;box-sizing: border-box;top: 0;bottom: 0;left: 50%;z-index: 0;}#sk-container-id-1 div.sk-serial {display: flex;flex-direction: column;align-items: center;background-color: white;padding-right: 0.2em;padding-left: 0.2em;position: relative;}#sk-container-id-1 div.sk-item {position: relative;z-index: 1;}#sk-container-id-1 div.sk-parallel {display: flex;align-items: stretch;justify-content: center;background-color: white;position: relative;}#sk-container-id-1 div.sk-item::before, #sk-container-id-1 div.sk-parallel-item::before {content: \"\";position: absolute;border-left: 1px solid gray;box-sizing: border-box;top: 0;bottom: 0;left: 50%;z-index: -1;}#sk-container-id-1 div.sk-parallel-item {display: flex;flex-direction: column;z-index: 1;position: relative;background-color: white;}#sk-container-id-1 div.sk-parallel-item:first-child::after {align-self: flex-end;width: 50%;}#sk-container-id-1 div.sk-parallel-item:last-child::after {align-self: flex-start;width: 50%;}#sk-container-id-1 div.sk-parallel-item:only-child::after {width: 0;}#sk-container-id-1 div.sk-dashed-wrapped {border: 1px dashed gray;margin: 0 0.4em 0.5em 0.4em;box-sizing: border-box;padding-bottom: 0.4em;background-color: white;}#sk-container-id-1 div.sk-label label {font-family: monospace;font-weight: bold;display: inline-block;line-height: 1.2em;}#sk-container-id-1 div.sk-label-container {text-align: center;}#sk-container-id-1 div.sk-container {/* jupyter's `normalize.less` sets `[hidden] { display: none; }` but bootstrap.min.css set `[hidden] { display: none !important; }` so we also need the `!important` here to be able to override the default hidden behavior on the sphinx rendered scikit-learn.org. See: https://github.com/scikit-learn/scikit-learn/issues/21755 */display: inline-block !important;position: relative;}#sk-container-id-1 div.sk-text-repr-fallback {display: none;}</style><div id=\"sk-container-id-1\" class=\"sk-top-container\"><div class=\"sk-text-repr-fallback\"><pre>DecisionTreeClassifier(criterion=&#x27;entropy&#x27;, min_samples_leaf=70,\n",
       "                       min_samples_split=460, random_state=21)</pre><b>In a Jupyter environment, please rerun this cell to show the HTML representation or trust the notebook. <br />On GitHub, the HTML representation is unable to render, please try loading this page with nbviewer.org.</b></div><div class=\"sk-container\" hidden><div class=\"sk-item\"><div class=\"sk-estimator sk-toggleable\"><input class=\"sk-toggleable__control sk-hidden--visually\" id=\"sk-estimator-id-1\" type=\"checkbox\" checked><label for=\"sk-estimator-id-1\" class=\"sk-toggleable__label sk-toggleable__label-arrow\">DecisionTreeClassifier</label><div class=\"sk-toggleable__content\"><pre>DecisionTreeClassifier(criterion=&#x27;entropy&#x27;, min_samples_leaf=70,\n",
       "                       min_samples_split=460, random_state=21)</pre></div></div></div></div></div>"
      ],
      "text/plain": [
       "DecisionTreeClassifier(criterion='entropy', min_samples_leaf=70,\n",
       "                       min_samples_split=460, random_state=21)"
      ]
     },
     "execution_count": 15,
     "metadata": {},
     "output_type": "execute_result"
    }
   ],
   "source": [
    "best_dtr_model = DecisionTreeClassifier(criterion='entropy', random_state=21, min_samples_split=460, min_samples_leaf=70)\n",
    "best_dtr_model.fit(X_train, y_train)"
   ]
  },
  {
   "cell_type": "code",
   "execution_count": 16,
   "metadata": {},
   "outputs": [
    {
     "name": "stdout",
     "output_type": "stream",
     "text": [
      "Decision Tree Classifier best model results on the testing set.\n",
      "The precision score is:\t 0.8650190114068441\n",
      "The recall score is:\t 0.35184039591710486\n",
      "The accuracy score is:\t 0.4038814581694204\n",
      "The log loss is:\t 1.0795925417093906\n",
      "The auc is:\t\t 0.5751580548652366\n"
     ]
    }
   ],
   "source": [
    "y_preds_best = best_dtr_model.predict(X_test)\n",
    "y_preds_best_probs = best_dtr_model.predict_proba(X_test)[:, 1]\n",
    "print('Decision Tree Classifier best model results on the testing set.')\n",
    "scores(y_test, y_preds_best, y_preds_best_probs)"
   ]
  },
  {
   "cell_type": "markdown",
   "metadata": {},
   "source": [
    "checking if there is overfitting."
   ]
  },
  {
   "cell_type": "code",
   "execution_count": 17,
   "metadata": {},
   "outputs": [
    {
     "name": "stdout",
     "output_type": "stream",
     "text": [
      "Decision Tree Classifier best model results on the training set\n",
      "The precision score is:\t 0.8567722938867078\n",
      "The recall score is:\t 0.8187726115503149\n",
      "The accuracy score is:\t 0.8409486801554334\n",
      "The log loss is:\t 0.3481531089891455\n",
      "The auc is:\t\t 0.9218793419010851\n"
     ]
    }
   ],
   "source": [
    "y_train_best = best_dtr_model.predict(X_train)\n",
    "y_train_best_probs = best_dtr_model.predict_proba(X_train)[:, 1]\n",
    "print('Decision Tree Classifier best model results on the training set')\n",
    "scores(y_train, y_train_best, y_train_best_probs)"
   ]
  },
  {
   "cell_type": "markdown",
   "metadata": {},
   "source": [
    "Overfitting is not present."
   ]
  },
  {
   "cell_type": "code",
   "execution_count": 18,
   "metadata": {},
   "outputs": [
    {
     "name": "stderr",
     "output_type": "stream",
     "text": [
      "/home/iain/.local/lib/python3.8/site-packages/sklearn/utils/deprecation.py:87: FutureWarning: Function plot_confusion_matrix is deprecated; Function `plot_confusion_matrix` is deprecated in 1.0 and will be removed in 1.2. Use one of the class methods: ConfusionMatrixDisplay.from_predictions or ConfusionMatrixDisplay.from_estimator.\n",
      "  warnings.warn(msg, category=FutureWarning)\n"
     ]
    },
    {
     "data": {
      "image/png": "[encoded data removed]",
      "text/plain": [
       "<Figure size 432x288 with 2 Axes>"
      ]
     },
     "metadata": {
      "needs_background": "light"
     },
     "output_type": "display_data"
    }
   ],
   "source": [
    "# confusion matrix\n",
    "plot_confusion_matrix(best_dtr_model, X_test, y_test)\n",
    "plt.show()"
   ]
  },
  {
   "cell_type": "markdown",
   "metadata": {},
   "source": [
    "This model clearly perfomrs worse than the best logistic regression model. I will ensemble methods to see if I can boost"
   ]
  },
  {
   "cell_type": "markdown",
   "metadata": {},
   "source": [
    "## Bagged Tree Classifier"
   ]
  },
  {
   "cell_type": "markdown",
   "metadata": {},
   "source": [
    "Before intializing a bagging classifier model I will first start with finding the best number of estimators."
   ]
  },
  {
   "cell_type": "code",
   "execution_count": 21,
   "metadata": {},
   "outputs": [
    {
     "data": {
      "image/png": "[encoded data removed]",
      "text/plain": [
       "<Figure size 432x288 with 1 Axes>"
      ]
     },
     "metadata": {
      "needs_background": "light"
     },
     "output_type": "display_data"
    }
   ],
   "source": [
    "estimators = [20,300]\n",
    "log_loss_means = []\n",
    "\n",
    "for estimator in estimators:\n",
    "    btc_model = BaggingClassifier(DecisionTreeClassifier(criterion='entropy', random_state=21, min_samples_split=460, min_samples_leaf=70), n_estimators=estimator)\n",
    "    log_loss_means.append( -cross_val_score(btc_model, X_train, y_train, scoring='neg_log_loss').mean() )\n",
    "\n",
    "plt.plot(estimators, log_loss_means)\n",
    "plt.xlabel('estimators')\n",
    "plt.ylabel('log_loss')\n",
    "plt.title('Using various Estimators')\n",
    "plt.show()"
   ]
  },
  {
   "cell_type": "markdown",
   "metadata": {},
   "source": [
    "n_estimators = 200 produced a lesser log loss"
   ]
  },
  {
   "cell_type": "markdown",
   "metadata": {},
   "source": [
    "### Creating a baggingClassifier"
   ]
  },
  {
   "cell_type": "code",
   "execution_count": null,
   "metadata": {},
   "outputs": [
    {
     "data": {
      "text/html": [
       "<style>#sk-container-id-10 {color: black;background-color: white;}#sk-container-id-10 pre{padding: 0;}#sk-container-id-10 div.sk-toggleable {background-color: white;}#sk-container-id-10 label.sk-toggleable__label {cursor: pointer;display: block;width: 100%;margin-bottom: 0;padding: 0.3em;box-sizing: border-box;text-align: center;}#sk-container-id-10 label.sk-toggleable__label-arrow:before {content: \"▸\";float: left;margin-right: 0.25em;color: #696969;}#sk-container-id-10 label.sk-toggleable__label-arrow:hover:before {color: black;}#sk-container-id-10 div.sk-estimator:hover label.sk-toggleable__label-arrow:before {color: black;}#sk-container-id-10 div.sk-toggleable__content {max-height: 0;max-width: 0;overflow: hidden;text-align: left;background-color: #f0f8ff;}#sk-container-id-10 div.sk-toggleable__content pre {margin: 0.2em;color: black;border-radius: 0.25em;background-color: #f0f8ff;}#sk-container-id-10 input.sk-toggleable__control:checked~div.sk-toggleable__content {max-height: 200px;max-width: 100%;overflow: auto;}#sk-container-id-10 input.sk-toggleable__control:checked~label.sk-toggleable__label-arrow:before {content: \"▾\";}#sk-container-id-10 div.sk-estimator input.sk-toggleable__control:checked~label.sk-toggleable__label {background-color: #d4ebff;}#sk-container-id-10 div.sk-label input.sk-toggleable__control:checked~label.sk-toggleable__label {background-color: #d4ebff;}#sk-container-id-10 input.sk-hidden--visually {border: 0;clip: rect(1px 1px 1px 1px);clip: rect(1px, 1px, 1px, 1px);height: 1px;margin: -1px;overflow: hidden;padding: 0;position: absolute;width: 1px;}#sk-container-id-10 div.sk-estimator {font-family: monospace;background-color: #f0f8ff;border: 1px dotted black;border-radius: 0.25em;box-sizing: border-box;margin-bottom: 0.5em;}#sk-container-id-10 div.sk-estimator:hover {background-color: #d4ebff;}#sk-container-id-10 div.sk-parallel-item::after {content: \"\";width: 100%;border-bottom: 1px solid gray;flex-grow: 1;}#sk-container-id-10 div.sk-label:hover label.sk-toggleable__label {background-color: #d4ebff;}#sk-container-id-10 div.sk-serial::before {content: \"\";position: absolute;border-left: 1px solid gray;box-sizing: border-box;top: 0;bottom: 0;left: 50%;z-index: 0;}#sk-container-id-10 div.sk-serial {display: flex;flex-direction: column;align-items: center;background-color: white;padding-right: 0.2em;padding-left: 0.2em;position: relative;}#sk-container-id-10 div.sk-item {position: relative;z-index: 1;}#sk-container-id-10 div.sk-parallel {display: flex;align-items: stretch;justify-content: center;background-color: white;position: relative;}#sk-container-id-10 div.sk-item::before, #sk-container-id-10 div.sk-parallel-item::before {content: \"\";position: absolute;border-left: 1px solid gray;box-sizing: border-box;top: 0;bottom: 0;left: 50%;z-index: -1;}#sk-container-id-10 div.sk-parallel-item {display: flex;flex-direction: column;z-index: 1;position: relative;background-color: white;}#sk-container-id-10 div.sk-parallel-item:first-child::after {align-self: flex-end;width: 50%;}#sk-container-id-10 div.sk-parallel-item:last-child::after {align-self: flex-start;width: 50%;}#sk-container-id-10 div.sk-parallel-item:only-child::after {width: 0;}#sk-container-id-10 div.sk-dashed-wrapped {border: 1px dashed gray;margin: 0 0.4em 0.5em 0.4em;box-sizing: border-box;padding-bottom: 0.4em;background-color: white;}#sk-container-id-10 div.sk-label label {font-family: monospace;font-weight: bold;display: inline-block;line-height: 1.2em;}#sk-container-id-10 div.sk-label-container {text-align: center;}#sk-container-id-10 div.sk-container {/* jupyter's `normalize.less` sets `[hidden] { display: none; }` but bootstrap.min.css set `[hidden] { display: none !important; }` so we also need the `!important` here to be able to override the default hidden behavior on the sphinx rendered scikit-learn.org. See: https://github.com/scikit-learn/scikit-learn/issues/21755 */display: inline-block !important;position: relative;}#sk-container-id-10 div.sk-text-repr-fallback {display: none;}</style><div id=\"sk-container-id-10\" class=\"sk-top-container\"><div class=\"sk-text-repr-fallback\"><pre>BaggingClassifier(base_estimator=DecisionTreeClassifier(criterion=&#x27;entropy&#x27;,\n",
       "                                                        min_samples_leaf=70,\n",
       "                                                        min_samples_split=460,\n",
       "                                                        random_state=21),\n",
       "                  n_estimators=200)</pre><b>In a Jupyter environment, please rerun this cell to show the HTML representation or trust the notebook. <br />On GitHub, the HTML representation is unable to render, please try loading this page with nbviewer.org.</b></div><div class=\"sk-container\" hidden><div class=\"sk-item sk-dashed-wrapped\"><div class=\"sk-label-container\"><div class=\"sk-label sk-toggleable\"><input class=\"sk-toggleable__control sk-hidden--visually\" id=\"sk-estimator-id-26\" type=\"checkbox\" ><label for=\"sk-estimator-id-26\" class=\"sk-toggleable__label sk-toggleable__label-arrow\">BaggingClassifier</label><div class=\"sk-toggleable__content\"><pre>BaggingClassifier(base_estimator=DecisionTreeClassifier(criterion=&#x27;entropy&#x27;,\n",
       "                                                        min_samples_leaf=70,\n",
       "                                                        min_samples_split=460,\n",
       "                                                        random_state=21),\n",
       "                  n_estimators=200)</pre></div></div></div><div class=\"sk-parallel\"><div class=\"sk-parallel-item\"><div class=\"sk-item\"><div class=\"sk-label-container\"><div class=\"sk-label sk-toggleable\"><input class=\"sk-toggleable__control sk-hidden--visually\" id=\"sk-estimator-id-27\" type=\"checkbox\" ><label for=\"sk-estimator-id-27\" class=\"sk-toggleable__label sk-toggleable__label-arrow\">base_estimator: DecisionTreeClassifier</label><div class=\"sk-toggleable__content\"><pre>DecisionTreeClassifier(criterion=&#x27;entropy&#x27;, min_samples_leaf=70,\n",
       "                       min_samples_split=460, random_state=21)</pre></div></div></div><div class=\"sk-serial\"><div class=\"sk-item\"><div class=\"sk-estimator sk-toggleable\"><input class=\"sk-toggleable__control sk-hidden--visually\" id=\"sk-estimator-id-28\" type=\"checkbox\" ><label for=\"sk-estimator-id-28\" class=\"sk-toggleable__label sk-toggleable__label-arrow\">DecisionTreeClassifier</label><div class=\"sk-toggleable__content\"><pre>DecisionTreeClassifier(criterion=&#x27;entropy&#x27;, min_samples_leaf=70,\n",
       "                       min_samples_split=460, random_state=21)</pre></div></div></div></div></div></div></div></div></div></div>"
      ],
      "text/plain": [
       "BaggingClassifier(base_estimator=DecisionTreeClassifier(criterion='entropy',\n",
       "                                                        min_samples_leaf=70,\n",
       "                                                        min_samples_split=460,\n",
       "                                                        random_state=21),\n",
       "                  n_estimators=200)"
      ]
     },
     "execution_count": 57,
     "metadata": {},
     "output_type": "execute_result"
    }
   ],
   "source": [
    "bagging_classifier = BaggingClassifier(DecisionTreeClassifier(criterion='entropy', random_state=21, min_samples_split=460, min_samples_leaf=70), n_estimators=200)\n",
    "bagging_classifier.fit(X_train, y_train)"
   ]
  },
  {
   "cell_type": "code",
   "execution_count": null,
   "metadata": {},
   "outputs": [
    {
     "name": "stdout",
     "output_type": "stream",
     "text": [
      "Decision Tree Classifier best model results on the training set\n",
      "The precision score is:\t 0.8452995463788519\n",
      "The recall score is:\t 0.8357562635323229\n",
      "The accuracy score is:\t 0.7310516653553633\n",
      "The log loss is:\t 0.6584896541834552\n",
      "The auc is:\t\t 0.5044697329266082\n"
     ]
    }
   ],
   "source": [
    "y_test_bag = bagging_classifier.predict(X_test)\n",
    "y_test_bag_probs = bagging_classifier.predict_proba(X_test)[:, 1]\n",
    "print('Decision Tree Classifier best model results on the test set')\n",
    "scores(y_test, y_test_bag, y_test_bag_probs)"
   ]
  },
  {
   "cell_type": "code",
   "execution_count": null,
   "metadata": {},
   "outputs": [
    {
     "name": "stderr",
     "output_type": "stream",
     "text": [
      "/home/iain/.local/lib/python3.8/site-packages/sklearn/utils/deprecation.py:87: FutureWarning: Function plot_confusion_matrix is deprecated; Function `plot_confusion_matrix` is deprecated in 1.0 and will be removed in 1.2. Use one of the class methods: ConfusionMatrixDisplay.from_predictions or ConfusionMatrixDisplay.from_estimator.\n",
      "  warnings.warn(msg, category=FutureWarning)\n"
     ]
    },
    {
     "data": {
      "image/png": "[encoded data removed]",
      "text/plain": [
       "<Figure size 432x288 with 2 Axes>"
      ]
     },
     "metadata": {
      "needs_background": "light"
     },
     "output_type": "display_data"
    }
   ],
   "source": [
    "# confusion matrix\n",
    "plot_confusion_matrix(bagging_classifier, X_test, y_test)\n",
    "plt.show()"
   ]
  },
  {
   "cell_type": "markdown",
   "metadata": {},
   "source": [
    "## Random forest Classifier"
   ]
  },
  {
   "cell_type": "markdown",
   "metadata": {},
   "source": [
    "Before intializing a Random forest classifier model I will first start with finding the best number of estimators. Using the same parameters as the one obtained in the best decision tree regression model."
   ]
  },
  {
   "cell_type": "code",
   "execution_count": null,
   "metadata": {},
   "outputs": [],
   "source": [
    "grid_params = {\n",
    "    'criterion': ['entropy'],\n",
    "    'min_samples_split': [460],\n",
    "    'min_samples_leaf': [70],\n",
    "    'n_estimators': [10,100,200,300]\n",
    "}\n"
   ]
  },
  {
   "cell_type": "code",
   "execution_count": null,
   "metadata": {},
   "outputs": [
    {
     "data": {
      "text/html": [
       "<style>#sk-container-id-12 {color: black;background-color: white;}#sk-container-id-12 pre{padding: 0;}#sk-container-id-12 div.sk-toggleable {background-color: white;}#sk-container-id-12 label.sk-toggleable__label {cursor: pointer;display: block;width: 100%;margin-bottom: 0;padding: 0.3em;box-sizing: border-box;text-align: center;}#sk-container-id-12 label.sk-toggleable__label-arrow:before {content: \"▸\";float: left;margin-right: 0.25em;color: #696969;}#sk-container-id-12 label.sk-toggleable__label-arrow:hover:before {color: black;}#sk-container-id-12 div.sk-estimator:hover label.sk-toggleable__label-arrow:before {color: black;}#sk-container-id-12 div.sk-toggleable__content {max-height: 0;max-width: 0;overflow: hidden;text-align: left;background-color: #f0f8ff;}#sk-container-id-12 div.sk-toggleable__content pre {margin: 0.2em;color: black;border-radius: 0.25em;background-color: #f0f8ff;}#sk-container-id-12 input.sk-toggleable__control:checked~div.sk-toggleable__content {max-height: 200px;max-width: 100%;overflow: auto;}#sk-container-id-12 input.sk-toggleable__control:checked~label.sk-toggleable__label-arrow:before {content: \"▾\";}#sk-container-id-12 div.sk-estimator input.sk-toggleable__control:checked~label.sk-toggleable__label {background-color: #d4ebff;}#sk-container-id-12 div.sk-label input.sk-toggleable__control:checked~label.sk-toggleable__label {background-color: #d4ebff;}#sk-container-id-12 input.sk-hidden--visually {border: 0;clip: rect(1px 1px 1px 1px);clip: rect(1px, 1px, 1px, 1px);height: 1px;margin: -1px;overflow: hidden;padding: 0;position: absolute;width: 1px;}#sk-container-id-12 div.sk-estimator {font-family: monospace;background-color: #f0f8ff;border: 1px dotted black;border-radius: 0.25em;box-sizing: border-box;margin-bottom: 0.5em;}#sk-container-id-12 div.sk-estimator:hover {background-color: #d4ebff;}#sk-container-id-12 div.sk-parallel-item::after {content: \"\";width: 100%;border-bottom: 1px solid gray;flex-grow: 1;}#sk-container-id-12 div.sk-label:hover label.sk-toggleable__label {background-color: #d4ebff;}#sk-container-id-12 div.sk-serial::before {content: \"\";position: absolute;border-left: 1px solid gray;box-sizing: border-box;top: 0;bottom: 0;left: 50%;z-index: 0;}#sk-container-id-12 div.sk-serial {display: flex;flex-direction: column;align-items: center;background-color: white;padding-right: 0.2em;padding-left: 0.2em;position: relative;}#sk-container-id-12 div.sk-item {position: relative;z-index: 1;}#sk-container-id-12 div.sk-parallel {display: flex;align-items: stretch;justify-content: center;background-color: white;position: relative;}#sk-container-id-12 div.sk-item::before, #sk-container-id-12 div.sk-parallel-item::before {content: \"\";position: absolute;border-left: 1px solid gray;box-sizing: border-box;top: 0;bottom: 0;left: 50%;z-index: -1;}#sk-container-id-12 div.sk-parallel-item {display: flex;flex-direction: column;z-index: 1;position: relative;background-color: white;}#sk-container-id-12 div.sk-parallel-item:first-child::after {align-self: flex-end;width: 50%;}#sk-container-id-12 div.sk-parallel-item:last-child::after {align-self: flex-start;width: 50%;}#sk-container-id-12 div.sk-parallel-item:only-child::after {width: 0;}#sk-container-id-12 div.sk-dashed-wrapped {border: 1px dashed gray;margin: 0 0.4em 0.5em 0.4em;box-sizing: border-box;padding-bottom: 0.4em;background-color: white;}#sk-container-id-12 div.sk-label label {font-family: monospace;font-weight: bold;display: inline-block;line-height: 1.2em;}#sk-container-id-12 div.sk-label-container {text-align: center;}#sk-container-id-12 div.sk-container {/* jupyter's `normalize.less` sets `[hidden] { display: none; }` but bootstrap.min.css set `[hidden] { display: none !important; }` so we also need the `!important` here to be able to override the default hidden behavior on the sphinx rendered scikit-learn.org. See: https://github.com/scikit-learn/scikit-learn/issues/21755 */display: inline-block !important;position: relative;}#sk-container-id-12 div.sk-text-repr-fallback {display: none;}</style><div id=\"sk-container-id-12\" class=\"sk-top-container\"><div class=\"sk-text-repr-fallback\"><pre>GridSearchCV(cv=4, estimator=RandomForestClassifier(),\n",
       "             param_grid={&#x27;criterion&#x27;: [&#x27;entropy&#x27;], &#x27;min_samples_leaf&#x27;: [70],\n",
       "                         &#x27;min_samples_split&#x27;: [460],\n",
       "                         &#x27;n_estimators&#x27;: [10, 100, 200, 300]})</pre><b>In a Jupyter environment, please rerun this cell to show the HTML representation or trust the notebook. <br />On GitHub, the HTML representation is unable to render, please try loading this page with nbviewer.org.</b></div><div class=\"sk-container\" hidden><div class=\"sk-item sk-dashed-wrapped\"><div class=\"sk-label-container\"><div class=\"sk-label sk-toggleable\"><input class=\"sk-toggleable__control sk-hidden--visually\" id=\"sk-estimator-id-32\" type=\"checkbox\" ><label for=\"sk-estimator-id-32\" class=\"sk-toggleable__label sk-toggleable__label-arrow\">GridSearchCV</label><div class=\"sk-toggleable__content\"><pre>GridSearchCV(cv=4, estimator=RandomForestClassifier(),\n",
       "             param_grid={&#x27;criterion&#x27;: [&#x27;entropy&#x27;], &#x27;min_samples_leaf&#x27;: [70],\n",
       "                         &#x27;min_samples_split&#x27;: [460],\n",
       "                         &#x27;n_estimators&#x27;: [10, 100, 200, 300]})</pre></div></div></div><div class=\"sk-parallel\"><div class=\"sk-parallel-item\"><div class=\"sk-item\"><div class=\"sk-label-container\"><div class=\"sk-label sk-toggleable\"><input class=\"sk-toggleable__control sk-hidden--visually\" id=\"sk-estimator-id-33\" type=\"checkbox\" ><label for=\"sk-estimator-id-33\" class=\"sk-toggleable__label sk-toggleable__label-arrow\">estimator: RandomForestClassifier</label><div class=\"sk-toggleable__content\"><pre>RandomForestClassifier()</pre></div></div></div><div class=\"sk-serial\"><div class=\"sk-item\"><div class=\"sk-estimator sk-toggleable\"><input class=\"sk-toggleable__control sk-hidden--visually\" id=\"sk-estimator-id-34\" type=\"checkbox\" ><label for=\"sk-estimator-id-34\" class=\"sk-toggleable__label sk-toggleable__label-arrow\">RandomForestClassifier</label><div class=\"sk-toggleable__content\"><pre>RandomForestClassifier()</pre></div></div></div></div></div></div></div></div></div></div>"
      ],
      "text/plain": [
       "GridSearchCV(cv=4, estimator=RandomForestClassifier(),\n",
       "             param_grid={'criterion': ['entropy'], 'min_samples_leaf': [70],\n",
       "                         'min_samples_split': [460],\n",
       "                         'n_estimators': [10, 100, 200, 300]})"
      ]
     },
     "execution_count": 76,
     "metadata": {},
     "output_type": "execute_result"
    }
   ],
   "source": [
    "rfc = RandomForestClassifier()\n",
    "grid_search = GridSearchCV(rfc, grid_params, cv=4)\n",
    "grid_search.fit(X_train, y_train)"
   ]
  },
  {
   "cell_type": "code",
   "execution_count": null,
   "metadata": {},
   "outputs": [
    {
     "data": {
      "text/plain": [
       "{'criterion': 'entropy',\n",
       " 'min_samples_leaf': 70,\n",
       " 'min_samples_split': 460,\n",
       " 'n_estimators': 200}"
      ]
     },
     "execution_count": 77,
     "metadata": {},
     "output_type": "execute_result"
    }
   ],
   "source": [
    "grid_search.best_params_"
   ]
  },
  {
   "cell_type": "markdown",
   "metadata": {},
   "source": [
    "The best parameter for the RandomForestClassifier are {'criterion': 'entropy', 'min_samples_leaf': 70, 'min_samples_split': 460, 'n_estimators': 200}"
   ]
  },
  {
   "cell_type": "code",
   "execution_count": null,
   "metadata": {},
   "outputs": [
    {
     "data": {
      "text/html": [
       "<style>#sk-container-id-14 {color: black;background-color: white;}#sk-container-id-14 pre{padding: 0;}#sk-container-id-14 div.sk-toggleable {background-color: white;}#sk-container-id-14 label.sk-toggleable__label {cursor: pointer;display: block;width: 100%;margin-bottom: 0;padding: 0.3em;box-sizing: border-box;text-align: center;}#sk-container-id-14 label.sk-toggleable__label-arrow:before {content: \"▸\";float: left;margin-right: 0.25em;color: #696969;}#sk-container-id-14 label.sk-toggleable__label-arrow:hover:before {color: black;}#sk-container-id-14 div.sk-estimator:hover label.sk-toggleable__label-arrow:before {color: black;}#sk-container-id-14 div.sk-toggleable__content {max-height: 0;max-width: 0;overflow: hidden;text-align: left;background-color: #f0f8ff;}#sk-container-id-14 div.sk-toggleable__content pre {margin: 0.2em;color: black;border-radius: 0.25em;background-color: #f0f8ff;}#sk-container-id-14 input.sk-toggleable__control:checked~div.sk-toggleable__content {max-height: 200px;max-width: 100%;overflow: auto;}#sk-container-id-14 input.sk-toggleable__control:checked~label.sk-toggleable__label-arrow:before {content: \"▾\";}#sk-container-id-14 div.sk-estimator input.sk-toggleable__control:checked~label.sk-toggleable__label {background-color: #d4ebff;}#sk-container-id-14 div.sk-label input.sk-toggleable__control:checked~label.sk-toggleable__label {background-color: #d4ebff;}#sk-container-id-14 input.sk-hidden--visually {border: 0;clip: rect(1px 1px 1px 1px);clip: rect(1px, 1px, 1px, 1px);height: 1px;margin: -1px;overflow: hidden;padding: 0;position: absolute;width: 1px;}#sk-container-id-14 div.sk-estimator {font-family: monospace;background-color: #f0f8ff;border: 1px dotted black;border-radius: 0.25em;box-sizing: border-box;margin-bottom: 0.5em;}#sk-container-id-14 div.sk-estimator:hover {background-color: #d4ebff;}#sk-container-id-14 div.sk-parallel-item::after {content: \"\";width: 100%;border-bottom: 1px solid gray;flex-grow: 1;}#sk-container-id-14 div.sk-label:hover label.sk-toggleable__label {background-color: #d4ebff;}#sk-container-id-14 div.sk-serial::before {content: \"\";position: absolute;border-left: 1px solid gray;box-sizing: border-box;top: 0;bottom: 0;left: 50%;z-index: 0;}#sk-container-id-14 div.sk-serial {display: flex;flex-direction: column;align-items: center;background-color: white;padding-right: 0.2em;padding-left: 0.2em;position: relative;}#sk-container-id-14 div.sk-item {position: relative;z-index: 1;}#sk-container-id-14 div.sk-parallel {display: flex;align-items: stretch;justify-content: center;background-color: white;position: relative;}#sk-container-id-14 div.sk-item::before, #sk-container-id-14 div.sk-parallel-item::before {content: \"\";position: absolute;border-left: 1px solid gray;box-sizing: border-box;top: 0;bottom: 0;left: 50%;z-index: -1;}#sk-container-id-14 div.sk-parallel-item {display: flex;flex-direction: column;z-index: 1;position: relative;background-color: white;}#sk-container-id-14 div.sk-parallel-item:first-child::after {align-self: flex-end;width: 50%;}#sk-container-id-14 div.sk-parallel-item:last-child::after {align-self: flex-start;width: 50%;}#sk-container-id-14 div.sk-parallel-item:only-child::after {width: 0;}#sk-container-id-14 div.sk-dashed-wrapped {border: 1px dashed gray;margin: 0 0.4em 0.5em 0.4em;box-sizing: border-box;padding-bottom: 0.4em;background-color: white;}#sk-container-id-14 div.sk-label label {font-family: monospace;font-weight: bold;display: inline-block;line-height: 1.2em;}#sk-container-id-14 div.sk-label-container {text-align: center;}#sk-container-id-14 div.sk-container {/* jupyter's `normalize.less` sets `[hidden] { display: none; }` but bootstrap.min.css set `[hidden] { display: none !important; }` so we also need the `!important` here to be able to override the default hidden behavior on the sphinx rendered scikit-learn.org. See: https://github.com/scikit-learn/scikit-learn/issues/21755 */display: inline-block !important;position: relative;}#sk-container-id-14 div.sk-text-repr-fallback {display: none;}</style><div id=\"sk-container-id-14\" class=\"sk-top-container\"><div class=\"sk-text-repr-fallback\"><pre>RandomForestClassifier(criterion=&#x27;entropy&#x27;, min_samples_leaf=70,\n",
       "                       min_samples_split=460, n_estimators=200,\n",
       "                       random_state=21)</pre><b>In a Jupyter environment, please rerun this cell to show the HTML representation or trust the notebook. <br />On GitHub, the HTML representation is unable to render, please try loading this page with nbviewer.org.</b></div><div class=\"sk-container\" hidden><div class=\"sk-item\"><div class=\"sk-estimator sk-toggleable\"><input class=\"sk-toggleable__control sk-hidden--visually\" id=\"sk-estimator-id-38\" type=\"checkbox\" checked><label for=\"sk-estimator-id-38\" class=\"sk-toggleable__label sk-toggleable__label-arrow\">RandomForestClassifier</label><div class=\"sk-toggleable__content\"><pre>RandomForestClassifier(criterion=&#x27;entropy&#x27;, min_samples_leaf=70,\n",
       "                       min_samples_split=460, n_estimators=200,\n",
       "                       random_state=21)</pre></div></div></div></div></div>"
      ],
      "text/plain": [
       "RandomForestClassifier(criterion='entropy', min_samples_leaf=70,\n",
       "                       min_samples_split=460, n_estimators=200,\n",
       "                       random_state=21)"
      ]
     },
     "execution_count": 79,
     "metadata": {},
     "output_type": "execute_result"
    }
   ],
   "source": [
    "rf_classifier = RandomForestClassifier(criterion='entropy', random_state=21, min_samples_split=460, min_samples_leaf=70, n_estimators=200)\n",
    "rf_classifier.fit(X_train, y_train)"
   ]
  },
  {
   "cell_type": "code",
   "execution_count": null,
   "metadata": {},
   "outputs": [
    {
     "name": "stdout",
     "output_type": "stream",
     "text": [
      "RandomForest Classifier best model results on the training set\n",
      "The precision score is:\t 0.8649858272415336\n",
      "The recall score is:\t 0.896690380451593\n",
      "The accuracy score is:\t 0.7937319695777603\n",
      "The log loss is:\t 0.5406626313934763\n",
      "The auc is:\t\t 0.5538816435039517\n"
     ]
    }
   ],
   "source": [
    "y_test_rf_preds = rf_classifier.predict(X_test)\n",
    "y_test_rf_probs = rf_classifier.predict_proba(X_test)[:, 1]\n",
    "print('RandomForest Classifier best model results on the training set')\n",
    "scores(y_test, y_test_rf_preds, y_test_rf_probs)"
   ]
  },
  {
   "cell_type": "code",
   "execution_count": null,
   "metadata": {},
   "outputs": [
    {
     "name": "stderr",
     "output_type": "stream",
     "text": [
      "/home/iain/.local/lib/python3.8/site-packages/sklearn/utils/deprecation.py:87: FutureWarning: Function plot_confusion_matrix is deprecated; Function `plot_confusion_matrix` is deprecated in 1.0 and will be removed in 1.2. Use one of the class methods: ConfusionMatrixDisplay.from_predictions or ConfusionMatrixDisplay.from_estimator.\n",
      "  warnings.warn(msg, category=FutureWarning)\n"
     ]
    },
    {
     "data": {
      "image/png": "[encoded data removed]",
      "text/plain": [
       "<Figure size 432x288 with 2 Axes>"
      ]
     },
     "metadata": {
      "needs_background": "light"
     },
     "output_type": "display_data"
    }
   ],
   "source": [
    "# confusion matrix\n",
    "plot_confusion_matrix(rf_classifier, X_test, y_test)\n",
    "plt.show()"
   ]
  },
  {
   "cell_type": "markdown",
   "metadata": {},
   "source": [
    "This model performed better the the logistic regression, but can it do better."
   ]
  }
 ],
 "metadata": {
  "kernelspec": {
   "display_name": "Python 3.8.10 64-bit",
   "language": "python",
   "name": "python3"
  },
  "language_info": {
   "codemirror_mode": {
    "name": "ipython",
    "version": 3
   },
   "file_extension": ".py",
   "mimetype": "text/x-python",
   "name": "python",
   "nbconvert_exporter": "python",
   "pygments_lexer": "ipython3",
   "version": "3.8.10"
  },
  "orig_nbformat": 4,
  "vscode": {
   "interpreter": {
    "hash": "916dbcbb3f70747c44a77c7bcd40155683ae19c65e1c03b4aa3499c5328201f1"
   }
  }
 },
 "nbformat": 4,
 "nbformat_minor": 2
}
