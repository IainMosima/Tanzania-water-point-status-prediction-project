{
 "cells": [
  {
   "cell_type": "code",
   "execution_count": 1,
   "metadata": {},
   "outputs": [],
   "source": [
    "# Importing necessary libraries\n",
    "import pandas as pd\n",
    "import numpy as np\n",
    "import seaborn as sns\n",
    "from myfunctions import set_importer, scores\n",
    "import matplotlib.pyplot as plt\n",
    "from sklearn.model_selection import train_test_split, cross_val_score, GridSearchCV\n",
    "from sklearn.preprocessing import StandardScaler, LabelEncoder, OneHotEncoder\n",
    "from sklearn.linear_model import LogisticRegression\n",
    "from sklearn.feature_selection import RFECV, RFE\n",
    "from sklearn.metrics import accuracy_score, precision_score, recall_score, confusion_matrix, classification_report, plot_confusion_matrix\n",
    "from sklearn.ensemble import RandomForestClassifier, BaggingClassifier\n",
    "from sklearn.neighbors import KNeighborsClassifier\n",
    "\n",
    "\n",
    "pd.set_option('display.max_columns', None)\n",
    "\n",
    "sns.set_style(\"whitegrid\")\n",
    "%matplotlib inline\n",
    "\n",
    "# setting font size for all plots\n",
    "font = {'size'   : 16}\n",
    "\n",
    "plt.rc('font', **font)"
   ]
  },
  {
   "cell_type": "code",
   "execution_count": 2,
   "metadata": {},
   "outputs": [
    {
     "data": {
      "text/plain": [
       "(29852, 47)"
      ]
     },
     "metadata": {},
     "output_type": "display_data"
    },
    {
     "data": {
      "text/html": [
       "<div>\n",
       "<style scoped>\n",
       "    .dataframe tbody tr th:only-of-type {\n",
       "        vertical-align: middle;\n",
       "    }\n",
       "\n",
       "    .dataframe tbody tr th {\n",
       "        vertical-align: top;\n",
       "    }\n",
       "\n",
       "    .dataframe thead th {\n",
       "        text-align: right;\n",
       "    }\n",
       "</style>\n",
       "<table border=\"1\" class=\"dataframe\">\n",
       "  <thead>\n",
       "    <tr style=\"text-align: right;\">\n",
       "      <th></th>\n",
       "      <th>gps_height</th>\n",
       "      <th>longitude</th>\n",
       "      <th>latitude</th>\n",
       "      <th>region_code</th>\n",
       "      <th>district_code</th>\n",
       "      <th>population</th>\n",
       "      <th>permit</th>\n",
       "      <th>construction_year</th>\n",
       "      <th>basin_lake nyasa</th>\n",
       "      <th>basin_lake rukwa</th>\n",
       "      <th>basin_lake tanganyika</th>\n",
       "      <th>basin_lake victoria</th>\n",
       "      <th>basin_pangani</th>\n",
       "      <th>basin_rufiji</th>\n",
       "      <th>basin_ruvuma / southern coast</th>\n",
       "      <th>basin_wami / ruvu</th>\n",
       "      <th>extraction_type_class_handpump</th>\n",
       "      <th>extraction_type_class_motorpump</th>\n",
       "      <th>extraction_type_class_other</th>\n",
       "      <th>extraction_type_class_rope pump</th>\n",
       "      <th>extraction_type_class_submersible</th>\n",
       "      <th>extraction_type_class_wind-powered</th>\n",
       "      <th>management_group_other</th>\n",
       "      <th>management_group_parastatal</th>\n",
       "      <th>management_group_unknown</th>\n",
       "      <th>management_group_user-group</th>\n",
       "      <th>payment_other</th>\n",
       "      <th>payment_pay annually</th>\n",
       "      <th>payment_pay monthly</th>\n",
       "      <th>payment_pay per bucket</th>\n",
       "      <th>payment_pay when scheme fails</th>\n",
       "      <th>payment_unknown</th>\n",
       "      <th>quality_group_fluoride</th>\n",
       "      <th>quality_group_good</th>\n",
       "      <th>quality_group_milky</th>\n",
       "      <th>quality_group_salty</th>\n",
       "      <th>quality_group_unknown</th>\n",
       "      <th>quantity_group_enough</th>\n",
       "      <th>quantity_group_insufficient</th>\n",
       "      <th>quantity_group_seasonal</th>\n",
       "      <th>quantity_group_unknown</th>\n",
       "      <th>source_class_surface</th>\n",
       "      <th>source_class_unknown</th>\n",
       "      <th>waterpoint_type_group_communal standpipe</th>\n",
       "      <th>waterpoint_type_group_hand pump</th>\n",
       "      <th>waterpoint_type_group_improved spring</th>\n",
       "      <th>waterpoint_type_group_other</th>\n",
       "    </tr>\n",
       "  </thead>\n",
       "  <tbody>\n",
       "    <tr>\n",
       "      <th>0</th>\n",
       "      <td>-0.356274</td>\n",
       "      <td>1.723728</td>\n",
       "      <td>-1.640197</td>\n",
       "      <td>-0.393261</td>\n",
       "      <td>-0.194167</td>\n",
       "      <td>1.366671</td>\n",
       "      <td>0.66262</td>\n",
       "      <td>0.801349</td>\n",
       "      <td>-0.272276</td>\n",
       "      <td>-0.24457</td>\n",
       "      <td>-0.36545</td>\n",
       "      <td>-0.484293</td>\n",
       "      <td>-0.398664</td>\n",
       "      <td>-0.340700</td>\n",
       "      <td>3.031980</td>\n",
       "      <td>-0.334300</td>\n",
       "      <td>-0.535902</td>\n",
       "      <td>-0.277124</td>\n",
       "      <td>-0.493551</td>\n",
       "      <td>-0.072457</td>\n",
       "      <td>2.973812</td>\n",
       "      <td>-0.048039</td>\n",
       "      <td>-0.115144</td>\n",
       "      <td>-0.162114</td>\n",
       "      <td>-0.113125</td>\n",
       "      <td>0.345098</td>\n",
       "      <td>-0.129342</td>\n",
       "      <td>-0.185442</td>\n",
       "      <td>-0.335648</td>\n",
       "      <td>-0.342545</td>\n",
       "      <td>-0.241720</td>\n",
       "      <td>-0.463142</td>\n",
       "      <td>-0.048039</td>\n",
       "      <td>0.476945</td>\n",
       "      <td>-0.116884</td>\n",
       "      <td>-0.330131</td>\n",
       "      <td>-0.256843</td>\n",
       "      <td>-0.859927</td>\n",
       "      <td>-0.597177</td>\n",
       "      <td>-0.258207</td>\n",
       "      <td>-0.143441</td>\n",
       "      <td>-0.528430</td>\n",
       "      <td>-0.070874</td>\n",
       "      <td>0.918978</td>\n",
       "      <td>-0.569677</td>\n",
       "      <td>-0.090922</td>\n",
       "      <td>-0.505487</td>\n",
       "    </tr>\n",
       "    <tr>\n",
       "      <th>1</th>\n",
       "      <td>-0.884573</td>\n",
       "      <td>-0.348901</td>\n",
       "      <td>-1.036569</td>\n",
       "      <td>-0.240379</td>\n",
       "      <td>0.092932</td>\n",
       "      <td>-0.675954</td>\n",
       "      <td>0.66262</td>\n",
       "      <td>-1.231119</td>\n",
       "      <td>-0.272276</td>\n",
       "      <td>-0.24457</td>\n",
       "      <td>-0.36545</td>\n",
       "      <td>-0.484293</td>\n",
       "      <td>-0.398664</td>\n",
       "      <td>2.935134</td>\n",
       "      <td>-0.329817</td>\n",
       "      <td>-0.334300</td>\n",
       "      <td>-0.535902</td>\n",
       "      <td>-0.277124</td>\n",
       "      <td>-0.493551</td>\n",
       "      <td>-0.072457</td>\n",
       "      <td>-0.336269</td>\n",
       "      <td>-0.048039</td>\n",
       "      <td>-0.115144</td>\n",
       "      <td>-0.162114</td>\n",
       "      <td>-0.113125</td>\n",
       "      <td>0.345098</td>\n",
       "      <td>-0.129342</td>\n",
       "      <td>-0.185442</td>\n",
       "      <td>2.979315</td>\n",
       "      <td>-0.342545</td>\n",
       "      <td>-0.241720</td>\n",
       "      <td>-0.463142</td>\n",
       "      <td>-0.048039</td>\n",
       "      <td>0.476945</td>\n",
       "      <td>-0.116884</td>\n",
       "      <td>-0.330131</td>\n",
       "      <td>-0.256843</td>\n",
       "      <td>-0.859927</td>\n",
       "      <td>1.674545</td>\n",
       "      <td>-0.258207</td>\n",
       "      <td>-0.143441</td>\n",
       "      <td>1.892397</td>\n",
       "      <td>-0.070874</td>\n",
       "      <td>0.918978</td>\n",
       "      <td>-0.569677</td>\n",
       "      <td>-0.090922</td>\n",
       "      <td>-0.505487</td>\n",
       "    </tr>\n",
       "    <tr>\n",
       "      <th>2</th>\n",
       "      <td>-0.884573</td>\n",
       "      <td>-0.267184</td>\n",
       "      <td>-1.007222</td>\n",
       "      <td>-0.240379</td>\n",
       "      <td>0.092932</td>\n",
       "      <td>-0.675954</td>\n",
       "      <td>0.66262</td>\n",
       "      <td>-1.231119</td>\n",
       "      <td>-0.272276</td>\n",
       "      <td>-0.24457</td>\n",
       "      <td>-0.36545</td>\n",
       "      <td>-0.484293</td>\n",
       "      <td>-0.398664</td>\n",
       "      <td>2.935134</td>\n",
       "      <td>-0.329817</td>\n",
       "      <td>-0.334300</td>\n",
       "      <td>-0.535902</td>\n",
       "      <td>-0.277124</td>\n",
       "      <td>-0.493551</td>\n",
       "      <td>-0.072457</td>\n",
       "      <td>-0.336269</td>\n",
       "      <td>-0.048039</td>\n",
       "      <td>-0.115144</td>\n",
       "      <td>-0.162114</td>\n",
       "      <td>-0.113125</td>\n",
       "      <td>0.345098</td>\n",
       "      <td>-0.129342</td>\n",
       "      <td>-0.185442</td>\n",
       "      <td>-0.335648</td>\n",
       "      <td>-0.342545</td>\n",
       "      <td>-0.241720</td>\n",
       "      <td>-0.463142</td>\n",
       "      <td>-0.048039</td>\n",
       "      <td>0.476945</td>\n",
       "      <td>-0.116884</td>\n",
       "      <td>-0.330131</td>\n",
       "      <td>-0.256843</td>\n",
       "      <td>-0.859927</td>\n",
       "      <td>-0.597177</td>\n",
       "      <td>3.872867</td>\n",
       "      <td>-0.143441</td>\n",
       "      <td>1.892397</td>\n",
       "      <td>-0.070874</td>\n",
       "      <td>0.918978</td>\n",
       "      <td>-0.569677</td>\n",
       "      <td>-0.090922</td>\n",
       "      <td>-0.505487</td>\n",
       "    </tr>\n",
       "    <tr>\n",
       "      <th>3</th>\n",
       "      <td>-0.693453</td>\n",
       "      <td>1.097498</td>\n",
       "      <td>-0.507180</td>\n",
       "      <td>-0.597103</td>\n",
       "      <td>-0.385566</td>\n",
       "      <td>1.025095</td>\n",
       "      <td>0.66262</td>\n",
       "      <td>0.816731</td>\n",
       "      <td>-0.272276</td>\n",
       "      <td>-0.24457</td>\n",
       "      <td>-0.36545</td>\n",
       "      <td>-0.484293</td>\n",
       "      <td>-0.398664</td>\n",
       "      <td>-0.340700</td>\n",
       "      <td>-0.329817</td>\n",
       "      <td>2.991328</td>\n",
       "      <td>-0.535902</td>\n",
       "      <td>-0.277124</td>\n",
       "      <td>2.026134</td>\n",
       "      <td>-0.072457</td>\n",
       "      <td>-0.336269</td>\n",
       "      <td>-0.048039</td>\n",
       "      <td>-0.115144</td>\n",
       "      <td>-0.162114</td>\n",
       "      <td>-0.113125</td>\n",
       "      <td>0.345098</td>\n",
       "      <td>-0.129342</td>\n",
       "      <td>-0.185442</td>\n",
       "      <td>2.979315</td>\n",
       "      <td>-0.342545</td>\n",
       "      <td>-0.241720</td>\n",
       "      <td>-0.463142</td>\n",
       "      <td>-0.048039</td>\n",
       "      <td>-2.096678</td>\n",
       "      <td>-0.116884</td>\n",
       "      <td>3.029097</td>\n",
       "      <td>-0.256843</td>\n",
       "      <td>-0.859927</td>\n",
       "      <td>1.674545</td>\n",
       "      <td>-0.258207</td>\n",
       "      <td>-0.143441</td>\n",
       "      <td>-0.528430</td>\n",
       "      <td>-0.070874</td>\n",
       "      <td>-1.088165</td>\n",
       "      <td>-0.569677</td>\n",
       "      <td>-0.090922</td>\n",
       "      <td>1.978290</td>\n",
       "    </tr>\n",
       "    <tr>\n",
       "      <th>4</th>\n",
       "      <td>0.993994</td>\n",
       "      <td>-0.536809</td>\n",
       "      <td>1.177516</td>\n",
       "      <td>0.167305</td>\n",
       "      <td>-0.194167</td>\n",
       "      <td>1.366671</td>\n",
       "      <td>-1.50916</td>\n",
       "      <td>0.828011</td>\n",
       "      <td>-0.272276</td>\n",
       "      <td>-0.24457</td>\n",
       "      <td>-0.36545</td>\n",
       "      <td>2.064866</td>\n",
       "      <td>-0.398664</td>\n",
       "      <td>-0.340700</td>\n",
       "      <td>-0.329817</td>\n",
       "      <td>-0.334300</td>\n",
       "      <td>-0.535902</td>\n",
       "      <td>-0.277124</td>\n",
       "      <td>2.026134</td>\n",
       "      <td>-0.072457</td>\n",
       "      <td>-0.336269</td>\n",
       "      <td>-0.048039</td>\n",
       "      <td>-0.115144</td>\n",
       "      <td>-0.162114</td>\n",
       "      <td>-0.113125</td>\n",
       "      <td>0.345098</td>\n",
       "      <td>-0.129342</td>\n",
       "      <td>-0.185442</td>\n",
       "      <td>-0.335648</td>\n",
       "      <td>-0.342545</td>\n",
       "      <td>-0.241720</td>\n",
       "      <td>2.159167</td>\n",
       "      <td>-0.048039</td>\n",
       "      <td>-2.096678</td>\n",
       "      <td>-0.116884</td>\n",
       "      <td>-0.330131</td>\n",
       "      <td>3.893431</td>\n",
       "      <td>-0.859927</td>\n",
       "      <td>-0.597177</td>\n",
       "      <td>-0.258207</td>\n",
       "      <td>6.971490</td>\n",
       "      <td>-0.528430</td>\n",
       "      <td>-0.070874</td>\n",
       "      <td>-1.088165</td>\n",
       "      <td>-0.569677</td>\n",
       "      <td>-0.090922</td>\n",
       "      <td>1.978290</td>\n",
       "    </tr>\n",
       "    <tr>\n",
       "      <th>5</th>\n",
       "      <td>0.933395</td>\n",
       "      <td>-0.798928</td>\n",
       "      <td>1.241827</td>\n",
       "      <td>0.116345</td>\n",
       "      <td>-0.481266</td>\n",
       "      <td>2.732976</td>\n",
       "      <td>0.66262</td>\n",
       "      <td>0.815706</td>\n",
       "      <td>-0.272276</td>\n",
       "      <td>-0.24457</td>\n",
       "      <td>-0.36545</td>\n",
       "      <td>2.064866</td>\n",
       "      <td>-0.398664</td>\n",
       "      <td>-0.340700</td>\n",
       "      <td>-0.329817</td>\n",
       "      <td>-0.334300</td>\n",
       "      <td>-0.535902</td>\n",
       "      <td>-0.277124</td>\n",
       "      <td>2.026134</td>\n",
       "      <td>-0.072457</td>\n",
       "      <td>-0.336269</td>\n",
       "      <td>-0.048039</td>\n",
       "      <td>-0.115144</td>\n",
       "      <td>-0.162114</td>\n",
       "      <td>-0.113125</td>\n",
       "      <td>0.345098</td>\n",
       "      <td>-0.129342</td>\n",
       "      <td>-0.185442</td>\n",
       "      <td>-0.335648</td>\n",
       "      <td>-0.342545</td>\n",
       "      <td>-0.241720</td>\n",
       "      <td>-0.463142</td>\n",
       "      <td>-0.048039</td>\n",
       "      <td>0.476945</td>\n",
       "      <td>-0.116884</td>\n",
       "      <td>-0.330131</td>\n",
       "      <td>-0.256843</td>\n",
       "      <td>-0.859927</td>\n",
       "      <td>1.674545</td>\n",
       "      <td>-0.258207</td>\n",
       "      <td>-0.143441</td>\n",
       "      <td>-0.528430</td>\n",
       "      <td>-0.070874</td>\n",
       "      <td>-1.088165</td>\n",
       "      <td>-0.569677</td>\n",
       "      <td>-0.090922</td>\n",
       "      <td>1.978290</td>\n",
       "    </tr>\n",
       "    <tr>\n",
       "      <th>6</th>\n",
       "      <td>-0.884573</td>\n",
       "      <td>-1.349221</td>\n",
       "      <td>1.396173</td>\n",
       "      <td>0.065384</td>\n",
       "      <td>-0.385566</td>\n",
       "      <td>-0.675954</td>\n",
       "      <td>0.66262</td>\n",
       "      <td>-1.231119</td>\n",
       "      <td>-0.272276</td>\n",
       "      <td>-0.24457</td>\n",
       "      <td>-0.36545</td>\n",
       "      <td>2.064866</td>\n",
       "      <td>-0.398664</td>\n",
       "      <td>-0.340700</td>\n",
       "      <td>-0.329817</td>\n",
       "      <td>-0.334300</td>\n",
       "      <td>1.866013</td>\n",
       "      <td>-0.277124</td>\n",
       "      <td>-0.493551</td>\n",
       "      <td>-0.072457</td>\n",
       "      <td>-0.336269</td>\n",
       "      <td>-0.048039</td>\n",
       "      <td>-0.115144</td>\n",
       "      <td>-0.162114</td>\n",
       "      <td>-0.113125</td>\n",
       "      <td>0.345098</td>\n",
       "      <td>-0.129342</td>\n",
       "      <td>-0.185442</td>\n",
       "      <td>-0.335648</td>\n",
       "      <td>-0.342545</td>\n",
       "      <td>-0.241720</td>\n",
       "      <td>-0.463142</td>\n",
       "      <td>-0.048039</td>\n",
       "      <td>0.476945</td>\n",
       "      <td>-0.116884</td>\n",
       "      <td>-0.330131</td>\n",
       "      <td>-0.256843</td>\n",
       "      <td>-0.859927</td>\n",
       "      <td>1.674545</td>\n",
       "      <td>-0.258207</td>\n",
       "      <td>-0.143441</td>\n",
       "      <td>-0.528430</td>\n",
       "      <td>-0.070874</td>\n",
       "      <td>-1.088165</td>\n",
       "      <td>1.755382</td>\n",
       "      <td>-0.090922</td>\n",
       "      <td>-0.505487</td>\n",
       "    </tr>\n",
       "    <tr>\n",
       "      <th>7</th>\n",
       "      <td>-0.884573</td>\n",
       "      <td>-0.072088</td>\n",
       "      <td>1.885445</td>\n",
       "      <td>0.014424</td>\n",
       "      <td>-0.481266</td>\n",
       "      <td>-0.675954</td>\n",
       "      <td>-1.50916</td>\n",
       "      <td>-1.231119</td>\n",
       "      <td>-0.272276</td>\n",
       "      <td>-0.24457</td>\n",
       "      <td>-0.36545</td>\n",
       "      <td>2.064866</td>\n",
       "      <td>-0.398664</td>\n",
       "      <td>-0.340700</td>\n",
       "      <td>-0.329817</td>\n",
       "      <td>-0.334300</td>\n",
       "      <td>1.866013</td>\n",
       "      <td>-0.277124</td>\n",
       "      <td>-0.493551</td>\n",
       "      <td>-0.072457</td>\n",
       "      <td>-0.336269</td>\n",
       "      <td>-0.048039</td>\n",
       "      <td>-0.115144</td>\n",
       "      <td>6.168504</td>\n",
       "      <td>-0.113125</td>\n",
       "      <td>-2.897729</td>\n",
       "      <td>-0.129342</td>\n",
       "      <td>-0.185442</td>\n",
       "      <td>-0.335648</td>\n",
       "      <td>-0.342545</td>\n",
       "      <td>-0.241720</td>\n",
       "      <td>-0.463142</td>\n",
       "      <td>-0.048039</td>\n",
       "      <td>-2.096678</td>\n",
       "      <td>-0.116884</td>\n",
       "      <td>3.029097</td>\n",
       "      <td>-0.256843</td>\n",
       "      <td>1.162889</td>\n",
       "      <td>-0.597177</td>\n",
       "      <td>-0.258207</td>\n",
       "      <td>-0.143441</td>\n",
       "      <td>-0.528430</td>\n",
       "      <td>-0.070874</td>\n",
       "      <td>-1.088165</td>\n",
       "      <td>1.755382</td>\n",
       "      <td>-0.090922</td>\n",
       "      <td>-0.505487</td>\n",
       "    </tr>\n",
       "    <tr>\n",
       "      <th>8</th>\n",
       "      <td>0.736060</td>\n",
       "      <td>0.033395</td>\n",
       "      <td>-1.704817</td>\n",
       "      <td>-0.342300</td>\n",
       "      <td>-0.289867</td>\n",
       "      <td>-0.341209</td>\n",
       "      <td>0.66262</td>\n",
       "      <td>0.809553</td>\n",
       "      <td>-0.272276</td>\n",
       "      <td>-0.24457</td>\n",
       "      <td>-0.36545</td>\n",
       "      <td>-0.484293</td>\n",
       "      <td>-0.398664</td>\n",
       "      <td>-0.340700</td>\n",
       "      <td>3.031980</td>\n",
       "      <td>-0.334300</td>\n",
       "      <td>-0.535902</td>\n",
       "      <td>-0.277124</td>\n",
       "      <td>-0.493551</td>\n",
       "      <td>-0.072457</td>\n",
       "      <td>-0.336269</td>\n",
       "      <td>-0.048039</td>\n",
       "      <td>-0.115144</td>\n",
       "      <td>-0.162114</td>\n",
       "      <td>-0.113125</td>\n",
       "      <td>0.345098</td>\n",
       "      <td>-0.129342</td>\n",
       "      <td>-0.185442</td>\n",
       "      <td>-0.335648</td>\n",
       "      <td>-0.342545</td>\n",
       "      <td>-0.241720</td>\n",
       "      <td>2.159167</td>\n",
       "      <td>-0.048039</td>\n",
       "      <td>0.476945</td>\n",
       "      <td>-0.116884</td>\n",
       "      <td>-0.330131</td>\n",
       "      <td>-0.256843</td>\n",
       "      <td>-0.859927</td>\n",
       "      <td>-0.597177</td>\n",
       "      <td>-0.258207</td>\n",
       "      <td>-0.143441</td>\n",
       "      <td>-0.528430</td>\n",
       "      <td>-0.070874</td>\n",
       "      <td>0.918978</td>\n",
       "      <td>-0.569677</td>\n",
       "      <td>-0.090922</td>\n",
       "      <td>-0.505487</td>\n",
       "    </tr>\n",
       "    <tr>\n",
       "      <th>9</th>\n",
       "      <td>2.404861</td>\n",
       "      <td>-0.405766</td>\n",
       "      <td>-1.092367</td>\n",
       "      <td>-0.291340</td>\n",
       "      <td>-0.289867</td>\n",
       "      <td>-0.675954</td>\n",
       "      <td>-1.50916</td>\n",
       "      <td>0.793146</td>\n",
       "      <td>-0.272276</td>\n",
       "      <td>-0.24457</td>\n",
       "      <td>-0.36545</td>\n",
       "      <td>-0.484293</td>\n",
       "      <td>-0.398664</td>\n",
       "      <td>2.935134</td>\n",
       "      <td>-0.329817</td>\n",
       "      <td>-0.334300</td>\n",
       "      <td>-0.535902</td>\n",
       "      <td>-0.277124</td>\n",
       "      <td>-0.493551</td>\n",
       "      <td>-0.072457</td>\n",
       "      <td>-0.336269</td>\n",
       "      <td>-0.048039</td>\n",
       "      <td>-0.115144</td>\n",
       "      <td>-0.162114</td>\n",
       "      <td>-0.113125</td>\n",
       "      <td>0.345098</td>\n",
       "      <td>-0.129342</td>\n",
       "      <td>-0.185442</td>\n",
       "      <td>-0.335648</td>\n",
       "      <td>-0.342545</td>\n",
       "      <td>4.137022</td>\n",
       "      <td>-0.463142</td>\n",
       "      <td>-0.048039</td>\n",
       "      <td>0.476945</td>\n",
       "      <td>-0.116884</td>\n",
       "      <td>-0.330131</td>\n",
       "      <td>-0.256843</td>\n",
       "      <td>1.162889</td>\n",
       "      <td>-0.597177</td>\n",
       "      <td>-0.258207</td>\n",
       "      <td>-0.143441</td>\n",
       "      <td>-0.528430</td>\n",
       "      <td>-0.070874</td>\n",
       "      <td>0.918978</td>\n",
       "      <td>-0.569677</td>\n",
       "      <td>-0.090922</td>\n",
       "      <td>-0.505487</td>\n",
       "    </tr>\n",
       "  </tbody>\n",
       "</table>\n",
       "</div>"
      ],
      "text/plain": [
       "   gps_height  longitude  latitude  region_code  district_code  population  \\\n",
       "0   -0.356274   1.723728 -1.640197    -0.393261      -0.194167    1.366671   \n",
       "1   -0.884573  -0.348901 -1.036569    -0.240379       0.092932   -0.675954   \n",
       "2   -0.884573  -0.267184 -1.007222    -0.240379       0.092932   -0.675954   \n",
       "3   -0.693453   1.097498 -0.507180    -0.597103      -0.385566    1.025095   \n",
       "4    0.993994  -0.536809  1.177516     0.167305      -0.194167    1.366671   \n",
       "5    0.933395  -0.798928  1.241827     0.116345      -0.481266    2.732976   \n",
       "6   -0.884573  -1.349221  1.396173     0.065384      -0.385566   -0.675954   \n",
       "7   -0.884573  -0.072088  1.885445     0.014424      -0.481266   -0.675954   \n",
       "8    0.736060   0.033395 -1.704817    -0.342300      -0.289867   -0.341209   \n",
       "9    2.404861  -0.405766 -1.092367    -0.291340      -0.289867   -0.675954   \n",
       "\n",
       "    permit  construction_year  basin_lake nyasa  basin_lake rukwa  \\\n",
       "0  0.66262           0.801349         -0.272276          -0.24457   \n",
       "1  0.66262          -1.231119         -0.272276          -0.24457   \n",
       "2  0.66262          -1.231119         -0.272276          -0.24457   \n",
       "3  0.66262           0.816731         -0.272276          -0.24457   \n",
       "4 -1.50916           0.828011         -0.272276          -0.24457   \n",
       "5  0.66262           0.815706         -0.272276          -0.24457   \n",
       "6  0.66262          -1.231119         -0.272276          -0.24457   \n",
       "7 -1.50916          -1.231119         -0.272276          -0.24457   \n",
       "8  0.66262           0.809553         -0.272276          -0.24457   \n",
       "9 -1.50916           0.793146         -0.272276          -0.24457   \n",
       "\n",
       "   basin_lake tanganyika  basin_lake victoria  basin_pangani  basin_rufiji  \\\n",
       "0               -0.36545            -0.484293      -0.398664     -0.340700   \n",
       "1               -0.36545            -0.484293      -0.398664      2.935134   \n",
       "2               -0.36545            -0.484293      -0.398664      2.935134   \n",
       "3               -0.36545            -0.484293      -0.398664     -0.340700   \n",
       "4               -0.36545             2.064866      -0.398664     -0.340700   \n",
       "5               -0.36545             2.064866      -0.398664     -0.340700   \n",
       "6               -0.36545             2.064866      -0.398664     -0.340700   \n",
       "7               -0.36545             2.064866      -0.398664     -0.340700   \n",
       "8               -0.36545            -0.484293      -0.398664     -0.340700   \n",
       "9               -0.36545            -0.484293      -0.398664      2.935134   \n",
       "\n",
       "   basin_ruvuma / southern coast  basin_wami / ruvu  \\\n",
       "0                       3.031980          -0.334300   \n",
       "1                      -0.329817          -0.334300   \n",
       "2                      -0.329817          -0.334300   \n",
       "3                      -0.329817           2.991328   \n",
       "4                      -0.329817          -0.334300   \n",
       "5                      -0.329817          -0.334300   \n",
       "6                      -0.329817          -0.334300   \n",
       "7                      -0.329817          -0.334300   \n",
       "8                       3.031980          -0.334300   \n",
       "9                      -0.329817          -0.334300   \n",
       "\n",
       "   extraction_type_class_handpump  extraction_type_class_motorpump  \\\n",
       "0                       -0.535902                        -0.277124   \n",
       "1                       -0.535902                        -0.277124   \n",
       "2                       -0.535902                        -0.277124   \n",
       "3                       -0.535902                        -0.277124   \n",
       "4                       -0.535902                        -0.277124   \n",
       "5                       -0.535902                        -0.277124   \n",
       "6                        1.866013                        -0.277124   \n",
       "7                        1.866013                        -0.277124   \n",
       "8                       -0.535902                        -0.277124   \n",
       "9                       -0.535902                        -0.277124   \n",
       "\n",
       "   extraction_type_class_other  extraction_type_class_rope pump  \\\n",
       "0                    -0.493551                        -0.072457   \n",
       "1                    -0.493551                        -0.072457   \n",
       "2                    -0.493551                        -0.072457   \n",
       "3                     2.026134                        -0.072457   \n",
       "4                     2.026134                        -0.072457   \n",
       "5                     2.026134                        -0.072457   \n",
       "6                    -0.493551                        -0.072457   \n",
       "7                    -0.493551                        -0.072457   \n",
       "8                    -0.493551                        -0.072457   \n",
       "9                    -0.493551                        -0.072457   \n",
       "\n",
       "   extraction_type_class_submersible  extraction_type_class_wind-powered  \\\n",
       "0                           2.973812                           -0.048039   \n",
       "1                          -0.336269                           -0.048039   \n",
       "2                          -0.336269                           -0.048039   \n",
       "3                          -0.336269                           -0.048039   \n",
       "4                          -0.336269                           -0.048039   \n",
       "5                          -0.336269                           -0.048039   \n",
       "6                          -0.336269                           -0.048039   \n",
       "7                          -0.336269                           -0.048039   \n",
       "8                          -0.336269                           -0.048039   \n",
       "9                          -0.336269                           -0.048039   \n",
       "\n",
       "   management_group_other  management_group_parastatal  \\\n",
       "0               -0.115144                    -0.162114   \n",
       "1               -0.115144                    -0.162114   \n",
       "2               -0.115144                    -0.162114   \n",
       "3               -0.115144                    -0.162114   \n",
       "4               -0.115144                    -0.162114   \n",
       "5               -0.115144                    -0.162114   \n",
       "6               -0.115144                    -0.162114   \n",
       "7               -0.115144                     6.168504   \n",
       "8               -0.115144                    -0.162114   \n",
       "9               -0.115144                    -0.162114   \n",
       "\n",
       "   management_group_unknown  management_group_user-group  payment_other  \\\n",
       "0                 -0.113125                     0.345098      -0.129342   \n",
       "1                 -0.113125                     0.345098      -0.129342   \n",
       "2                 -0.113125                     0.345098      -0.129342   \n",
       "3                 -0.113125                     0.345098      -0.129342   \n",
       "4                 -0.113125                     0.345098      -0.129342   \n",
       "5                 -0.113125                     0.345098      -0.129342   \n",
       "6                 -0.113125                     0.345098      -0.129342   \n",
       "7                 -0.113125                    -2.897729      -0.129342   \n",
       "8                 -0.113125                     0.345098      -0.129342   \n",
       "9                 -0.113125                     0.345098      -0.129342   \n",
       "\n",
       "   payment_pay annually  payment_pay monthly  payment_pay per bucket  \\\n",
       "0             -0.185442            -0.335648               -0.342545   \n",
       "1             -0.185442             2.979315               -0.342545   \n",
       "2             -0.185442            -0.335648               -0.342545   \n",
       "3             -0.185442             2.979315               -0.342545   \n",
       "4             -0.185442            -0.335648               -0.342545   \n",
       "5             -0.185442            -0.335648               -0.342545   \n",
       "6             -0.185442            -0.335648               -0.342545   \n",
       "7             -0.185442            -0.335648               -0.342545   \n",
       "8             -0.185442            -0.335648               -0.342545   \n",
       "9             -0.185442            -0.335648               -0.342545   \n",
       "\n",
       "   payment_pay when scheme fails  payment_unknown  quality_group_fluoride  \\\n",
       "0                      -0.241720        -0.463142               -0.048039   \n",
       "1                      -0.241720        -0.463142               -0.048039   \n",
       "2                      -0.241720        -0.463142               -0.048039   \n",
       "3                      -0.241720        -0.463142               -0.048039   \n",
       "4                      -0.241720         2.159167               -0.048039   \n",
       "5                      -0.241720        -0.463142               -0.048039   \n",
       "6                      -0.241720        -0.463142               -0.048039   \n",
       "7                      -0.241720        -0.463142               -0.048039   \n",
       "8                      -0.241720         2.159167               -0.048039   \n",
       "9                       4.137022        -0.463142               -0.048039   \n",
       "\n",
       "   quality_group_good  quality_group_milky  quality_group_salty  \\\n",
       "0            0.476945            -0.116884            -0.330131   \n",
       "1            0.476945            -0.116884            -0.330131   \n",
       "2            0.476945            -0.116884            -0.330131   \n",
       "3           -2.096678            -0.116884             3.029097   \n",
       "4           -2.096678            -0.116884            -0.330131   \n",
       "5            0.476945            -0.116884            -0.330131   \n",
       "6            0.476945            -0.116884            -0.330131   \n",
       "7           -2.096678            -0.116884             3.029097   \n",
       "8            0.476945            -0.116884            -0.330131   \n",
       "9            0.476945            -0.116884            -0.330131   \n",
       "\n",
       "   quality_group_unknown  quantity_group_enough  quantity_group_insufficient  \\\n",
       "0              -0.256843              -0.859927                    -0.597177   \n",
       "1              -0.256843              -0.859927                     1.674545   \n",
       "2              -0.256843              -0.859927                    -0.597177   \n",
       "3              -0.256843              -0.859927                     1.674545   \n",
       "4               3.893431              -0.859927                    -0.597177   \n",
       "5              -0.256843              -0.859927                     1.674545   \n",
       "6              -0.256843              -0.859927                     1.674545   \n",
       "7              -0.256843               1.162889                    -0.597177   \n",
       "8              -0.256843              -0.859927                    -0.597177   \n",
       "9              -0.256843               1.162889                    -0.597177   \n",
       "\n",
       "   quantity_group_seasonal  quantity_group_unknown  source_class_surface  \\\n",
       "0                -0.258207               -0.143441             -0.528430   \n",
       "1                -0.258207               -0.143441              1.892397   \n",
       "2                 3.872867               -0.143441              1.892397   \n",
       "3                -0.258207               -0.143441             -0.528430   \n",
       "4                -0.258207                6.971490             -0.528430   \n",
       "5                -0.258207               -0.143441             -0.528430   \n",
       "6                -0.258207               -0.143441             -0.528430   \n",
       "7                -0.258207               -0.143441             -0.528430   \n",
       "8                -0.258207               -0.143441             -0.528430   \n",
       "9                -0.258207               -0.143441             -0.528430   \n",
       "\n",
       "   source_class_unknown  waterpoint_type_group_communal standpipe  \\\n",
       "0             -0.070874                                  0.918978   \n",
       "1             -0.070874                                  0.918978   \n",
       "2             -0.070874                                  0.918978   \n",
       "3             -0.070874                                 -1.088165   \n",
       "4             -0.070874                                 -1.088165   \n",
       "5             -0.070874                                 -1.088165   \n",
       "6             -0.070874                                 -1.088165   \n",
       "7             -0.070874                                 -1.088165   \n",
       "8             -0.070874                                  0.918978   \n",
       "9             -0.070874                                  0.918978   \n",
       "\n",
       "   waterpoint_type_group_hand pump  waterpoint_type_group_improved spring  \\\n",
       "0                        -0.569677                              -0.090922   \n",
       "1                        -0.569677                              -0.090922   \n",
       "2                        -0.569677                              -0.090922   \n",
       "3                        -0.569677                              -0.090922   \n",
       "4                        -0.569677                              -0.090922   \n",
       "5                        -0.569677                              -0.090922   \n",
       "6                         1.755382                              -0.090922   \n",
       "7                         1.755382                              -0.090922   \n",
       "8                        -0.569677                              -0.090922   \n",
       "9                        -0.569677                              -0.090922   \n",
       "\n",
       "   waterpoint_type_group_other  \n",
       "0                    -0.505487  \n",
       "1                    -0.505487  \n",
       "2                    -0.505487  \n",
       "3                     1.978290  \n",
       "4                     1.978290  \n",
       "5                     1.978290  \n",
       "6                    -0.505487  \n",
       "7                    -0.505487  \n",
       "8                    -0.505487  \n",
       "9                    -0.505487  "
      ]
     },
     "execution_count": 2,
     "metadata": {},
     "output_type": "execute_result"
    }
   ],
   "source": [
    "# import X_train_encoded, X_test_encoded, y_train and y_test\n",
    "X_train = set_importer('../analysis-dfs/X_train_prepared.csv')\n",
    "X_test = set_importer('../analysis-dfs/X_test_prepared.csv')\n",
    "\n",
    "y_train = set_importer('../analysis-dfs/y_train_prepared.csv', y=True)\n",
    "y_test = set_importer('../analysis-dfs/y_test_prepared.csv', y=True)\n",
    "\n",
    "display(X_train.shape)\n",
    "X_train.head(10)"
   ]
  },
  {
   "cell_type": "markdown",
   "metadata": {},
   "source": [
    "# Building a baseline model"
   ]
  },
  {
   "cell_type": "code",
   "execution_count": 3,
   "metadata": {},
   "outputs": [
    {
     "data": {
      "text/plain": [
       "0.8908959860992003"
      ]
     },
     "execution_count": 3,
     "metadata": {},
     "output_type": "execute_result"
    }
   ],
   "source": [
    "knn_baseline_model = KNeighborsClassifier()\n",
    "\n",
    "knn_baseline_log_loss = cross_val_score(knn_baseline_model, X_train, y_train, scoring=\"accuracy\").mean()\n",
    "knn_baseline_log_loss"
   ]
  },
  {
   "cell_type": "markdown",
   "metadata": {},
   "source": [
    "Nice accuracy score what about its performance on unseen data"
   ]
  },
  {
   "cell_type": "code",
   "execution_count": 6,
   "metadata": {},
   "outputs": [
    {
     "name": "stdout",
     "output_type": "stream",
     "text": [
      "Knn baseline model scores\n",
      "The precision score is:\t 0.8531468531468531\n",
      "The recall score is:\t 0.3584905660377358\n",
      "The accuracy score is:\t 0.4037503278258589\n",
      "The f1 score is:\t 0.5048459109223565\n"
     ]
    }
   ],
   "source": [
    "knn_baseline_model.fit(X_train, y_train)\n",
    "y_preds_baseline_model = knn_baseline_model.predict(X_test)\n",
    "print(\"Knn baseline model scores\")\n",
    "scores(y_test, y_preds_baseline_model)"
   ]
  },
  {
   "cell_type": "markdown",
   "metadata": {},
   "source": [
    "This clearly is a high log loss compared to previous models best log losses. Hence I will carry an iterative approach to find the best KNN model"
   ]
  },
  {
   "cell_type": "markdown",
   "metadata": {},
   "source": [
    "# Building iterative models to find the best KNN"
   ]
  },
  {
   "cell_type": "markdown",
   "metadata": {},
   "source": [
    "## n_neighbors"
   ]
  },
  {
   "cell_type": "code",
   "execution_count": 13,
   "metadata": {},
   "outputs": [
    {
     "data": {
      "image/png": "[encoded data removed]",
      "text/plain": [
       "<Figure size 432x288 with 1 Axes>"
      ]
     },
     "metadata": {
      "needs_background": "light"
     },
     "output_type": "display_data"
    }
   ],
   "source": [
    "neighbors = np.arange(5, 100, 10)\n",
    "\n",
    "accuracy_means = []\n",
    "\n",
    "for neighbor in neighbors:\n",
    "    knn_model = KNeighborsClassifier(n_neighbors=neighbor)\n",
    "    accuracy_means.append( cross_val_score(knn_model, X_train, y_train, scoring='accuracy').mean() )\n",
    "\n",
    "plt.plot(neighbors, accuracy_means)\n",
    "plt.xlabel('n_neighbors')\n",
    "plt.xticks(neighbors)\n",
    "plt.ylabel('accuracy')\n",
    "plt.title('Using various n_neigbors')\n",
    "plt.show() "
   ]
  },
  {
   "cell_type": "markdown",
   "metadata": {},
   "source": [
    "The default number of n_neighbors performed well hence no need for a modification."
   ]
  },
  {
   "cell_type": "markdown",
   "metadata": {},
   "source": [
    "## n_neighbors"
   ]
  },
  {
   "cell_type": "code",
   "execution_count": 14,
   "metadata": {},
   "outputs": [
    {
     "data": {
      "image/png": "[encoded data removed]",
      "text/plain": [
       "<Figure size 432x288 with 1 Axes>"
      ]
     },
     "metadata": {
      "needs_background": "light"
     },
     "output_type": "display_data"
    }
   ],
   "source": [
    "leaf_sizes = np.arange(10, 70, 10)\n",
    "\n",
    "accuracy_means = []\n",
    "\n",
    "for leaf_size in leaf_sizes:\n",
    "    knn_model = KNeighborsClassifier(leaf_size=leaf_size)\n",
    "    accuracy_means.append( cross_val_score(knn_model, X_train, y_train, scoring='accuracy').mean() )\n",
    "\n",
    "plt.plot(leaf_sizes, accuracy_means)\n",
    "plt.xlabel('leaf_sizess')\n",
    "plt.xticks(leaf_sizes)\n",
    "plt.ylabel('accuracy')\n",
    "plt.title('Using various leaf sizes')\n",
    "plt.show() "
   ]
  },
  {
   "cell_type": "markdown",
   "metadata": {},
   "source": [
    "Leaf size has has no effect on the log loss"
   ]
  },
  {
   "cell_type": "markdown",
   "metadata": {},
   "source": [
    "## metrics"
   ]
  },
  {
   "cell_type": "markdown",
   "metadata": {},
   "source": [
    "Using various metric distances"
   ]
  },
  {
   "cell_type": "code",
   "execution_count": 21,
   "metadata": {},
   "outputs": [
    {
     "data": {
      "image/png": "[encoded data removed]",
      "text/plain": [
       "<Figure size 432x288 with 1 Axes>"
      ]
     },
     "metadata": {
      "needs_background": "light"
     },
     "output_type": "display_data"
    }
   ],
   "source": [
    "# Using a various distance metrics\n",
    "# 1 for Manhattan distance\n",
    "# 2 for euclidean distance\n",
    "powers = [1,2]\n",
    "accuracy_means = []\n",
    "\n",
    "for p in powers:\n",
    "    knn_model = KNeighborsClassifier(p=p)\n",
    "    accuracy_means.append( cross_val_score(knn_model, X_train, y_train, scoring='accuracy').mean() )\n",
    "\n",
    "plt.bar(powers, accuracy_means)\n",
    "plt.xticks(powers, ['Manhattan Distance', 'Euclidean distance'])\n",
    "plt.xlabel('Distance Metrics')\n",
    "plt.ylabel('accuracy')\n",
    "plt.title('Using various Distance metrics')\n",
    "plt.show()"
   ]
  },
  {
   "cell_type": "code",
   "execution_count": 22,
   "metadata": {},
   "outputs": [
    {
     "data": {
      "text/plain": [
       "[0.9011466981533023, 0.8908959860992003]"
      ]
     },
     "execution_count": 22,
     "metadata": {},
     "output_type": "execute_result"
    }
   ],
   "source": [
    "accuracy_means"
   ]
  },
  {
   "cell_type": "markdown",
   "metadata": {},
   "source": [
    "Manhattan Distance produced a better accuracy compared to euclidean distance."
   ]
  },
  {
   "cell_type": "markdown",
   "metadata": {},
   "source": [
    "## weights"
   ]
  },
  {
   "cell_type": "code",
   "execution_count": 23,
   "metadata": {},
   "outputs": [
    {
     "data": {
      "image/png": "[encoded data removed]",
      "text/plain": [
       "<Figure size 432x288 with 1 Axes>"
      ]
     },
     "metadata": {
      "needs_background": "light"
     },
     "output_type": "display_data"
    }
   ],
   "source": [
    "# Using a different weight options\n",
    "weights = ['uniform', 'distance']\n",
    "accuracy_means = []\n",
    "\n",
    "for weight in weights:\n",
    "    knn_model = KNeighborsClassifier(weights=weight, p=1)\n",
    "    accuracy_means.append( cross_val_score(knn_model, X_train, y_train, scoring='accuracy').mean() )\n",
    "\n",
    "plt.bar(weights, accuracy_means)\n",
    "plt.xticks(weights)\n",
    "plt.xlabel('Weights')\n",
    "plt.ylabel('accuracy')\n",
    "plt.title('Using various Weights')\n",
    "plt.show()"
   ]
  },
  {
   "cell_type": "code",
   "execution_count": 24,
   "metadata": {},
   "outputs": [
    {
     "data": {
      "text/plain": [
       "[0.9011466981533023, 0.9199727718029662]"
      ]
     },
     "execution_count": 24,
     "metadata": {},
     "output_type": "execute_result"
    }
   ],
   "source": [
    "accuracy_means"
   ]
  },
  {
   "cell_type": "markdown",
   "metadata": {},
   "source": [
    "A weight of distance seemed to have performed well, producing a lesser log loss."
   ]
  },
  {
   "cell_type": "markdown",
   "metadata": {},
   "source": [
    "## algorithm"
   ]
  },
  {
   "cell_type": "code",
   "execution_count": 25,
   "metadata": {},
   "outputs": [
    {
     "data": {
      "image/png": "[encoded data removed]",
      "text/plain": [
       "<Figure size 432x288 with 1 Axes>"
      ]
     },
     "metadata": {
      "needs_background": "light"
     },
     "output_type": "display_data"
    }
   ],
   "source": [
    "# Using a different algorithm options\n",
    "algorithms = ['auto', 'ball_tree', 'kd_tree', 'brute']\n",
    "accuracy_means = []\n",
    "\n",
    "for algorithm in algorithms:\n",
    "    knn_model = KNeighborsClassifier(weights='distance', p=1, algorithm=algorithm)\n",
    "    accuracy_means.append( cross_val_score(knn_model, X_train, y_train, scoring='accuracy').mean() )\n",
    "\n",
    "plt.bar(algorithms, accuracy_means)\n",
    "plt.xticks(algorithms)\n",
    "plt.xlabel('Algorithms')\n",
    "plt.ylabel('accuracy')\n",
    "plt.title('Using various algorithms')\n",
    "plt.show()"
   ]
  },
  {
   "cell_type": "markdown",
   "metadata": {},
   "source": [
    "All algorithms have no effect hencewill stick to the default algorithms."
   ]
  },
  {
   "cell_type": "markdown",
   "metadata": {},
   "source": [
    "## Best KNN model"
   ]
  },
  {
   "cell_type": "code",
   "execution_count": 26,
   "metadata": {},
   "outputs": [
    {
     "data": {
      "text/html": [
       "<style>#sk-container-id-1 {color: black;background-color: white;}#sk-container-id-1 pre{padding: 0;}#sk-container-id-1 div.sk-toggleable {background-color: white;}#sk-container-id-1 label.sk-toggleable__label {cursor: pointer;display: block;width: 100%;margin-bottom: 0;padding: 0.3em;box-sizing: border-box;text-align: center;}#sk-container-id-1 label.sk-toggleable__label-arrow:before {content: \"▸\";float: left;margin-right: 0.25em;color: #696969;}#sk-container-id-1 label.sk-toggleable__label-arrow:hover:before {color: black;}#sk-container-id-1 div.sk-estimator:hover label.sk-toggleable__label-arrow:before {color: black;}#sk-container-id-1 div.sk-toggleable__content {max-height: 0;max-width: 0;overflow: hidden;text-align: left;background-color: #f0f8ff;}#sk-container-id-1 div.sk-toggleable__content pre {margin: 0.2em;color: black;border-radius: 0.25em;background-color: #f0f8ff;}#sk-container-id-1 input.sk-toggleable__control:checked~div.sk-toggleable__content {max-height: 200px;max-width: 100%;overflow: auto;}#sk-container-id-1 input.sk-toggleable__control:checked~label.sk-toggleable__label-arrow:before {content: \"▾\";}#sk-container-id-1 div.sk-estimator input.sk-toggleable__control:checked~label.sk-toggleable__label {background-color: #d4ebff;}#sk-container-id-1 div.sk-label input.sk-toggleable__control:checked~label.sk-toggleable__label {background-color: #d4ebff;}#sk-container-id-1 input.sk-hidden--visually {border: 0;clip: rect(1px 1px 1px 1px);clip: rect(1px, 1px, 1px, 1px);height: 1px;margin: -1px;overflow: hidden;padding: 0;position: absolute;width: 1px;}#sk-container-id-1 div.sk-estimator {font-family: monospace;background-color: #f0f8ff;border: 1px dotted black;border-radius: 0.25em;box-sizing: border-box;margin-bottom: 0.5em;}#sk-container-id-1 div.sk-estimator:hover {background-color: #d4ebff;}#sk-container-id-1 div.sk-parallel-item::after {content: \"\";width: 100%;border-bottom: 1px solid gray;flex-grow: 1;}#sk-container-id-1 div.sk-label:hover label.sk-toggleable__label {background-color: #d4ebff;}#sk-container-id-1 div.sk-serial::before {content: \"\";position: absolute;border-left: 1px solid gray;box-sizing: border-box;top: 0;bottom: 0;left: 50%;z-index: 0;}#sk-container-id-1 div.sk-serial {display: flex;flex-direction: column;align-items: center;background-color: white;padding-right: 0.2em;padding-left: 0.2em;position: relative;}#sk-container-id-1 div.sk-item {position: relative;z-index: 1;}#sk-container-id-1 div.sk-parallel {display: flex;align-items: stretch;justify-content: center;background-color: white;position: relative;}#sk-container-id-1 div.sk-item::before, #sk-container-id-1 div.sk-parallel-item::before {content: \"\";position: absolute;border-left: 1px solid gray;box-sizing: border-box;top: 0;bottom: 0;left: 50%;z-index: -1;}#sk-container-id-1 div.sk-parallel-item {display: flex;flex-direction: column;z-index: 1;position: relative;background-color: white;}#sk-container-id-1 div.sk-parallel-item:first-child::after {align-self: flex-end;width: 50%;}#sk-container-id-1 div.sk-parallel-item:last-child::after {align-self: flex-start;width: 50%;}#sk-container-id-1 div.sk-parallel-item:only-child::after {width: 0;}#sk-container-id-1 div.sk-dashed-wrapped {border: 1px dashed gray;margin: 0 0.4em 0.5em 0.4em;box-sizing: border-box;padding-bottom: 0.4em;background-color: white;}#sk-container-id-1 div.sk-label label {font-family: monospace;font-weight: bold;display: inline-block;line-height: 1.2em;}#sk-container-id-1 div.sk-label-container {text-align: center;}#sk-container-id-1 div.sk-container {/* jupyter's `normalize.less` sets `[hidden] { display: none; }` but bootstrap.min.css set `[hidden] { display: none !important; }` so we also need the `!important` here to be able to override the default hidden behavior on the sphinx rendered scikit-learn.org. See: https://github.com/scikit-learn/scikit-learn/issues/21755 */display: inline-block !important;position: relative;}#sk-container-id-1 div.sk-text-repr-fallback {display: none;}</style><div id=\"sk-container-id-1\" class=\"sk-top-container\"><div class=\"sk-text-repr-fallback\"><pre>KNeighborsClassifier(p=1, weights=&#x27;distance&#x27;)</pre><b>In a Jupyter environment, please rerun this cell to show the HTML representation or trust the notebook. <br />On GitHub, the HTML representation is unable to render, please try loading this page with nbviewer.org.</b></div><div class=\"sk-container\" hidden><div class=\"sk-item\"><div class=\"sk-estimator sk-toggleable\"><input class=\"sk-toggleable__control sk-hidden--visually\" id=\"sk-estimator-id-1\" type=\"checkbox\" checked><label for=\"sk-estimator-id-1\" class=\"sk-toggleable__label sk-toggleable__label-arrow\">KNeighborsClassifier</label><div class=\"sk-toggleable__content\"><pre>KNeighborsClassifier(p=1, weights=&#x27;distance&#x27;)</pre></div></div></div></div></div>"
      ],
      "text/plain": [
       "KNeighborsClassifier(p=1, weights='distance')"
      ]
     },
     "execution_count": 26,
     "metadata": {},
     "output_type": "execute_result"
    }
   ],
   "source": [
    "# intializing a knn model with the best parameters and fitting it.\n",
    "best_knn_model = KNeighborsClassifier(p=1, weights='distance')\n",
    "best_knn_model.fit(X_train, y_train)"
   ]
  },
  {
   "cell_type": "code",
   "execution_count": 28,
   "metadata": {},
   "outputs": [
    {
     "name": "stdout",
     "output_type": "stream",
     "text": [
      "KNN Classifier best model results on the test set\n",
      "The precision score is:\t 0.8572809278350515\n",
      "The recall score is:\t 0.4115372718836994\n",
      "The accuracy score is:\t 0.4429583005507474\n",
      "The f1 score is:\t 0.5561128526645768\n"
     ]
    }
   ],
   "source": [
    "y_test_bknn = best_knn_model.predict(X_test)\n",
    "print('KNN Classifier best model results on the test set')\n",
    "scores(y_test, y_test_bknn)"
   ]
  },
  {
   "cell_type": "code",
   "execution_count": 29,
   "metadata": {},
   "outputs": [
    {
     "name": "stderr",
     "output_type": "stream",
     "text": [
      "/home/iain/.local/lib/python3.8/site-packages/sklearn/utils/deprecation.py:87: FutureWarning: Function plot_confusion_matrix is deprecated; Function `plot_confusion_matrix` is deprecated in 1.0 and will be removed in 1.2. Use one of the class methods: ConfusionMatrixDisplay.from_predictions or ConfusionMatrixDisplay.from_estimator.\n",
      "  warnings.warn(msg, category=FutureWarning)\n"
     ]
    },
    {
     "data": {
      "image/png": "[encoded data removed]",
      "text/plain": [
       "<Figure size 432x288 with 2 Axes>"
      ]
     },
     "metadata": {
      "needs_background": "light"
     },
     "output_type": "display_data"
    }
   ],
   "source": [
    "plot_confusion_matrix(best_knn_model, X_test, y_test)\n",
    "plt.show()"
   ]
  },
  {
   "cell_type": "markdown",
   "metadata": {},
   "source": [
    "## Interpretating the results."
   ]
  },
  {
   "cell_type": "markdown",
   "metadata": {},
   "source": [
    "The best KNN model does not perfom well compared to the other used classification models in this notebook. Hence is disqualifed."
   ]
  }
 ],
 "metadata": {
  "kernelspec": {
   "display_name": "Python 3.8.10 64-bit",
   "language": "python",
   "name": "python3"
  },
  "language_info": {
   "codemirror_mode": {
    "name": "ipython",
    "version": 3
   },
   "file_extension": ".py",
   "mimetype": "text/x-python",
   "name": "python",
   "nbconvert_exporter": "python",
   "pygments_lexer": "ipython3",
   "version": "3.8.10"
  },
  "orig_nbformat": 4,
  "vscode": {
   "interpreter": {
    "hash": "916dbcbb3f70747c44a77c7bcd40155683ae19c65e1c03b4aa3499c5328201f1"
   }
  }
 },
 "nbformat": 4,
 "nbformat_minor": 2
}
