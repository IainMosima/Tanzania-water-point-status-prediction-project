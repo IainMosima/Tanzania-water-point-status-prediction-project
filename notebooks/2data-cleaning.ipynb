{
 "cells": [
  {
   "cell_type": "code",
   "execution_count": 1,
   "metadata": {},
   "outputs": [],
   "source": [
    "# Importing necessary libraries\n",
    "import pandas as pd\n",
    "import numpy as np\n",
    "import seaborn as sns\n",
    "import matplotlib.pyplot as plt\n",
    "from sklearn.model_selection import train_test_split\n",
    "from myfunctions import set_importer\n",
    "sns.set_style(\"whitegrid\")\n",
    "%matplotlib inline\n",
    "\n",
    "# setting font size for all plots\n",
    "font = {'size'   : 16}\n",
    "\n",
    "plt.rc('font', **font)"
   ]
  },
  {
   "cell_type": "code",
   "execution_count": 2,
   "metadata": {},
   "outputs": [
    {
     "data": {
      "text/html": [
       "<div>\n",
       "<style scoped>\n",
       "    .dataframe tbody tr th:only-of-type {\n",
       "        vertical-align: middle;\n",
       "    }\n",
       "\n",
       "    .dataframe tbody tr th {\n",
       "        vertical-align: top;\n",
       "    }\n",
       "\n",
       "    .dataframe thead th {\n",
       "        text-align: right;\n",
       "    }\n",
       "</style>\n",
       "<table border=\"1\" class=\"dataframe\">\n",
       "  <thead>\n",
       "    <tr style=\"text-align: right;\">\n",
       "      <th></th>\n",
       "      <th>id</th>\n",
       "      <th>amount_tsh</th>\n",
       "      <th>date_recorded</th>\n",
       "      <th>funder</th>\n",
       "      <th>gps_height</th>\n",
       "      <th>installer</th>\n",
       "      <th>longitude</th>\n",
       "      <th>latitude</th>\n",
       "      <th>wpt_name</th>\n",
       "      <th>num_private</th>\n",
       "      <th>...</th>\n",
       "      <th>water_quality</th>\n",
       "      <th>quality_group</th>\n",
       "      <th>quantity</th>\n",
       "      <th>quantity_group</th>\n",
       "      <th>source</th>\n",
       "      <th>source_type</th>\n",
       "      <th>source_class</th>\n",
       "      <th>waterpoint_type</th>\n",
       "      <th>waterpoint_type_group</th>\n",
       "      <th>status_group</th>\n",
       "    </tr>\n",
       "  </thead>\n",
       "  <tbody>\n",
       "    <tr>\n",
       "      <th>0</th>\n",
       "      <td>67743</td>\n",
       "      <td>0.0</td>\n",
       "      <td>2013-01-28</td>\n",
       "      <td>Unicef</td>\n",
       "      <td>263</td>\n",
       "      <td>UNICEF</td>\n",
       "      <td>38.486161</td>\n",
       "      <td>-11.155298</td>\n",
       "      <td>Zahanati Ya Nanyumbu</td>\n",
       "      <td>0</td>\n",
       "      <td>...</td>\n",
       "      <td>soft</td>\n",
       "      <td>good</td>\n",
       "      <td>dry</td>\n",
       "      <td>dry</td>\n",
       "      <td>machine dbh</td>\n",
       "      <td>borehole</td>\n",
       "      <td>groundwater</td>\n",
       "      <td>communal standpipe multiple</td>\n",
       "      <td>communal standpipe</td>\n",
       "      <td>non functional</td>\n",
       "    </tr>\n",
       "    <tr>\n",
       "      <th>1</th>\n",
       "      <td>19816</td>\n",
       "      <td>0.0</td>\n",
       "      <td>2012-10-01</td>\n",
       "      <td>Dwsp</td>\n",
       "      <td>0</td>\n",
       "      <td>DWSP</td>\n",
       "      <td>33.362410</td>\n",
       "      <td>-3.766365</td>\n",
       "      <td>Kwa Ngomho</td>\n",
       "      <td>0</td>\n",
       "      <td>...</td>\n",
       "      <td>soft</td>\n",
       "      <td>good</td>\n",
       "      <td>enough</td>\n",
       "      <td>enough</td>\n",
       "      <td>machine dbh</td>\n",
       "      <td>borehole</td>\n",
       "      <td>groundwater</td>\n",
       "      <td>hand pump</td>\n",
       "      <td>hand pump</td>\n",
       "      <td>non functional</td>\n",
       "    </tr>\n",
       "    <tr>\n",
       "      <th>2</th>\n",
       "      <td>54551</td>\n",
       "      <td>0.0</td>\n",
       "      <td>2012-10-09</td>\n",
       "      <td>Rwssp</td>\n",
       "      <td>0</td>\n",
       "      <td>DWE</td>\n",
       "      <td>32.620617</td>\n",
       "      <td>-4.226198</td>\n",
       "      <td>Tushirikiane</td>\n",
       "      <td>0</td>\n",
       "      <td>...</td>\n",
       "      <td>milky</td>\n",
       "      <td>milky</td>\n",
       "      <td>enough</td>\n",
       "      <td>enough</td>\n",
       "      <td>shallow well</td>\n",
       "      <td>shallow well</td>\n",
       "      <td>groundwater</td>\n",
       "      <td>hand pump</td>\n",
       "      <td>hand pump</td>\n",
       "      <td>non functional</td>\n",
       "    </tr>\n",
       "    <tr>\n",
       "      <th>3</th>\n",
       "      <td>53934</td>\n",
       "      <td>0.0</td>\n",
       "      <td>2012-11-03</td>\n",
       "      <td>Wateraid</td>\n",
       "      <td>0</td>\n",
       "      <td>Water Aid</td>\n",
       "      <td>32.711100</td>\n",
       "      <td>-5.146712</td>\n",
       "      <td>Kwa Ramadhan Musa</td>\n",
       "      <td>0</td>\n",
       "      <td>...</td>\n",
       "      <td>salty</td>\n",
       "      <td>salty</td>\n",
       "      <td>seasonal</td>\n",
       "      <td>seasonal</td>\n",
       "      <td>machine dbh</td>\n",
       "      <td>borehole</td>\n",
       "      <td>groundwater</td>\n",
       "      <td>hand pump</td>\n",
       "      <td>hand pump</td>\n",
       "      <td>non functional</td>\n",
       "    </tr>\n",
       "    <tr>\n",
       "      <th>4</th>\n",
       "      <td>48451</td>\n",
       "      <td>500.0</td>\n",
       "      <td>2011-07-04</td>\n",
       "      <td>Unicef</td>\n",
       "      <td>1703</td>\n",
       "      <td>DWE</td>\n",
       "      <td>34.642439</td>\n",
       "      <td>-9.106185</td>\n",
       "      <td>Kwa John Mtenzi</td>\n",
       "      <td>0</td>\n",
       "      <td>...</td>\n",
       "      <td>soft</td>\n",
       "      <td>good</td>\n",
       "      <td>dry</td>\n",
       "      <td>dry</td>\n",
       "      <td>river</td>\n",
       "      <td>river/lake</td>\n",
       "      <td>surface</td>\n",
       "      <td>communal standpipe</td>\n",
       "      <td>communal standpipe</td>\n",
       "      <td>non functional</td>\n",
       "    </tr>\n",
       "    <tr>\n",
       "      <th>5</th>\n",
       "      <td>58155</td>\n",
       "      <td>0.0</td>\n",
       "      <td>2011-09-04</td>\n",
       "      <td>Unicef</td>\n",
       "      <td>1656</td>\n",
       "      <td>DWE</td>\n",
       "      <td>34.569266</td>\n",
       "      <td>-9.085515</td>\n",
       "      <td>Kwa Rose Chaula</td>\n",
       "      <td>0</td>\n",
       "      <td>...</td>\n",
       "      <td>soft</td>\n",
       "      <td>good</td>\n",
       "      <td>dry</td>\n",
       "      <td>dry</td>\n",
       "      <td>river</td>\n",
       "      <td>river/lake</td>\n",
       "      <td>surface</td>\n",
       "      <td>communal standpipe</td>\n",
       "      <td>communal standpipe</td>\n",
       "      <td>non functional</td>\n",
       "    </tr>\n",
       "    <tr>\n",
       "      <th>6</th>\n",
       "      <td>34169</td>\n",
       "      <td>0.0</td>\n",
       "      <td>2011-07-22</td>\n",
       "      <td>Hesawa</td>\n",
       "      <td>1162</td>\n",
       "      <td>DWE</td>\n",
       "      <td>32.920154</td>\n",
       "      <td>-1.947868</td>\n",
       "      <td>Ngomee</td>\n",
       "      <td>0</td>\n",
       "      <td>...</td>\n",
       "      <td>milky</td>\n",
       "      <td>milky</td>\n",
       "      <td>insufficient</td>\n",
       "      <td>insufficient</td>\n",
       "      <td>spring</td>\n",
       "      <td>spring</td>\n",
       "      <td>groundwater</td>\n",
       "      <td>other</td>\n",
       "      <td>other</td>\n",
       "      <td>functional needs repair</td>\n",
       "    </tr>\n",
       "    <tr>\n",
       "      <th>7</th>\n",
       "      <td>58500</td>\n",
       "      <td>0.0</td>\n",
       "      <td>2011-10-04</td>\n",
       "      <td>Unicef</td>\n",
       "      <td>1510</td>\n",
       "      <td>DWE</td>\n",
       "      <td>34.586901</td>\n",
       "      <td>-8.980014</td>\n",
       "      <td>Shuleni</td>\n",
       "      <td>0</td>\n",
       "      <td>...</td>\n",
       "      <td>soft</td>\n",
       "      <td>good</td>\n",
       "      <td>enough</td>\n",
       "      <td>enough</td>\n",
       "      <td>river</td>\n",
       "      <td>river/lake</td>\n",
       "      <td>surface</td>\n",
       "      <td>communal standpipe</td>\n",
       "      <td>communal standpipe</td>\n",
       "      <td>functional needs repair</td>\n",
       "    </tr>\n",
       "    <tr>\n",
       "      <th>8</th>\n",
       "      <td>22308</td>\n",
       "      <td>0.0</td>\n",
       "      <td>2013-02-25</td>\n",
       "      <td>Government Of Tanzania</td>\n",
       "      <td>1273</td>\n",
       "      <td>DWE</td>\n",
       "      <td>37.422751</td>\n",
       "      <td>-3.317536</td>\n",
       "      <td>Kwa Tukai</td>\n",
       "      <td>0</td>\n",
       "      <td>...</td>\n",
       "      <td>soft</td>\n",
       "      <td>good</td>\n",
       "      <td>enough</td>\n",
       "      <td>enough</td>\n",
       "      <td>spring</td>\n",
       "      <td>spring</td>\n",
       "      <td>groundwater</td>\n",
       "      <td>communal standpipe</td>\n",
       "      <td>communal standpipe</td>\n",
       "      <td>functional needs repair</td>\n",
       "    </tr>\n",
       "    <tr>\n",
       "      <th>9</th>\n",
       "      <td>19685</td>\n",
       "      <td>0.0</td>\n",
       "      <td>2013-03-05</td>\n",
       "      <td>Government Of Tanzania</td>\n",
       "      <td>1443</td>\n",
       "      <td>District council</td>\n",
       "      <td>37.611126</td>\n",
       "      <td>-3.263526</td>\n",
       "      <td>Kwa Kibakaya</td>\n",
       "      <td>0</td>\n",
       "      <td>...</td>\n",
       "      <td>soft</td>\n",
       "      <td>good</td>\n",
       "      <td>insufficient</td>\n",
       "      <td>insufficient</td>\n",
       "      <td>spring</td>\n",
       "      <td>spring</td>\n",
       "      <td>groundwater</td>\n",
       "      <td>communal standpipe</td>\n",
       "      <td>communal standpipe</td>\n",
       "      <td>non functional</td>\n",
       "    </tr>\n",
       "  </tbody>\n",
       "</table>\n",
       "<p>10 rows × 41 columns</p>\n",
       "</div>"
      ],
      "text/plain": [
       "      id  amount_tsh date_recorded                  funder  gps_height  \\\n",
       "0  67743         0.0    2013-01-28                  Unicef         263   \n",
       "1  19816         0.0    2012-10-01                    Dwsp           0   \n",
       "2  54551         0.0    2012-10-09                   Rwssp           0   \n",
       "3  53934         0.0    2012-11-03                Wateraid           0   \n",
       "4  48451       500.0    2011-07-04                  Unicef        1703   \n",
       "5  58155         0.0    2011-09-04                  Unicef        1656   \n",
       "6  34169         0.0    2011-07-22                  Hesawa        1162   \n",
       "7  58500         0.0    2011-10-04                  Unicef        1510   \n",
       "8  22308         0.0    2013-02-25  Government Of Tanzania        1273   \n",
       "9  19685         0.0    2013-03-05  Government Of Tanzania        1443   \n",
       "\n",
       "          installer  longitude   latitude              wpt_name  num_private  \\\n",
       "0            UNICEF  38.486161 -11.155298  Zahanati Ya Nanyumbu            0   \n",
       "1              DWSP  33.362410  -3.766365            Kwa Ngomho            0   \n",
       "2               DWE  32.620617  -4.226198          Tushirikiane            0   \n",
       "3         Water Aid  32.711100  -5.146712     Kwa Ramadhan Musa            0   \n",
       "4               DWE  34.642439  -9.106185       Kwa John Mtenzi            0   \n",
       "5               DWE  34.569266  -9.085515       Kwa Rose Chaula            0   \n",
       "6               DWE  32.920154  -1.947868                Ngomee            0   \n",
       "7               DWE  34.586901  -8.980014               Shuleni            0   \n",
       "8               DWE  37.422751  -3.317536             Kwa Tukai            0   \n",
       "9  District council  37.611126  -3.263526          Kwa Kibakaya            0   \n",
       "\n",
       "   ... water_quality quality_group      quantity  quantity_group  \\\n",
       "0  ...          soft          good           dry             dry   \n",
       "1  ...          soft          good        enough          enough   \n",
       "2  ...         milky         milky        enough          enough   \n",
       "3  ...         salty         salty      seasonal        seasonal   \n",
       "4  ...          soft          good           dry             dry   \n",
       "5  ...          soft          good           dry             dry   \n",
       "6  ...         milky         milky  insufficient    insufficient   \n",
       "7  ...          soft          good        enough          enough   \n",
       "8  ...          soft          good        enough          enough   \n",
       "9  ...          soft          good  insufficient    insufficient   \n",
       "\n",
       "         source   source_type source_class              waterpoint_type  \\\n",
       "0   machine dbh      borehole  groundwater  communal standpipe multiple   \n",
       "1   machine dbh      borehole  groundwater                    hand pump   \n",
       "2  shallow well  shallow well  groundwater                    hand pump   \n",
       "3   machine dbh      borehole  groundwater                    hand pump   \n",
       "4         river    river/lake      surface           communal standpipe   \n",
       "5         river    river/lake      surface           communal standpipe   \n",
       "6        spring        spring  groundwater                        other   \n",
       "7         river    river/lake      surface           communal standpipe   \n",
       "8        spring        spring  groundwater           communal standpipe   \n",
       "9        spring        spring  groundwater           communal standpipe   \n",
       "\n",
       "  waterpoint_type_group             status_group  \n",
       "0    communal standpipe           non functional  \n",
       "1             hand pump           non functional  \n",
       "2             hand pump           non functional  \n",
       "3             hand pump           non functional  \n",
       "4    communal standpipe           non functional  \n",
       "5    communal standpipe           non functional  \n",
       "6                 other  functional needs repair  \n",
       "7    communal standpipe  functional needs repair  \n",
       "8    communal standpipe  functional needs repair  \n",
       "9    communal standpipe           non functional  \n",
       "\n",
       "[10 rows x 41 columns]"
      ]
     },
     "execution_count": 2,
     "metadata": {},
     "output_type": "execute_result"
    }
   ],
   "source": [
    "# importing the data frame\n",
    "df = set_importer('../analysis-dfs/df.csv')\n",
    "df.head(10)"
   ]
  },
  {
   "cell_type": "markdown",
   "metadata": {},
   "source": [
    "# Data Cleaning"
   ]
  },
  {
   "cell_type": "markdown",
   "metadata": {},
   "source": [
    "Before begining th data cleaning process I will first divide the data fram into a training and testing set. This will prevent data leakage."
   ]
  },
  {
   "cell_type": "code",
   "execution_count": 3,
   "metadata": {},
   "outputs": [],
   "source": [
    "X = df.drop('status_group', axis=1)\n",
    "y = df.status_group\n",
    "X_train, X_test, y_train, y_test = train_test_split(X, y, test_size=.30, random_state=21)"
   ]
  },
  {
   "cell_type": "code",
   "execution_count": 4,
   "metadata": {},
   "outputs": [
    {
     "name": "stdout",
     "output_type": "stream",
     "text": [
      "X_train has 40 columns and 18998 rows\n",
      "X_test has 40 columns and 8143 rows\n"
     ]
    }
   ],
   "source": [
    "print(f\"X_train has {X_train.shape[1]} columns and {X_train.shape[0]} rows\")\n",
    "print(f\"X_test has {X_test.shape[1]} columns and {X_test.shape[0]} rows\")"
   ]
  },
  {
   "cell_type": "markdown",
   "metadata": {},
   "source": [
    "## Combining X_train and y_train"
   ]
  },
  {
   "cell_type": "code",
   "execution_count": 5,
   "metadata": {},
   "outputs": [],
   "source": [
    "# If any record is dropped during the data cleaning process it's same result should be dropped so as to avoid problems the fitting process during modelling\n",
    "X_train = pd.concat([X_train, y_train], axis=1)"
   ]
  },
  {
   "cell_type": "markdown",
   "metadata": {},
   "source": [
    "## Converting all strings to lower case and stripping whitespaces to avoids similar names being treated as different categories"
   ]
  },
  {
   "cell_type": "code",
   "execution_count": 6,
   "metadata": {},
   "outputs": [],
   "source": [
    "X_train_cleaned = X_train.applymap(lambda x: x.lower().strip() if type(x) == str else  x)"
   ]
  },
  {
   "cell_type": "markdown",
   "metadata": {},
   "source": [
    "## Dealing with Null Values"
   ]
  },
  {
   "cell_type": "code",
   "execution_count": 7,
   "metadata": {},
   "outputs": [
    {
     "data": {
      "text/html": [
       "<div>\n",
       "<style scoped>\n",
       "    .dataframe tbody tr th:only-of-type {\n",
       "        vertical-align: middle;\n",
       "    }\n",
       "\n",
       "    .dataframe tbody tr th {\n",
       "        vertical-align: top;\n",
       "    }\n",
       "\n",
       "    .dataframe thead th {\n",
       "        text-align: right;\n",
       "    }\n",
       "</style>\n",
       "<table border=\"1\" class=\"dataframe\">\n",
       "  <thead>\n",
       "    <tr style=\"text-align: right;\">\n",
       "      <th></th>\n",
       "      <th>Nulls</th>\n",
       "    </tr>\n",
       "  </thead>\n",
       "  <tbody>\n",
       "    <tr>\n",
       "      <th>scheme_name</th>\n",
       "      <td>9570</td>\n",
       "    </tr>\n",
       "    <tr>\n",
       "      <th>scheme_management</th>\n",
       "      <td>1399</td>\n",
       "    </tr>\n",
       "    <tr>\n",
       "      <th>installer</th>\n",
       "      <td>1208</td>\n",
       "    </tr>\n",
       "    <tr>\n",
       "      <th>funder</th>\n",
       "      <td>1207</td>\n",
       "    </tr>\n",
       "    <tr>\n",
       "      <th>public_meeting</th>\n",
       "      <td>1156</td>\n",
       "    </tr>\n",
       "    <tr>\n",
       "      <th>permit</th>\n",
       "      <td>1022</td>\n",
       "    </tr>\n",
       "    <tr>\n",
       "      <th>subvillage</th>\n",
       "      <td>112</td>\n",
       "    </tr>\n",
       "  </tbody>\n",
       "</table>\n",
       "</div>"
      ],
      "text/plain": [
       "                   Nulls\n",
       "scheme_name         9570\n",
       "scheme_management   1399\n",
       "installer           1208\n",
       "funder              1207\n",
       "public_meeting      1156\n",
       "permit              1022\n",
       "subvillage           112"
      ]
     },
     "execution_count": 7,
     "metadata": {},
     "output_type": "execute_result"
    }
   ],
   "source": [
    "# function for checking  null values in a given train set\n",
    "def null_identifier(set):\n",
    "    null_values = set.isna().sum().to_frame()\n",
    "    null_values.columns = ['Nulls']\n",
    "    null_values = null_values[null_values['Nulls'] != 0]\n",
    "\n",
    "    return null_values.sort_values('Nulls', ascending=False) # returning a sorted null value counts.\n",
    "\n",
    "null_identifier(X_train)"
   ]
  },
  {
   "cell_type": "markdown",
   "metadata": {},
   "source": [
    "#### scheme_name"
   ]
  },
  {
   "cell_type": "code",
   "execution_count": 8,
   "metadata": {},
   "outputs": [
    {
     "data": {
      "text/html": [
       "<div>\n",
       "<style scoped>\n",
       "    .dataframe tbody tr th:only-of-type {\n",
       "        vertical-align: middle;\n",
       "    }\n",
       "\n",
       "    .dataframe tbody tr th {\n",
       "        vertical-align: top;\n",
       "    }\n",
       "\n",
       "    .dataframe thead th {\n",
       "        text-align: right;\n",
       "    }\n",
       "</style>\n",
       "<table border=\"1\" class=\"dataframe\">\n",
       "  <thead>\n",
       "    <tr style=\"text-align: right;\">\n",
       "      <th></th>\n",
       "      <th>Nulls</th>\n",
       "    </tr>\n",
       "  </thead>\n",
       "  <tbody>\n",
       "    <tr>\n",
       "      <th>scheme_management</th>\n",
       "      <td>1399</td>\n",
       "    </tr>\n",
       "    <tr>\n",
       "      <th>installer</th>\n",
       "      <td>1208</td>\n",
       "    </tr>\n",
       "    <tr>\n",
       "      <th>funder</th>\n",
       "      <td>1207</td>\n",
       "    </tr>\n",
       "    <tr>\n",
       "      <th>public_meeting</th>\n",
       "      <td>1156</td>\n",
       "    </tr>\n",
       "    <tr>\n",
       "      <th>permit</th>\n",
       "      <td>1022</td>\n",
       "    </tr>\n",
       "    <tr>\n",
       "      <th>subvillage</th>\n",
       "      <td>112</td>\n",
       "    </tr>\n",
       "  </tbody>\n",
       "</table>\n",
       "</div>"
      ],
      "text/plain": [
       "                   Nulls\n",
       "scheme_management   1399\n",
       "installer           1208\n",
       "funder              1207\n",
       "public_meeting      1156\n",
       "permit              1022\n",
       "subvillage           112"
      ]
     },
     "execution_count": 8,
     "metadata": {},
     "output_type": "execute_result"
    }
   ],
   "source": [
    "# Scheme name is the name given to a particula well, statistically this has no effect to the target column hence I will drop it.\n",
    "X_train_cleaned = X_train_cleaned.drop('scheme_name', axis=1)\n",
    "null_identifier(X_train_cleaned)"
   ]
  },
  {
   "cell_type": "markdown",
   "metadata": {},
   "source": [
    "##### scheme_management"
   ]
  },
  {
   "cell_type": "code",
   "execution_count": 9,
   "metadata": {},
   "outputs": [
    {
     "data": {
      "text/html": [
       "<div>\n",
       "<style scoped>\n",
       "    .dataframe tbody tr th:only-of-type {\n",
       "        vertical-align: middle;\n",
       "    }\n",
       "\n",
       "    .dataframe tbody tr th {\n",
       "        vertical-align: top;\n",
       "    }\n",
       "\n",
       "    .dataframe thead th {\n",
       "        text-align: right;\n",
       "    }\n",
       "</style>\n",
       "<table border=\"1\" class=\"dataframe\">\n",
       "  <thead>\n",
       "    <tr style=\"text-align: right;\">\n",
       "      <th></th>\n",
       "      <th>Nulls</th>\n",
       "    </tr>\n",
       "  </thead>\n",
       "  <tbody>\n",
       "    <tr>\n",
       "      <th>installer</th>\n",
       "      <td>1208</td>\n",
       "    </tr>\n",
       "    <tr>\n",
       "      <th>funder</th>\n",
       "      <td>1207</td>\n",
       "    </tr>\n",
       "    <tr>\n",
       "      <th>public_meeting</th>\n",
       "      <td>1156</td>\n",
       "    </tr>\n",
       "    <tr>\n",
       "      <th>permit</th>\n",
       "      <td>1022</td>\n",
       "    </tr>\n",
       "    <tr>\n",
       "      <th>subvillage</th>\n",
       "      <td>112</td>\n",
       "    </tr>\n",
       "  </tbody>\n",
       "</table>\n",
       "</div>"
      ],
      "text/plain": [
       "                Nulls\n",
       "installer        1208\n",
       "funder           1207\n",
       "public_meeting   1156\n",
       "permit           1022\n",
       "subvillage        112"
      ]
     },
     "execution_count": 9,
     "metadata": {},
     "output_type": "execute_result"
    }
   ],
   "source": [
    "#  will drop this column since ther exist a column named 'managed_group' which provides more clear information.\n",
    "X_train_cleaned = X_train_cleaned.drop('scheme_management', axis=1)\n",
    "null_identifier(X_train_cleaned)"
   ]
  },
  {
   "cell_type": "markdown",
   "metadata": {},
   "source": [
    "#### installer"
   ]
  },
  {
   "cell_type": "code",
   "execution_count": 10,
   "metadata": {},
   "outputs": [
    {
     "data": {
      "text/plain": [
       "0"
      ]
     },
     "metadata": {},
     "output_type": "display_data"
    },
    {
     "data": {
      "text/html": [
       "<div>\n",
       "<style scoped>\n",
       "    .dataframe tbody tr th:only-of-type {\n",
       "        vertical-align: middle;\n",
       "    }\n",
       "\n",
       "    .dataframe tbody tr th {\n",
       "        vertical-align: top;\n",
       "    }\n",
       "\n",
       "    .dataframe thead th {\n",
       "        text-align: right;\n",
       "    }\n",
       "</style>\n",
       "<table border=\"1\" class=\"dataframe\">\n",
       "  <thead>\n",
       "    <tr style=\"text-align: right;\">\n",
       "      <th></th>\n",
       "      <th>Nulls</th>\n",
       "    </tr>\n",
       "  </thead>\n",
       "  <tbody>\n",
       "    <tr>\n",
       "      <th>funder</th>\n",
       "      <td>1207</td>\n",
       "    </tr>\n",
       "    <tr>\n",
       "      <th>public_meeting</th>\n",
       "      <td>1156</td>\n",
       "    </tr>\n",
       "    <tr>\n",
       "      <th>permit</th>\n",
       "      <td>1022</td>\n",
       "    </tr>\n",
       "    <tr>\n",
       "      <th>subvillage</th>\n",
       "      <td>112</td>\n",
       "    </tr>\n",
       "  </tbody>\n",
       "</table>\n",
       "</div>"
      ],
      "text/plain": [
       "                Nulls\n",
       "funder           1207\n",
       "public_meeting   1156\n",
       "permit           1022\n",
       "subvillage        112"
      ]
     },
     "execution_count": 10,
     "metadata": {},
     "output_type": "execute_result"
    }
   ],
   "source": [
    "# replacing the null values in installer with 'not known'\n",
    "X_train_cleaned.installer = X_train_cleaned.installer.fillna('unknown')\n",
    "display(X_train_cleaned.installer.isna().sum())\n",
    "\n",
    "# displaying the next null values\n",
    "null_identifier(X_train_cleaned)"
   ]
  },
  {
   "cell_type": "markdown",
   "metadata": {},
   "source": [
    "#### funder"
   ]
  },
  {
   "cell_type": "code",
   "execution_count": 11,
   "metadata": {},
   "outputs": [
    {
     "data": {
      "text/plain": [
       "0"
      ]
     },
     "metadata": {},
     "output_type": "display_data"
    },
    {
     "data": {
      "text/html": [
       "<div>\n",
       "<style scoped>\n",
       "    .dataframe tbody tr th:only-of-type {\n",
       "        vertical-align: middle;\n",
       "    }\n",
       "\n",
       "    .dataframe tbody tr th {\n",
       "        vertical-align: top;\n",
       "    }\n",
       "\n",
       "    .dataframe thead th {\n",
       "        text-align: right;\n",
       "    }\n",
       "</style>\n",
       "<table border=\"1\" class=\"dataframe\">\n",
       "  <thead>\n",
       "    <tr style=\"text-align: right;\">\n",
       "      <th></th>\n",
       "      <th>Nulls</th>\n",
       "    </tr>\n",
       "  </thead>\n",
       "  <tbody>\n",
       "    <tr>\n",
       "      <th>public_meeting</th>\n",
       "      <td>1156</td>\n",
       "    </tr>\n",
       "    <tr>\n",
       "      <th>permit</th>\n",
       "      <td>1022</td>\n",
       "    </tr>\n",
       "    <tr>\n",
       "      <th>subvillage</th>\n",
       "      <td>112</td>\n",
       "    </tr>\n",
       "  </tbody>\n",
       "</table>\n",
       "</div>"
      ],
      "text/plain": [
       "                Nulls\n",
       "public_meeting   1156\n",
       "permit           1022\n",
       "subvillage        112"
      ]
     },
     "execution_count": 11,
     "metadata": {},
     "output_type": "execute_result"
    }
   ],
   "source": [
    "#  replacing funder null values with 'not known'\n",
    "X_train_cleaned.funder = X_train_cleaned.funder.fillna('notknown')\n",
    "display(X_train_cleaned.funder.isna().sum())\n",
    "null_identifier(X_train_cleaned)"
   ]
  },
  {
   "cell_type": "markdown",
   "metadata": {},
   "source": [
    "#### public_meeting"
   ]
  },
  {
   "cell_type": "code",
   "execution_count": 12,
   "metadata": {},
   "outputs": [
    {
     "data": {
      "text/html": [
       "<div>\n",
       "<style scoped>\n",
       "    .dataframe tbody tr th:only-of-type {\n",
       "        vertical-align: middle;\n",
       "    }\n",
       "\n",
       "    .dataframe tbody tr th {\n",
       "        vertical-align: top;\n",
       "    }\n",
       "\n",
       "    .dataframe thead th {\n",
       "        text-align: right;\n",
       "    }\n",
       "</style>\n",
       "<table border=\"1\" class=\"dataframe\">\n",
       "  <thead>\n",
       "    <tr style=\"text-align: right;\">\n",
       "      <th></th>\n",
       "      <th>Nulls</th>\n",
       "    </tr>\n",
       "  </thead>\n",
       "  <tbody>\n",
       "    <tr>\n",
       "      <th>permit</th>\n",
       "      <td>1022</td>\n",
       "    </tr>\n",
       "    <tr>\n",
       "      <th>subvillage</th>\n",
       "      <td>112</td>\n",
       "    </tr>\n",
       "  </tbody>\n",
       "</table>\n",
       "</div>"
      ],
      "text/plain": [
       "            Nulls\n",
       "permit       1022\n",
       "subvillage    112"
      ]
     },
     "execution_count": 12,
     "metadata": {},
     "output_type": "execute_result"
    }
   ],
   "source": [
    "# This is an irrelevant column hence I will drop it - no way a public meeting has an effect on the condition of a well\n",
    "X_train_cleaned.drop('public_meeting', axis=1, inplace=True)\n",
    "\n",
    "null_identifier(X_train_cleaned)"
   ]
  },
  {
   "cell_type": "markdown",
   "metadata": {},
   "source": [
    "#### permit"
   ]
  },
  {
   "cell_type": "code",
   "execution_count": 13,
   "metadata": {},
   "outputs": [],
   "source": [
    "# replacing the null values with the mode  \n",
    "permit_mode = X_train_cleaned.permit.mode()[0] # checking the most repeated values"
   ]
  },
  {
   "cell_type": "code",
   "execution_count": 14,
   "metadata": {},
   "outputs": [
    {
     "data": {
      "text/html": [
       "<div>\n",
       "<style scoped>\n",
       "    .dataframe tbody tr th:only-of-type {\n",
       "        vertical-align: middle;\n",
       "    }\n",
       "\n",
       "    .dataframe tbody tr th {\n",
       "        vertical-align: top;\n",
       "    }\n",
       "\n",
       "    .dataframe thead th {\n",
       "        text-align: right;\n",
       "    }\n",
       "</style>\n",
       "<table border=\"1\" class=\"dataframe\">\n",
       "  <thead>\n",
       "    <tr style=\"text-align: right;\">\n",
       "      <th></th>\n",
       "      <th>Nulls</th>\n",
       "    </tr>\n",
       "  </thead>\n",
       "  <tbody>\n",
       "    <tr>\n",
       "      <th>subvillage</th>\n",
       "      <td>112</td>\n",
       "    </tr>\n",
       "  </tbody>\n",
       "</table>\n",
       "</div>"
      ],
      "text/plain": [
       "            Nulls\n",
       "subvillage    112"
      ]
     },
     "execution_count": 14,
     "metadata": {},
     "output_type": "execute_result"
    }
   ],
   "source": [
    "# replacing null values in the permit column with True\n",
    "X_train_cleaned.permit = X_train_cleaned.permit.fillna(permit_mode)\n",
    "null_identifier(X_train_cleaned)"
   ]
  },
  {
   "cell_type": "markdown",
   "metadata": {},
   "source": [
    "#### subvillage"
   ]
  },
  {
   "cell_type": "code",
   "execution_count": 15,
   "metadata": {},
   "outputs": [
    {
     "data": {
      "text/html": [
       "<div>\n",
       "<style scoped>\n",
       "    .dataframe tbody tr th:only-of-type {\n",
       "        vertical-align: middle;\n",
       "    }\n",
       "\n",
       "    .dataframe tbody tr th {\n",
       "        vertical-align: top;\n",
       "    }\n",
       "\n",
       "    .dataframe thead th {\n",
       "        text-align: right;\n",
       "    }\n",
       "</style>\n",
       "<table border=\"1\" class=\"dataframe\">\n",
       "  <thead>\n",
       "    <tr style=\"text-align: right;\">\n",
       "      <th></th>\n",
       "      <th>Nulls</th>\n",
       "    </tr>\n",
       "  </thead>\n",
       "  <tbody>\n",
       "  </tbody>\n",
       "</table>\n",
       "</div>"
      ],
      "text/plain": [
       "Empty DataFrame\n",
       "Columns: [Nulls]\n",
       "Index: []"
      ]
     },
     "execution_count": 15,
     "metadata": {},
     "output_type": "execute_result"
    }
   ],
   "source": [
    "#  will drop this column since already there are longittude and latitudes which describe th geographical postion of a water point\n",
    "X_train_cleaned.drop('subvillage', axis=1, inplace=True)\n",
    "\n",
    "null_identifier(X_train_cleaned)"
   ]
  },
  {
   "cell_type": "markdown",
   "metadata": {},
   "source": [
    "Dealing with null values are done now!!"
   ]
  },
  {
   "cell_type": "code",
   "execution_count": 16,
   "metadata": {},
   "outputs": [
    {
     "data": {
      "text/html": [
       "<div>\n",
       "<style scoped>\n",
       "    .dataframe tbody tr th:only-of-type {\n",
       "        vertical-align: middle;\n",
       "    }\n",
       "\n",
       "    .dataframe tbody tr th {\n",
       "        vertical-align: top;\n",
       "    }\n",
       "\n",
       "    .dataframe thead th {\n",
       "        text-align: right;\n",
       "    }\n",
       "</style>\n",
       "<table border=\"1\" class=\"dataframe\">\n",
       "  <thead>\n",
       "    <tr style=\"text-align: right;\">\n",
       "      <th></th>\n",
       "      <th>id</th>\n",
       "      <th>amount_tsh</th>\n",
       "      <th>date_recorded</th>\n",
       "      <th>funder</th>\n",
       "      <th>gps_height</th>\n",
       "      <th>installer</th>\n",
       "      <th>longitude</th>\n",
       "      <th>latitude</th>\n",
       "      <th>wpt_name</th>\n",
       "      <th>num_private</th>\n",
       "      <th>...</th>\n",
       "      <th>water_quality</th>\n",
       "      <th>quality_group</th>\n",
       "      <th>quantity</th>\n",
       "      <th>quantity_group</th>\n",
       "      <th>source</th>\n",
       "      <th>source_type</th>\n",
       "      <th>source_class</th>\n",
       "      <th>waterpoint_type</th>\n",
       "      <th>waterpoint_type_group</th>\n",
       "      <th>status_group</th>\n",
       "    </tr>\n",
       "  </thead>\n",
       "  <tbody>\n",
       "    <tr>\n",
       "      <th>19993</th>\n",
       "      <td>18727</td>\n",
       "      <td>0.0</td>\n",
       "      <td>2013-02-02</td>\n",
       "      <td>finw</td>\n",
       "      <td>340</td>\n",
       "      <td>finw</td>\n",
       "      <td>39.483463</td>\n",
       "      <td>-1.060527e+01</td>\n",
       "      <td>sokoni</td>\n",
       "      <td>0</td>\n",
       "      <td>...</td>\n",
       "      <td>soft</td>\n",
       "      <td>good</td>\n",
       "      <td>dry</td>\n",
       "      <td>dry</td>\n",
       "      <td>machine dbh</td>\n",
       "      <td>borehole</td>\n",
       "      <td>groundwater</td>\n",
       "      <td>communal standpipe multiple</td>\n",
       "      <td>communal standpipe</td>\n",
       "      <td>non functional</td>\n",
       "    </tr>\n",
       "    <tr>\n",
       "      <th>19255</th>\n",
       "      <td>70280</td>\n",
       "      <td>0.0</td>\n",
       "      <td>2011-04-12</td>\n",
       "      <td>notknown</td>\n",
       "      <td>0</td>\n",
       "      <td>unknown</td>\n",
       "      <td>34.081729</td>\n",
       "      <td>-8.789536e+00</td>\n",
       "      <td>kwa senjebolo</td>\n",
       "      <td>0</td>\n",
       "      <td>...</td>\n",
       "      <td>soft</td>\n",
       "      <td>good</td>\n",
       "      <td>insufficient</td>\n",
       "      <td>insufficient</td>\n",
       "      <td>river</td>\n",
       "      <td>river/lake</td>\n",
       "      <td>surface</td>\n",
       "      <td>communal standpipe</td>\n",
       "      <td>communal standpipe</td>\n",
       "      <td>functional needs repair</td>\n",
       "    </tr>\n",
       "    <tr>\n",
       "      <th>1823</th>\n",
       "      <td>39891</td>\n",
       "      <td>0.0</td>\n",
       "      <td>2011-04-03</td>\n",
       "      <td>notknown</td>\n",
       "      <td>0</td>\n",
       "      <td>unknown</td>\n",
       "      <td>34.294701</td>\n",
       "      <td>-8.701257e+00</td>\n",
       "      <td>ihuvilo a</td>\n",
       "      <td>0</td>\n",
       "      <td>...</td>\n",
       "      <td>soft</td>\n",
       "      <td>good</td>\n",
       "      <td>seasonal</td>\n",
       "      <td>seasonal</td>\n",
       "      <td>river</td>\n",
       "      <td>river/lake</td>\n",
       "      <td>surface</td>\n",
       "      <td>communal standpipe</td>\n",
       "      <td>communal standpipe</td>\n",
       "      <td>non functional</td>\n",
       "    </tr>\n",
       "    <tr>\n",
       "      <th>11988</th>\n",
       "      <td>14049</td>\n",
       "      <td>2000.0</td>\n",
       "      <td>2011-03-14</td>\n",
       "      <td>dhv</td>\n",
       "      <td>123</td>\n",
       "      <td>dwe</td>\n",
       "      <td>37.851370</td>\n",
       "      <td>-7.197111e+00</td>\n",
       "      <td>kwa daudi</td>\n",
       "      <td>0</td>\n",
       "      <td>...</td>\n",
       "      <td>salty</td>\n",
       "      <td>salty</td>\n",
       "      <td>insufficient</td>\n",
       "      <td>insufficient</td>\n",
       "      <td>shallow well</td>\n",
       "      <td>shallow well</td>\n",
       "      <td>groundwater</td>\n",
       "      <td>other</td>\n",
       "      <td>other</td>\n",
       "      <td>non functional</td>\n",
       "    </tr>\n",
       "    <tr>\n",
       "      <th>15909</th>\n",
       "      <td>64478</td>\n",
       "      <td>0.0</td>\n",
       "      <td>2013-01-16</td>\n",
       "      <td>lvemp</td>\n",
       "      <td>1209</td>\n",
       "      <td>dwe</td>\n",
       "      <td>33.591998</td>\n",
       "      <td>-2.129478e+00</td>\n",
       "      <td>kwa mashara</td>\n",
       "      <td>0</td>\n",
       "      <td>...</td>\n",
       "      <td>unknown</td>\n",
       "      <td>unknown</td>\n",
       "      <td>unknown</td>\n",
       "      <td>unknown</td>\n",
       "      <td>shallow well</td>\n",
       "      <td>shallow well</td>\n",
       "      <td>groundwater</td>\n",
       "      <td>other</td>\n",
       "      <td>other</td>\n",
       "      <td>non functional</td>\n",
       "    </tr>\n",
       "    <tr>\n",
       "      <th>11380</th>\n",
       "      <td>9156</td>\n",
       "      <td>0.0</td>\n",
       "      <td>2011-07-23</td>\n",
       "      <td>hesawa</td>\n",
       "      <td>1170</td>\n",
       "      <td>dwe</td>\n",
       "      <td>32.908859</td>\n",
       "      <td>-1.936028e+00</td>\n",
       "      <td>rwatankororo</td>\n",
       "      <td>0</td>\n",
       "      <td>...</td>\n",
       "      <td>soft</td>\n",
       "      <td>good</td>\n",
       "      <td>insufficient</td>\n",
       "      <td>insufficient</td>\n",
       "      <td>spring</td>\n",
       "      <td>spring</td>\n",
       "      <td>groundwater</td>\n",
       "      <td>other</td>\n",
       "      <td>other</td>\n",
       "      <td>functional needs repair</td>\n",
       "    </tr>\n",
       "    <tr>\n",
       "      <th>3641</th>\n",
       "      <td>41566</td>\n",
       "      <td>0.0</td>\n",
       "      <td>2011-07-10</td>\n",
       "      <td>hesawa</td>\n",
       "      <td>0</td>\n",
       "      <td>dwe</td>\n",
       "      <td>31.474670</td>\n",
       "      <td>-1.471748e+00</td>\n",
       "      <td>kwa jhonas rwegura</td>\n",
       "      <td>0</td>\n",
       "      <td>...</td>\n",
       "      <td>soft</td>\n",
       "      <td>good</td>\n",
       "      <td>insufficient</td>\n",
       "      <td>insufficient</td>\n",
       "      <td>shallow well</td>\n",
       "      <td>shallow well</td>\n",
       "      <td>groundwater</td>\n",
       "      <td>hand pump</td>\n",
       "      <td>hand pump</td>\n",
       "      <td>non functional</td>\n",
       "    </tr>\n",
       "    <tr>\n",
       "      <th>9236</th>\n",
       "      <td>35811</td>\n",
       "      <td>0.0</td>\n",
       "      <td>2012-10-21</td>\n",
       "      <td>dwssp</td>\n",
       "      <td>0</td>\n",
       "      <td>dwe</td>\n",
       "      <td>0.000000</td>\n",
       "      <td>-2.000000e-08</td>\n",
       "      <td>gurumbaka</td>\n",
       "      <td>0</td>\n",
       "      <td>...</td>\n",
       "      <td>salty abandoned</td>\n",
       "      <td>salty</td>\n",
       "      <td>enough</td>\n",
       "      <td>enough</td>\n",
       "      <td>shallow well</td>\n",
       "      <td>shallow well</td>\n",
       "      <td>groundwater</td>\n",
       "      <td>hand pump</td>\n",
       "      <td>hand pump</td>\n",
       "      <td>functional needs repair</td>\n",
       "    </tr>\n",
       "    <tr>\n",
       "      <th>26038</th>\n",
       "      <td>56987</td>\n",
       "      <td>0.0</td>\n",
       "      <td>2013-02-22</td>\n",
       "      <td>government of tanzania</td>\n",
       "      <td>1043</td>\n",
       "      <td>government</td>\n",
       "      <td>35.078078</td>\n",
       "      <td>-1.079965e+01</td>\n",
       "      <td>kwa mzee sililius</td>\n",
       "      <td>0</td>\n",
       "      <td>...</td>\n",
       "      <td>soft</td>\n",
       "      <td>good</td>\n",
       "      <td>dry</td>\n",
       "      <td>dry</td>\n",
       "      <td>spring</td>\n",
       "      <td>spring</td>\n",
       "      <td>groundwater</td>\n",
       "      <td>communal standpipe</td>\n",
       "      <td>communal standpipe</td>\n",
       "      <td>non functional</td>\n",
       "    </tr>\n",
       "    <tr>\n",
       "      <th>26725</th>\n",
       "      <td>61646</td>\n",
       "      <td>1000.0</td>\n",
       "      <td>2011-03-18</td>\n",
       "      <td>government of tanzania</td>\n",
       "      <td>2117</td>\n",
       "      <td>commu</td>\n",
       "      <td>33.933526</td>\n",
       "      <td>-8.957378e+00</td>\n",
       "      <td>none</td>\n",
       "      <td>0</td>\n",
       "      <td>...</td>\n",
       "      <td>soft</td>\n",
       "      <td>good</td>\n",
       "      <td>enough</td>\n",
       "      <td>enough</td>\n",
       "      <td>spring</td>\n",
       "      <td>spring</td>\n",
       "      <td>groundwater</td>\n",
       "      <td>communal standpipe</td>\n",
       "      <td>communal standpipe</td>\n",
       "      <td>non functional</td>\n",
       "    </tr>\n",
       "  </tbody>\n",
       "</table>\n",
       "<p>10 rows × 37 columns</p>\n",
       "</div>"
      ],
      "text/plain": [
       "          id  amount_tsh date_recorded                  funder  gps_height  \\\n",
       "19993  18727         0.0    2013-02-02                    finw         340   \n",
       "19255  70280         0.0    2011-04-12                notknown           0   \n",
       "1823   39891         0.0    2011-04-03                notknown           0   \n",
       "11988  14049      2000.0    2011-03-14                     dhv         123   \n",
       "15909  64478         0.0    2013-01-16                   lvemp        1209   \n",
       "11380   9156         0.0    2011-07-23                  hesawa        1170   \n",
       "3641   41566         0.0    2011-07-10                  hesawa           0   \n",
       "9236   35811         0.0    2012-10-21                   dwssp           0   \n",
       "26038  56987         0.0    2013-02-22  government of tanzania        1043   \n",
       "26725  61646      1000.0    2011-03-18  government of tanzania        2117   \n",
       "\n",
       "        installer  longitude      latitude            wpt_name  num_private  \\\n",
       "19993        finw  39.483463 -1.060527e+01              sokoni            0   \n",
       "19255     unknown  34.081729 -8.789536e+00       kwa senjebolo            0   \n",
       "1823      unknown  34.294701 -8.701257e+00           ihuvilo a            0   \n",
       "11988         dwe  37.851370 -7.197111e+00           kwa daudi            0   \n",
       "15909         dwe  33.591998 -2.129478e+00         kwa mashara            0   \n",
       "11380         dwe  32.908859 -1.936028e+00        rwatankororo            0   \n",
       "3641          dwe  31.474670 -1.471748e+00  kwa jhonas rwegura            0   \n",
       "9236          dwe   0.000000 -2.000000e-08           gurumbaka            0   \n",
       "26038  government  35.078078 -1.079965e+01   kwa mzee sililius            0   \n",
       "26725       commu  33.933526 -8.957378e+00                none            0   \n",
       "\n",
       "       ...    water_quality quality_group      quantity  quantity_group  \\\n",
       "19993  ...             soft          good           dry             dry   \n",
       "19255  ...             soft          good  insufficient    insufficient   \n",
       "1823   ...             soft          good      seasonal        seasonal   \n",
       "11988  ...            salty         salty  insufficient    insufficient   \n",
       "15909  ...          unknown       unknown       unknown         unknown   \n",
       "11380  ...             soft          good  insufficient    insufficient   \n",
       "3641   ...             soft          good  insufficient    insufficient   \n",
       "9236   ...  salty abandoned         salty        enough          enough   \n",
       "26038  ...             soft          good           dry             dry   \n",
       "26725  ...             soft          good        enough          enough   \n",
       "\n",
       "             source   source_type  source_class              waterpoint_type  \\\n",
       "19993   machine dbh      borehole   groundwater  communal standpipe multiple   \n",
       "19255         river    river/lake       surface           communal standpipe   \n",
       "1823          river    river/lake       surface           communal standpipe   \n",
       "11988  shallow well  shallow well   groundwater                        other   \n",
       "15909  shallow well  shallow well   groundwater                        other   \n",
       "11380        spring        spring   groundwater                        other   \n",
       "3641   shallow well  shallow well   groundwater                    hand pump   \n",
       "9236   shallow well  shallow well   groundwater                    hand pump   \n",
       "26038        spring        spring   groundwater           communal standpipe   \n",
       "26725        spring        spring   groundwater           communal standpipe   \n",
       "\n",
       "       waterpoint_type_group             status_group  \n",
       "19993     communal standpipe           non functional  \n",
       "19255     communal standpipe  functional needs repair  \n",
       "1823      communal standpipe           non functional  \n",
       "11988                  other           non functional  \n",
       "15909                  other           non functional  \n",
       "11380                  other  functional needs repair  \n",
       "3641               hand pump           non functional  \n",
       "9236               hand pump  functional needs repair  \n",
       "26038     communal standpipe           non functional  \n",
       "26725     communal standpipe           non functional  \n",
       "\n",
       "[10 rows x 37 columns]"
      ]
     },
     "metadata": {},
     "output_type": "display_data"
    },
    {
     "data": {
      "text/plain": [
       "(18998, 37)"
      ]
     },
     "execution_count": 16,
     "metadata": {},
     "output_type": "execute_result"
    }
   ],
   "source": [
    "# displaying the cleaned dataset\n",
    "display(X_train_cleaned.head(10))\n",
    "X_train_cleaned.shape"
   ]
  },
  {
   "cell_type": "markdown",
   "metadata": {},
   "source": [
    "## Dealing with outliers"
   ]
  },
  {
   "cell_type": "markdown",
   "metadata": {},
   "source": [
    "From EDA the following columns showed signs of having outliers:\n",
    "* longitude\n",
    "* population"
   ]
  },
  {
   "cell_type": "code",
   "execution_count": 17,
   "metadata": {},
   "outputs": [
    {
     "data": {
      "text/html": [
       "<div>\n",
       "<style scoped>\n",
       "    .dataframe tbody tr th:only-of-type {\n",
       "        vertical-align: middle;\n",
       "    }\n",
       "\n",
       "    .dataframe tbody tr th {\n",
       "        vertical-align: top;\n",
       "    }\n",
       "\n",
       "    .dataframe thead th {\n",
       "        text-align: right;\n",
       "    }\n",
       "</style>\n",
       "<table border=\"1\" class=\"dataframe\">\n",
       "  <thead>\n",
       "    <tr style=\"text-align: right;\">\n",
       "      <th></th>\n",
       "      <th>count</th>\n",
       "      <th>mean</th>\n",
       "      <th>std</th>\n",
       "      <th>min</th>\n",
       "      <th>25%</th>\n",
       "      <th>50%</th>\n",
       "      <th>75%</th>\n",
       "      <th>max</th>\n",
       "    </tr>\n",
       "  </thead>\n",
       "  <tbody>\n",
       "    <tr>\n",
       "      <th>longitude</th>\n",
       "      <td>18998.0</td>\n",
       "      <td>33.863446</td>\n",
       "      <td>6.975914</td>\n",
       "      <td>0.0</td>\n",
       "      <td>32.877258</td>\n",
       "      <td>34.803164</td>\n",
       "      <td>37.442434</td>\n",
       "      <td>40.344301</td>\n",
       "    </tr>\n",
       "    <tr>\n",
       "      <th>population</th>\n",
       "      <td>18998.0</td>\n",
       "      <td>169.525318</td>\n",
       "      <td>414.730014</td>\n",
       "      <td>0.0</td>\n",
       "      <td>0.000000</td>\n",
       "      <td>1.000000</td>\n",
       "      <td>230.000000</td>\n",
       "      <td>15300.000000</td>\n",
       "    </tr>\n",
       "  </tbody>\n",
       "</table>\n",
       "</div>"
      ],
      "text/plain": [
       "              count        mean         std  min        25%        50%  \\\n",
       "longitude   18998.0   33.863446    6.975914  0.0  32.877258  34.803164   \n",
       "population  18998.0  169.525318  414.730014  0.0   0.000000   1.000000   \n",
       "\n",
       "                   75%           max  \n",
       "longitude    37.442434     40.344301  \n",
       "population  230.000000  15300.000000  "
      ]
     },
     "execution_count": 17,
     "metadata": {},
     "output_type": "execute_result"
    }
   ],
   "source": [
    "X_train_cleaned[['longitude', 'population']].describe().T"
   ]
  },
  {
   "cell_type": "code",
   "execution_count": 18,
   "metadata": {},
   "outputs": [],
   "source": [
    "# function for returning the number of outliers column.\n",
    "def outliers(set, column, iqr=True):\n",
    "    # using IQR to determine outliers.\n",
    "    if (iqr):\n",
    "        q1 = set[column].quantile(.25)\n",
    "        q3 = set[column].quantile(.75)\n",
    "\n",
    "        iqr = q3 - q1\n",
    "        outliers = list( set[ (set[column]<(q1-1.5*iqr)) | (set[column]>(q1+1.5*iqr))][column] )\n",
    "\n",
    "    else:\n",
    "        temp_df = set.copy()\n",
    "        temp_df['temp_col'] = temp_df[column]\n",
    "        temp_df['temp_col'] = temp_df['temp_col'].apply(lambda x: (x-temp_df['temp_col'].mean())/temp_df['temp_col'].std() )\n",
    "        outliers = list( temp_df[ (temp_df['temp_col'] <= -3) & (temp_df['temp_col'] >= 3) ].drop('temp_col', axis=1) )\n",
    "\n",
    "    return len(outliers), outliers"
   ]
  },
  {
   "cell_type": "code",
   "execution_count": 19,
   "metadata": {},
   "outputs": [],
   "source": [
    "# function for removing outliers given a certain set and column\n",
    "def outliers_remover(set, column, iqr=True):\n",
    "    # using IQR to determine outliers.\n",
    "\n",
    "    if (iqr):\n",
    "        q1 = set[column].quantile(.25)\n",
    "        q3 = set[column].quantile(.75)\n",
    "\n",
    "        iqr = q3 - q1\n",
    "        result = set[ (set[column]>(q1 - 1.5*iqr)) & (set[column]<(q3 + 1.5*iqr)) ]\n",
    "\n",
    "\n",
    "    \n",
    "    # using z-score to remove outliers\n",
    "    else:\n",
    "        temp_df = set.copy()\n",
    "        temp_df['temp_column'] = temp_df[column]\n",
    "        temp_df['temp_column'] = temp_df['temp_column'].apply(lambda x: (x-temp_df['temp_column'].mean())/temp_df['temp_column'].std() )\n",
    "        result = temp_df[ (temp_df['temp_column'] >= -3) & (temp_df['temp_column'] <= 3) ]\n",
    "        result.drop('temp_column', axis=1, inplace=True) # dropping the term_column.\n",
    "    \n",
    "    \n",
    "    return result"
   ]
  },
  {
   "cell_type": "markdown",
   "metadata": {},
   "source": [
    "#### longitude"
   ]
  },
  {
   "cell_type": "code",
   "execution_count": 20,
   "metadata": {},
   "outputs": [
    {
     "data": {
      "image/png": "[encoded data removed]",
      "text/plain": [
       "<Figure size 720x540 with 1 Axes>"
      ]
     },
     "metadata": {
      "needs_background": "light"
     },
     "output_type": "display_data"
    }
   ],
   "source": [
    "# plotting the distribution before working on the outliers\n",
    "fig, ax = plt.subplots(figsize=(10,7.5))\n",
    "sns.histplot(data=X_train_cleaned.longitude, ax=ax, kde=True)\n",
    "plt.title('Longitude distribution before dealing with outliers.')\n",
    "plt.show()"
   ]
  },
  {
   "cell_type": "code",
   "execution_count": 21,
   "metadata": {},
   "outputs": [
    {
     "data": {
      "text/plain": [
       "929"
      ]
     },
     "execution_count": 21,
     "metadata": {},
     "output_type": "execute_result"
    }
   ],
   "source": [
    "# finding the number of ouliers in the longitude column.\n",
    "longitude_outliers_no, longitude_outliers = outliers(X_train_cleaned, 'longitude')\n",
    "longitude_outliers_no"
   ]
  },
  {
   "cell_type": "code",
   "execution_count": 22,
   "metadata": {},
   "outputs": [
    {
     "data": {
      "text/plain": [
       "34.8031643"
      ]
     },
     "execution_count": 22,
     "metadata": {},
     "output_type": "execute_result"
    }
   ],
   "source": [
    "# theses outliers are many to drop, maybe replacing them with median of the longitudes will\n",
    "longitudes_median = X_train_cleaned.longitude.median()\n",
    "longitudes_median"
   ]
  },
  {
   "cell_type": "code",
   "execution_count": 23,
   "metadata": {},
   "outputs": [
    {
     "data": {
      "image/png": "[encoded data removed]",
      "text/plain": [
       "<Figure size 720x540 with 1 Axes>"
      ]
     },
     "metadata": {
      "needs_background": "light"
     },
     "output_type": "display_data"
    }
   ],
   "source": [
    "# Replacing the outliers in the longitude field with the median\n",
    "X_train_cleaned.longitude = X_train_cleaned.longitude.apply(lambda x: longitudes_median if x in longitude_outliers else x)\n",
    "\n",
    "# plotting the distribution after removing the outliers\n",
    "fig, ax = plt.subplots(figsize=(10,7.5))\n",
    "sns.histplot(data=X_train_cleaned.longitude, ax=ax, kde=True)\n",
    "plt.title('Longitude distribution after dealing with outliers.')\n",
    "plt.show()"
   ]
  },
  {
   "cell_type": "markdown",
   "metadata": {},
   "source": [
    "#### population"
   ]
  },
  {
   "cell_type": "code",
   "execution_count": 24,
   "metadata": {},
   "outputs": [
    {
     "data": {
      "image/png": "[encoded data removed]",
      "text/plain": [
       "<Figure size 720x540 with 1 Axes>"
      ]
     },
     "metadata": {
      "needs_background": "light"
     },
     "output_type": "display_data"
    }
   ],
   "source": [
    "fig, ax = plt.subplots(figsize=(10,7.5))\n",
    "sns.histplot(data=X_train_cleaned.population, ax=ax, kde=True)\n",
    "plt.title('Population distribution before dealing with outliers.')\n",
    "plt.show()"
   ]
  },
  {
   "cell_type": "markdown",
   "metadata": {},
   "source": [
    "Before dealing with any outliers the population column seems to be  filled with very less population numbers, hence any population less than the median will be replaced with the median."
   ]
  },
  {
   "cell_type": "code",
   "execution_count": 25,
   "metadata": {},
   "outputs": [
    {
     "data": {
      "text/plain": [
       "0"
      ]
     },
     "execution_count": 25,
     "metadata": {},
     "output_type": "execute_result"
    }
   ],
   "source": [
    "# finding the median in the population column\n",
    "median_pop = X_train_cleaned.population.median()\n",
    "X_train_cleaned.population = X_train_cleaned.population.apply(lambda x: median_pop if x<median_pop else x)\n",
    "len( X_train_cleaned[X_train_cleaned.population < median_pop] ) # checking if the function worked"
   ]
  },
  {
   "cell_type": "code",
   "execution_count": 26,
   "metadata": {},
   "outputs": [
    {
     "data": {
      "text/plain": [
       "2953"
      ]
     },
     "execution_count": 26,
     "metadata": {},
     "output_type": "execute_result"
    }
   ],
   "source": [
    "# finding the number of ouliers in the population column.\n",
    "population_outliers_no, population_outliers = outliers(X_train_cleaned, 'population')\n",
    "population_outliers_no"
   ]
  },
  {
   "cell_type": "code",
   "execution_count": 27,
   "metadata": {},
   "outputs": [
    {
     "data": {
      "image/png": "[encoded data removed]",
      "text/plain": [
       "<Figure size 720x540 with 1 Axes>"
      ]
     },
     "metadata": {
      "needs_background": "light"
     },
     "output_type": "display_data"
    }
   ],
   "source": [
    "# Removing all the outliers in the population column.\n",
    "# For this I will use z-score since population seems to follow a normal distribution.\n",
    "X_train_cleaned = outliers_remover(X_train_cleaned, 'population')\n",
    "\n",
    "# plotting the distribution after removing the outliers\n",
    "fig, ax = plt.subplots(figsize=(10,7.5))\n",
    "sns.histplot(data=X_train_cleaned.population, ax=ax, kde=True)\n",
    "plt.title('Population distribution after dealing with outliers.')\n",
    "plt.show()"
   ]
  },
  {
   "cell_type": "code",
   "execution_count": 28,
   "metadata": {},
   "outputs": [
    {
     "data": {
      "image/png": "[encoded data removed]",
      "text/plain": [
       "<Figure size 1440x504 with 2 Axes>"
      ]
     },
     "metadata": {
      "needs_background": "light"
     },
     "output_type": "display_data"
    }
   ],
   "source": [
    "#  checking the distribution once more after removing outliers\n",
    "fig, ax = plt.subplots(nrows=1, ncols=2, figsize=(20,7))\n",
    "sns.boxplot(x=X_train_cleaned.longitude, ax=ax[0], color='orange')\n",
    "sns.boxplot(x=X_train_cleaned.population, ax=ax[1], color='orange')\n",
    "plt.show()"
   ]
  },
  {
   "cell_type": "markdown",
   "metadata": {},
   "source": [
    "The population column still show signs of outliers, But better than the intial hence will go on using this one"
   ]
  },
  {
   "cell_type": "code",
   "execution_count": 29,
   "metadata": {},
   "outputs": [
    {
     "data": {
      "text/html": [
       "<div>\n",
       "<style scoped>\n",
       "    .dataframe tbody tr th:only-of-type {\n",
       "        vertical-align: middle;\n",
       "    }\n",
       "\n",
       "    .dataframe tbody tr th {\n",
       "        vertical-align: top;\n",
       "    }\n",
       "\n",
       "    .dataframe thead th {\n",
       "        text-align: right;\n",
       "    }\n",
       "</style>\n",
       "<table border=\"1\" class=\"dataframe\">\n",
       "  <thead>\n",
       "    <tr style=\"text-align: right;\">\n",
       "      <th></th>\n",
       "      <th>count</th>\n",
       "      <th>mean</th>\n",
       "      <th>std</th>\n",
       "      <th>min</th>\n",
       "      <th>25%</th>\n",
       "      <th>50%</th>\n",
       "      <th>75%</th>\n",
       "      <th>max</th>\n",
       "    </tr>\n",
       "  </thead>\n",
       "  <tbody>\n",
       "    <tr>\n",
       "      <th>longitude</th>\n",
       "      <td>17820.0</td>\n",
       "      <td>34.992266</td>\n",
       "      <td>2.605740</td>\n",
       "      <td>29.610965</td>\n",
       "      <td>33.067885</td>\n",
       "      <td>34.803164</td>\n",
       "      <td>37.240124</td>\n",
       "      <td>39.722766</td>\n",
       "    </tr>\n",
       "    <tr>\n",
       "      <th>population</th>\n",
       "      <td>17820.0</td>\n",
       "      <td>99.874130</td>\n",
       "      <td>146.355342</td>\n",
       "      <td>1.000000</td>\n",
       "      <td>1.000000</td>\n",
       "      <td>1.000000</td>\n",
       "      <td>195.000000</td>\n",
       "      <td>571.000000</td>\n",
       "    </tr>\n",
       "  </tbody>\n",
       "</table>\n",
       "</div>"
      ],
      "text/plain": [
       "              count       mean         std        min        25%        50%  \\\n",
       "longitude   17820.0  34.992266    2.605740  29.610965  33.067885  34.803164   \n",
       "population  17820.0  99.874130  146.355342   1.000000   1.000000   1.000000   \n",
       "\n",
       "                   75%         max  \n",
       "longitude    37.240124   39.722766  \n",
       "population  195.000000  571.000000  "
      ]
     },
     "execution_count": 29,
     "metadata": {},
     "output_type": "execute_result"
    }
   ],
   "source": [
    "# desribing the new cleaned set\n",
    "X_train_cleaned[['longitude', 'population']].describe().T"
   ]
  },
  {
   "cell_type": "markdown",
   "metadata": {},
   "source": [
    "## Dropping irrelevant columns"
   ]
  },
  {
   "cell_type": "code",
   "execution_count": 30,
   "metadata": {},
   "outputs": [
    {
     "data": {
      "text/plain": [
       "['id',\n",
       " 'amount_tsh',\n",
       " 'date_recorded',\n",
       " 'funder',\n",
       " 'gps_height',\n",
       " 'installer',\n",
       " 'longitude',\n",
       " 'latitude',\n",
       " 'wpt_name',\n",
       " 'num_private',\n",
       " 'basin',\n",
       " 'region',\n",
       " 'region_code',\n",
       " 'district_code',\n",
       " 'lga',\n",
       " 'ward',\n",
       " 'population',\n",
       " 'recorded_by',\n",
       " 'permit',\n",
       " 'construction_year',\n",
       " 'extraction_type',\n",
       " 'extraction_type_group',\n",
       " 'extraction_type_class',\n",
       " 'management',\n",
       " 'management_group',\n",
       " 'payment',\n",
       " 'payment_type',\n",
       " 'water_quality',\n",
       " 'quality_group',\n",
       " 'quantity',\n",
       " 'quantity_group',\n",
       " 'source',\n",
       " 'source_type',\n",
       " 'source_class',\n",
       " 'waterpoint_type',\n",
       " 'waterpoint_type_group',\n",
       " 'status_group']"
      ]
     },
     "execution_count": 30,
     "metadata": {},
     "output_type": "execute_result"
    }
   ],
   "source": [
    "# displaying a list of the remaining columns\n",
    "list(X_train_cleaned.columns)"
   ]
  },
  {
   "cell_type": "markdown",
   "metadata": {},
   "source": [
    "Some of the columns are redundant (meaning they display information present in another column) and other seem not to provide any useful information at all. Hence in this section I will be dropping these columns.\n",
    "These columns are:\n",
    "* id - this is a unique identifier hence has no effect on the condtion of water point.\n",
    "* amount_tsh - from EDA it was spotted that this column contains lot's of zeros and filled with outliers which would become quite stressful to solve.\n",
    "* installer - any random  person or compant can install a water pump hence new installers will always emerge, making it hard to predict\n",
    "* data_recorded - the date recorded has no effect on the condition of a well.\n",
    "* funder - the column installer displays more information than the funder column, just by facts one who funds the well cannot have any effect on the condition of well it is most likely the installer.\n",
    "* wpt_name - a water name has no effect its condtion.\n",
    "* management - all these information is summarized in the management group.\n",
    "* quantity - same information is in the quantity group.\n",
    "* num_private - this column seems not to be providing any useful information at all.\n",
    "* sub_village - already there is longitude and latitude which show the location of a place.\n",
    "* region - region_code does a better job in describing the location of a place, since it is numerical.\n",
    "* lga, ward - already there are longitude, latitude, region_code, district_code and a nearby water basin which show the location of a place\n",
    "* recorded_by - not useful info since it is only GeoData Consultants Ltd who did the recordings\n",
    "* extraction_type and extraction_type_group - all this are redundant, extraction_type_class displays more information.\n",
    "* payment_type - this is a repetition of the payment column.\n",
    "* water_quality - similar information is in the water quality group\n",
    "* source, source_type - all these columns are summarized in the source_class column\n",
    "* waterpoint_type - same information is in the water_type_group"
   ]
  },
  {
   "cell_type": "code",
   "execution_count": 31,
   "metadata": {},
   "outputs": [],
   "source": [
    "columns_to_drop = ['id', 'amount_tsh', 'date_recorded', 'installer', 'funder', 'num_private', 'region', 'lga', 'ward', 'recorded_by', 'wpt_name', 'management', 'quantity', 'extraction_type', 'extraction_type_group', 'payment_type', 'water_quality', 'source', 'source_type', 'waterpoint_type']\n",
    "# dropping these columns\n",
    "X_train_cleaned.drop(columns_to_drop, axis=1, inplace=True)"
   ]
  },
  {
   "cell_type": "code",
   "execution_count": 32,
   "metadata": {},
   "outputs": [
    {
     "data": {
      "text/html": [
       "<div>\n",
       "<style scoped>\n",
       "    .dataframe tbody tr th:only-of-type {\n",
       "        vertical-align: middle;\n",
       "    }\n",
       "\n",
       "    .dataframe tbody tr th {\n",
       "        vertical-align: top;\n",
       "    }\n",
       "\n",
       "    .dataframe thead th {\n",
       "        text-align: right;\n",
       "    }\n",
       "</style>\n",
       "<table border=\"1\" class=\"dataframe\">\n",
       "  <thead>\n",
       "    <tr style=\"text-align: right;\">\n",
       "      <th></th>\n",
       "      <th>gps_height</th>\n",
       "      <th>longitude</th>\n",
       "      <th>latitude</th>\n",
       "      <th>basin</th>\n",
       "      <th>region_code</th>\n",
       "      <th>district_code</th>\n",
       "      <th>population</th>\n",
       "      <th>permit</th>\n",
       "      <th>construction_year</th>\n",
       "      <th>extraction_type_class</th>\n",
       "      <th>management_group</th>\n",
       "      <th>payment</th>\n",
       "      <th>quality_group</th>\n",
       "      <th>quantity_group</th>\n",
       "      <th>source_class</th>\n",
       "      <th>waterpoint_type_group</th>\n",
       "      <th>status_group</th>\n",
       "    </tr>\n",
       "  </thead>\n",
       "  <tbody>\n",
       "    <tr>\n",
       "      <th>19993</th>\n",
       "      <td>340</td>\n",
       "      <td>39.483463</td>\n",
       "      <td>-1.060527e+01</td>\n",
       "      <td>ruvuma / southern coast</td>\n",
       "      <td>9</td>\n",
       "      <td>4</td>\n",
       "      <td>300.0</td>\n",
       "      <td>True</td>\n",
       "      <td>1982</td>\n",
       "      <td>submersible</td>\n",
       "      <td>user-group</td>\n",
       "      <td>never pay</td>\n",
       "      <td>good</td>\n",
       "      <td>dry</td>\n",
       "      <td>groundwater</td>\n",
       "      <td>communal standpipe</td>\n",
       "      <td>non functional</td>\n",
       "    </tr>\n",
       "    <tr>\n",
       "      <th>19255</th>\n",
       "      <td>0</td>\n",
       "      <td>34.081729</td>\n",
       "      <td>-8.789536e+00</td>\n",
       "      <td>rufiji</td>\n",
       "      <td>12</td>\n",
       "      <td>7</td>\n",
       "      <td>1.0</td>\n",
       "      <td>True</td>\n",
       "      <td>0</td>\n",
       "      <td>gravity</td>\n",
       "      <td>user-group</td>\n",
       "      <td>pay monthly</td>\n",
       "      <td>good</td>\n",
       "      <td>insufficient</td>\n",
       "      <td>surface</td>\n",
       "      <td>communal standpipe</td>\n",
       "      <td>functional needs repair</td>\n",
       "    </tr>\n",
       "    <tr>\n",
       "      <th>1823</th>\n",
       "      <td>0</td>\n",
       "      <td>34.294701</td>\n",
       "      <td>-8.701257e+00</td>\n",
       "      <td>rufiji</td>\n",
       "      <td>12</td>\n",
       "      <td>7</td>\n",
       "      <td>1.0</td>\n",
       "      <td>True</td>\n",
       "      <td>0</td>\n",
       "      <td>gravity</td>\n",
       "      <td>user-group</td>\n",
       "      <td>never pay</td>\n",
       "      <td>good</td>\n",
       "      <td>seasonal</td>\n",
       "      <td>surface</td>\n",
       "      <td>communal standpipe</td>\n",
       "      <td>non functional</td>\n",
       "    </tr>\n",
       "    <tr>\n",
       "      <th>11988</th>\n",
       "      <td>123</td>\n",
       "      <td>37.851370</td>\n",
       "      <td>-7.197111e+00</td>\n",
       "      <td>wami / ruvu</td>\n",
       "      <td>5</td>\n",
       "      <td>2</td>\n",
       "      <td>250.0</td>\n",
       "      <td>True</td>\n",
       "      <td>1997</td>\n",
       "      <td>other</td>\n",
       "      <td>user-group</td>\n",
       "      <td>pay monthly</td>\n",
       "      <td>salty</td>\n",
       "      <td>insufficient</td>\n",
       "      <td>groundwater</td>\n",
       "      <td>other</td>\n",
       "      <td>non functional</td>\n",
       "    </tr>\n",
       "    <tr>\n",
       "      <th>15909</th>\n",
       "      <td>1209</td>\n",
       "      <td>33.591998</td>\n",
       "      <td>-2.129478e+00</td>\n",
       "      <td>lake victoria</td>\n",
       "      <td>20</td>\n",
       "      <td>4</td>\n",
       "      <td>300.0</td>\n",
       "      <td>False</td>\n",
       "      <td>2008</td>\n",
       "      <td>other</td>\n",
       "      <td>user-group</td>\n",
       "      <td>unknown</td>\n",
       "      <td>unknown</td>\n",
       "      <td>unknown</td>\n",
       "      <td>groundwater</td>\n",
       "      <td>other</td>\n",
       "      <td>non functional</td>\n",
       "    </tr>\n",
       "    <tr>\n",
       "      <th>11380</th>\n",
       "      <td>1170</td>\n",
       "      <td>32.908859</td>\n",
       "      <td>-1.936028e+00</td>\n",
       "      <td>lake victoria</td>\n",
       "      <td>19</td>\n",
       "      <td>1</td>\n",
       "      <td>500.0</td>\n",
       "      <td>True</td>\n",
       "      <td>1996</td>\n",
       "      <td>other</td>\n",
       "      <td>user-group</td>\n",
       "      <td>never pay</td>\n",
       "      <td>good</td>\n",
       "      <td>insufficient</td>\n",
       "      <td>groundwater</td>\n",
       "      <td>other</td>\n",
       "      <td>functional needs repair</td>\n",
       "    </tr>\n",
       "    <tr>\n",
       "      <th>3641</th>\n",
       "      <td>0</td>\n",
       "      <td>31.474670</td>\n",
       "      <td>-1.471748e+00</td>\n",
       "      <td>lake victoria</td>\n",
       "      <td>18</td>\n",
       "      <td>2</td>\n",
       "      <td>1.0</td>\n",
       "      <td>True</td>\n",
       "      <td>0</td>\n",
       "      <td>handpump</td>\n",
       "      <td>user-group</td>\n",
       "      <td>never pay</td>\n",
       "      <td>good</td>\n",
       "      <td>insufficient</td>\n",
       "      <td>groundwater</td>\n",
       "      <td>hand pump</td>\n",
       "      <td>non functional</td>\n",
       "    </tr>\n",
       "    <tr>\n",
       "      <th>9236</th>\n",
       "      <td>0</td>\n",
       "      <td>34.803164</td>\n",
       "      <td>-2.000000e-08</td>\n",
       "      <td>lake victoria</td>\n",
       "      <td>17</td>\n",
       "      <td>1</td>\n",
       "      <td>1.0</td>\n",
       "      <td>False</td>\n",
       "      <td>0</td>\n",
       "      <td>handpump</td>\n",
       "      <td>parastatal</td>\n",
       "      <td>never pay</td>\n",
       "      <td>salty</td>\n",
       "      <td>enough</td>\n",
       "      <td>groundwater</td>\n",
       "      <td>hand pump</td>\n",
       "      <td>functional needs repair</td>\n",
       "    </tr>\n",
       "    <tr>\n",
       "      <th>26038</th>\n",
       "      <td>1043</td>\n",
       "      <td>35.078078</td>\n",
       "      <td>-1.079965e+01</td>\n",
       "      <td>ruvuma / southern coast</td>\n",
       "      <td>10</td>\n",
       "      <td>3</td>\n",
       "      <td>50.0</td>\n",
       "      <td>True</td>\n",
       "      <td>1990</td>\n",
       "      <td>gravity</td>\n",
       "      <td>user-group</td>\n",
       "      <td>unknown</td>\n",
       "      <td>good</td>\n",
       "      <td>dry</td>\n",
       "      <td>groundwater</td>\n",
       "      <td>communal standpipe</td>\n",
       "      <td>non functional</td>\n",
       "    </tr>\n",
       "    <tr>\n",
       "      <th>26725</th>\n",
       "      <td>2117</td>\n",
       "      <td>33.933526</td>\n",
       "      <td>-8.957378e+00</td>\n",
       "      <td>rufiji</td>\n",
       "      <td>11</td>\n",
       "      <td>3</td>\n",
       "      <td>1.0</td>\n",
       "      <td>False</td>\n",
       "      <td>1974</td>\n",
       "      <td>gravity</td>\n",
       "      <td>user-group</td>\n",
       "      <td>pay when scheme fails</td>\n",
       "      <td>good</td>\n",
       "      <td>enough</td>\n",
       "      <td>groundwater</td>\n",
       "      <td>communal standpipe</td>\n",
       "      <td>non functional</td>\n",
       "    </tr>\n",
       "  </tbody>\n",
       "</table>\n",
       "</div>"
      ],
      "text/plain": [
       "       gps_height  longitude      latitude                    basin  \\\n",
       "19993         340  39.483463 -1.060527e+01  ruvuma / southern coast   \n",
       "19255           0  34.081729 -8.789536e+00                   rufiji   \n",
       "1823            0  34.294701 -8.701257e+00                   rufiji   \n",
       "11988         123  37.851370 -7.197111e+00              wami / ruvu   \n",
       "15909        1209  33.591998 -2.129478e+00            lake victoria   \n",
       "11380        1170  32.908859 -1.936028e+00            lake victoria   \n",
       "3641            0  31.474670 -1.471748e+00            lake victoria   \n",
       "9236            0  34.803164 -2.000000e-08            lake victoria   \n",
       "26038        1043  35.078078 -1.079965e+01  ruvuma / southern coast   \n",
       "26725        2117  33.933526 -8.957378e+00                   rufiji   \n",
       "\n",
       "       region_code  district_code  population  permit  construction_year  \\\n",
       "19993            9              4       300.0    True               1982   \n",
       "19255           12              7         1.0    True                  0   \n",
       "1823            12              7         1.0    True                  0   \n",
       "11988            5              2       250.0    True               1997   \n",
       "15909           20              4       300.0   False               2008   \n",
       "11380           19              1       500.0    True               1996   \n",
       "3641            18              2         1.0    True                  0   \n",
       "9236            17              1         1.0   False                  0   \n",
       "26038           10              3        50.0    True               1990   \n",
       "26725           11              3         1.0   False               1974   \n",
       "\n",
       "      extraction_type_class management_group                payment  \\\n",
       "19993           submersible       user-group              never pay   \n",
       "19255               gravity       user-group            pay monthly   \n",
       "1823                gravity       user-group              never pay   \n",
       "11988                 other       user-group            pay monthly   \n",
       "15909                 other       user-group                unknown   \n",
       "11380                 other       user-group              never pay   \n",
       "3641               handpump       user-group              never pay   \n",
       "9236               handpump       parastatal              never pay   \n",
       "26038               gravity       user-group                unknown   \n",
       "26725               gravity       user-group  pay when scheme fails   \n",
       "\n",
       "      quality_group quantity_group source_class waterpoint_type_group  \\\n",
       "19993          good            dry  groundwater    communal standpipe   \n",
       "19255          good   insufficient      surface    communal standpipe   \n",
       "1823           good       seasonal      surface    communal standpipe   \n",
       "11988         salty   insufficient  groundwater                 other   \n",
       "15909       unknown        unknown  groundwater                 other   \n",
       "11380          good   insufficient  groundwater                 other   \n",
       "3641           good   insufficient  groundwater             hand pump   \n",
       "9236          salty         enough  groundwater             hand pump   \n",
       "26038          good            dry  groundwater    communal standpipe   \n",
       "26725          good         enough  groundwater    communal standpipe   \n",
       "\n",
       "                  status_group  \n",
       "19993           non functional  \n",
       "19255  functional needs repair  \n",
       "1823            non functional  \n",
       "11988           non functional  \n",
       "15909           non functional  \n",
       "11380  functional needs repair  \n",
       "3641            non functional  \n",
       "9236   functional needs repair  \n",
       "26038           non functional  \n",
       "26725           non functional  "
      ]
     },
     "execution_count": 32,
     "metadata": {},
     "output_type": "execute_result"
    }
   ],
   "source": [
    "# Displaying the new set\n",
    "X_train_cleaned.head(10)"
   ]
  },
  {
   "cell_type": "code",
   "execution_count": 33,
   "metadata": {},
   "outputs": [
    {
     "data": {
      "text/plain": [
       "(17820, 17)"
      ]
     },
     "execution_count": 33,
     "metadata": {},
     "output_type": "execute_result"
    }
   ],
   "source": [
    "X_train_cleaned.shape"
   ]
  },
  {
   "cell_type": "markdown",
   "metadata": {},
   "source": [
    "## Investigating any abnormality in the numbers of the columns"
   ]
  },
  {
   "cell_type": "code",
   "execution_count": 34,
   "metadata": {},
   "outputs": [
    {
     "data": {
      "text/html": [
       "<div>\n",
       "<style scoped>\n",
       "    .dataframe tbody tr th:only-of-type {\n",
       "        vertical-align: middle;\n",
       "    }\n",
       "\n",
       "    .dataframe tbody tr th {\n",
       "        vertical-align: top;\n",
       "    }\n",
       "\n",
       "    .dataframe thead th {\n",
       "        text-align: right;\n",
       "    }\n",
       "</style>\n",
       "<table border=\"1\" class=\"dataframe\">\n",
       "  <thead>\n",
       "    <tr style=\"text-align: right;\">\n",
       "      <th></th>\n",
       "      <th>count</th>\n",
       "      <th>mean</th>\n",
       "      <th>std</th>\n",
       "      <th>min</th>\n",
       "      <th>25%</th>\n",
       "      <th>50%</th>\n",
       "      <th>75%</th>\n",
       "      <th>max</th>\n",
       "    </tr>\n",
       "  </thead>\n",
       "  <tbody>\n",
       "    <tr>\n",
       "      <th>gps_height</th>\n",
       "      <td>17820.0</td>\n",
       "      <td>568.874299</td>\n",
       "      <td>643.542591</td>\n",
       "      <td>-59.000000</td>\n",
       "      <td>0.000000</td>\n",
       "      <td>284.000000</td>\n",
       "      <td>1205.000000</td>\n",
       "      <td>2.770000e+03</td>\n",
       "    </tr>\n",
       "    <tr>\n",
       "      <th>longitude</th>\n",
       "      <td>17820.0</td>\n",
       "      <td>34.992266</td>\n",
       "      <td>2.605740</td>\n",
       "      <td>29.610965</td>\n",
       "      <td>33.067885</td>\n",
       "      <td>34.803164</td>\n",
       "      <td>37.240124</td>\n",
       "      <td>3.972277e+01</td>\n",
       "    </tr>\n",
       "    <tr>\n",
       "      <th>latitude</th>\n",
       "      <td>17820.0</td>\n",
       "      <td>-5.672069</td>\n",
       "      <td>3.007103</td>\n",
       "      <td>-11.586297</td>\n",
       "      <td>-8.470329</td>\n",
       "      <td>-5.061750</td>\n",
       "      <td>-3.325075</td>\n",
       "      <td>-2.000000e-08</td>\n",
       "    </tr>\n",
       "    <tr>\n",
       "      <th>region_code</th>\n",
       "      <td>17820.0</td>\n",
       "      <td>16.705499</td>\n",
       "      <td>19.620996</td>\n",
       "      <td>1.000000</td>\n",
       "      <td>5.000000</td>\n",
       "      <td>13.000000</td>\n",
       "      <td>18.000000</td>\n",
       "      <td>9.900000e+01</td>\n",
       "    </tr>\n",
       "    <tr>\n",
       "      <th>district_code</th>\n",
       "      <td>17820.0</td>\n",
       "      <td>6.024523</td>\n",
       "      <td>10.447113</td>\n",
       "      <td>0.000000</td>\n",
       "      <td>2.000000</td>\n",
       "      <td>3.000000</td>\n",
       "      <td>5.000000</td>\n",
       "      <td>8.000000e+01</td>\n",
       "    </tr>\n",
       "    <tr>\n",
       "      <th>population</th>\n",
       "      <td>17820.0</td>\n",
       "      <td>99.874130</td>\n",
       "      <td>146.355342</td>\n",
       "      <td>1.000000</td>\n",
       "      <td>1.000000</td>\n",
       "      <td>1.000000</td>\n",
       "      <td>195.000000</td>\n",
       "      <td>5.710000e+02</td>\n",
       "    </tr>\n",
       "    <tr>\n",
       "      <th>construction_year</th>\n",
       "      <td>17820.0</td>\n",
       "      <td>1199.673232</td>\n",
       "      <td>975.379296</td>\n",
       "      <td>0.000000</td>\n",
       "      <td>0.000000</td>\n",
       "      <td>1978.000000</td>\n",
       "      <td>1998.000000</td>\n",
       "      <td>2.013000e+03</td>\n",
       "    </tr>\n",
       "  </tbody>\n",
       "</table>\n",
       "</div>"
      ],
      "text/plain": [
       "                     count         mean         std        min        25%  \\\n",
       "gps_height         17820.0   568.874299  643.542591 -59.000000   0.000000   \n",
       "longitude          17820.0    34.992266    2.605740  29.610965  33.067885   \n",
       "latitude           17820.0    -5.672069    3.007103 -11.586297  -8.470329   \n",
       "region_code        17820.0    16.705499   19.620996   1.000000   5.000000   \n",
       "district_code      17820.0     6.024523   10.447113   0.000000   2.000000   \n",
       "population         17820.0    99.874130  146.355342   1.000000   1.000000   \n",
       "construction_year  17820.0  1199.673232  975.379296   0.000000   0.000000   \n",
       "\n",
       "                           50%          75%           max  \n",
       "gps_height          284.000000  1205.000000  2.770000e+03  \n",
       "longitude            34.803164    37.240124  3.972277e+01  \n",
       "latitude             -5.061750    -3.325075 -2.000000e-08  \n",
       "region_code          13.000000    18.000000  9.900000e+01  \n",
       "district_code         3.000000     5.000000  8.000000e+01  \n",
       "population            1.000000   195.000000  5.710000e+02  \n",
       "construction_year  1978.000000  1998.000000  2.013000e+03  "
      ]
     },
     "execution_count": 34,
     "metadata": {},
     "output_type": "execute_result"
    }
   ],
   "source": [
    "X_train_cleaned.describe().T"
   ]
  },
  {
   "cell_type": "markdown",
   "metadata": {},
   "source": [
    "#### construction_year"
   ]
  },
  {
   "cell_type": "code",
   "execution_count": 35,
   "metadata": {},
   "outputs": [
    {
     "data": {
      "text/plain": [
       "array([   0, 1960, 1961, 1962, 1963, 1964, 1965, 1966, 1967, 1968, 1969,\n",
       "       1970, 1971, 1972, 1973, 1974, 1975, 1976, 1977, 1978, 1979, 1980,\n",
       "       1981, 1982, 1983, 1984, 1985, 1986, 1987, 1988, 1989, 1990, 1991,\n",
       "       1992, 1993, 1994, 1995, 1996, 1997, 1998, 1999, 2000, 2001, 2002,\n",
       "       2003, 2004, 2005, 2006, 2007, 2008, 2009, 2010, 2011, 2012, 2013])"
      ]
     },
     "execution_count": 35,
     "metadata": {},
     "output_type": "execute_result"
    }
   ],
   "source": [
    "#  checking the years present int the dataset\n",
    "np.sort(X_train_cleaned.construction_year.unique())"
   ]
  },
  {
   "cell_type": "markdown",
   "metadata": {},
   "source": [
    "It come deduced that some recored have 0 as a year. I'll carry further analysis to see whats's up with them"
   ]
  },
  {
   "cell_type": "code",
   "execution_count": 36,
   "metadata": {},
   "outputs": [
    {
     "data": {
      "text/plain": [
       "7091"
      ]
     },
     "execution_count": 36,
     "metadata": {},
     "output_type": "execute_result"
    }
   ],
   "source": [
    "len(X_train_cleaned[X_train_cleaned.construction_year == 0])"
   ]
  },
  {
   "cell_type": "markdown",
   "metadata": {},
   "source": [
    "The number of years are too many for me to drop. 0 could represent a categorical variable hence won't drop them"
   ]
  },
  {
   "cell_type": "markdown",
   "metadata": {},
   "source": [
    "#### district_code"
   ]
  },
  {
   "cell_type": "markdown",
   "metadata": {},
   "source": [
    "Based on analysis done online Tanzania has no district code 0, hence records imputted with 0 as the district code could errors"
   ]
  },
  {
   "cell_type": "code",
   "execution_count": 37,
   "metadata": {},
   "outputs": [
    {
     "data": {
      "text/plain": [
       "array([ 0,  1,  2,  3,  4,  5,  6,  7,  8, 13, 23, 30, 33, 43, 53, 60, 62,\n",
       "       63, 67, 80])"
      ]
     },
     "execution_count": 37,
     "metadata": {},
     "output_type": "execute_result"
    }
   ],
   "source": [
    "# cheking the district codes present in the dataset\n",
    "np.sort(X_train.district_code.unique())"
   ]
  },
  {
   "cell_type": "code",
   "execution_count": 38,
   "metadata": {},
   "outputs": [
    {
     "data": {
      "text/plain": [
       "13"
      ]
     },
     "execution_count": 38,
     "metadata": {},
     "output_type": "execute_result"
    }
   ],
   "source": [
    "len(X_train_cleaned[X_train_cleaned.district_code == 0])"
   ]
  },
  {
   "cell_type": "markdown",
   "metadata": {},
   "source": [
    "Only 18 rows have district code 0. This are less hence dropping them won't be that much of an issue"
   ]
  },
  {
   "cell_type": "code",
   "execution_count": 39,
   "metadata": {},
   "outputs": [
    {
     "data": {
      "text/plain": [
       "0"
      ]
     },
     "execution_count": 39,
     "metadata": {},
     "output_type": "execute_result"
    }
   ],
   "source": [
    "X_train_cleaned = X_train_cleaned.loc[X_train_cleaned.district_code != 0]\n",
    "len(X_train_cleaned[X_train_cleaned.district_code == 0])"
   ]
  },
  {
   "cell_type": "markdown",
   "metadata": {},
   "source": [
    "### Returning back to X and y"
   ]
  },
  {
   "cell_type": "code",
   "execution_count": 40,
   "metadata": {},
   "outputs": [],
   "source": [
    "X_train = X_train_cleaned.drop('status_group', axis=1)\n",
    "y_train = X_train_cleaned.status_group"
   ]
  },
  {
   "cell_type": "code",
   "execution_count": 41,
   "metadata": {},
   "outputs": [
    {
     "data": {
      "text/plain": [
       "(17807, 16)"
      ]
     },
     "metadata": {},
     "output_type": "display_data"
    },
    {
     "data": {
      "text/html": [
       "<div>\n",
       "<style scoped>\n",
       "    .dataframe tbody tr th:only-of-type {\n",
       "        vertical-align: middle;\n",
       "    }\n",
       "\n",
       "    .dataframe tbody tr th {\n",
       "        vertical-align: top;\n",
       "    }\n",
       "\n",
       "    .dataframe thead th {\n",
       "        text-align: right;\n",
       "    }\n",
       "</style>\n",
       "<table border=\"1\" class=\"dataframe\">\n",
       "  <thead>\n",
       "    <tr style=\"text-align: right;\">\n",
       "      <th></th>\n",
       "      <th>gps_height</th>\n",
       "      <th>longitude</th>\n",
       "      <th>latitude</th>\n",
       "      <th>basin</th>\n",
       "      <th>region_code</th>\n",
       "      <th>district_code</th>\n",
       "      <th>population</th>\n",
       "      <th>permit</th>\n",
       "      <th>construction_year</th>\n",
       "      <th>extraction_type_class</th>\n",
       "      <th>management_group</th>\n",
       "      <th>payment</th>\n",
       "      <th>quality_group</th>\n",
       "      <th>quantity_group</th>\n",
       "      <th>source_class</th>\n",
       "      <th>waterpoint_type_group</th>\n",
       "    </tr>\n",
       "  </thead>\n",
       "  <tbody>\n",
       "    <tr>\n",
       "      <th>19993</th>\n",
       "      <td>340</td>\n",
       "      <td>39.483463</td>\n",
       "      <td>-1.060527e+01</td>\n",
       "      <td>ruvuma / southern coast</td>\n",
       "      <td>9</td>\n",
       "      <td>4</td>\n",
       "      <td>300.0</td>\n",
       "      <td>True</td>\n",
       "      <td>1982</td>\n",
       "      <td>submersible</td>\n",
       "      <td>user-group</td>\n",
       "      <td>never pay</td>\n",
       "      <td>good</td>\n",
       "      <td>dry</td>\n",
       "      <td>groundwater</td>\n",
       "      <td>communal standpipe</td>\n",
       "    </tr>\n",
       "    <tr>\n",
       "      <th>19255</th>\n",
       "      <td>0</td>\n",
       "      <td>34.081729</td>\n",
       "      <td>-8.789536e+00</td>\n",
       "      <td>rufiji</td>\n",
       "      <td>12</td>\n",
       "      <td>7</td>\n",
       "      <td>1.0</td>\n",
       "      <td>True</td>\n",
       "      <td>0</td>\n",
       "      <td>gravity</td>\n",
       "      <td>user-group</td>\n",
       "      <td>pay monthly</td>\n",
       "      <td>good</td>\n",
       "      <td>insufficient</td>\n",
       "      <td>surface</td>\n",
       "      <td>communal standpipe</td>\n",
       "    </tr>\n",
       "    <tr>\n",
       "      <th>1823</th>\n",
       "      <td>0</td>\n",
       "      <td>34.294701</td>\n",
       "      <td>-8.701257e+00</td>\n",
       "      <td>rufiji</td>\n",
       "      <td>12</td>\n",
       "      <td>7</td>\n",
       "      <td>1.0</td>\n",
       "      <td>True</td>\n",
       "      <td>0</td>\n",
       "      <td>gravity</td>\n",
       "      <td>user-group</td>\n",
       "      <td>never pay</td>\n",
       "      <td>good</td>\n",
       "      <td>seasonal</td>\n",
       "      <td>surface</td>\n",
       "      <td>communal standpipe</td>\n",
       "    </tr>\n",
       "    <tr>\n",
       "      <th>11988</th>\n",
       "      <td>123</td>\n",
       "      <td>37.851370</td>\n",
       "      <td>-7.197111e+00</td>\n",
       "      <td>wami / ruvu</td>\n",
       "      <td>5</td>\n",
       "      <td>2</td>\n",
       "      <td>250.0</td>\n",
       "      <td>True</td>\n",
       "      <td>1997</td>\n",
       "      <td>other</td>\n",
       "      <td>user-group</td>\n",
       "      <td>pay monthly</td>\n",
       "      <td>salty</td>\n",
       "      <td>insufficient</td>\n",
       "      <td>groundwater</td>\n",
       "      <td>other</td>\n",
       "    </tr>\n",
       "    <tr>\n",
       "      <th>15909</th>\n",
       "      <td>1209</td>\n",
       "      <td>33.591998</td>\n",
       "      <td>-2.129478e+00</td>\n",
       "      <td>lake victoria</td>\n",
       "      <td>20</td>\n",
       "      <td>4</td>\n",
       "      <td>300.0</td>\n",
       "      <td>False</td>\n",
       "      <td>2008</td>\n",
       "      <td>other</td>\n",
       "      <td>user-group</td>\n",
       "      <td>unknown</td>\n",
       "      <td>unknown</td>\n",
       "      <td>unknown</td>\n",
       "      <td>groundwater</td>\n",
       "      <td>other</td>\n",
       "    </tr>\n",
       "    <tr>\n",
       "      <th>11380</th>\n",
       "      <td>1170</td>\n",
       "      <td>32.908859</td>\n",
       "      <td>-1.936028e+00</td>\n",
       "      <td>lake victoria</td>\n",
       "      <td>19</td>\n",
       "      <td>1</td>\n",
       "      <td>500.0</td>\n",
       "      <td>True</td>\n",
       "      <td>1996</td>\n",
       "      <td>other</td>\n",
       "      <td>user-group</td>\n",
       "      <td>never pay</td>\n",
       "      <td>good</td>\n",
       "      <td>insufficient</td>\n",
       "      <td>groundwater</td>\n",
       "      <td>other</td>\n",
       "    </tr>\n",
       "    <tr>\n",
       "      <th>3641</th>\n",
       "      <td>0</td>\n",
       "      <td>31.474670</td>\n",
       "      <td>-1.471748e+00</td>\n",
       "      <td>lake victoria</td>\n",
       "      <td>18</td>\n",
       "      <td>2</td>\n",
       "      <td>1.0</td>\n",
       "      <td>True</td>\n",
       "      <td>0</td>\n",
       "      <td>handpump</td>\n",
       "      <td>user-group</td>\n",
       "      <td>never pay</td>\n",
       "      <td>good</td>\n",
       "      <td>insufficient</td>\n",
       "      <td>groundwater</td>\n",
       "      <td>hand pump</td>\n",
       "    </tr>\n",
       "    <tr>\n",
       "      <th>9236</th>\n",
       "      <td>0</td>\n",
       "      <td>34.803164</td>\n",
       "      <td>-2.000000e-08</td>\n",
       "      <td>lake victoria</td>\n",
       "      <td>17</td>\n",
       "      <td>1</td>\n",
       "      <td>1.0</td>\n",
       "      <td>False</td>\n",
       "      <td>0</td>\n",
       "      <td>handpump</td>\n",
       "      <td>parastatal</td>\n",
       "      <td>never pay</td>\n",
       "      <td>salty</td>\n",
       "      <td>enough</td>\n",
       "      <td>groundwater</td>\n",
       "      <td>hand pump</td>\n",
       "    </tr>\n",
       "    <tr>\n",
       "      <th>26038</th>\n",
       "      <td>1043</td>\n",
       "      <td>35.078078</td>\n",
       "      <td>-1.079965e+01</td>\n",
       "      <td>ruvuma / southern coast</td>\n",
       "      <td>10</td>\n",
       "      <td>3</td>\n",
       "      <td>50.0</td>\n",
       "      <td>True</td>\n",
       "      <td>1990</td>\n",
       "      <td>gravity</td>\n",
       "      <td>user-group</td>\n",
       "      <td>unknown</td>\n",
       "      <td>good</td>\n",
       "      <td>dry</td>\n",
       "      <td>groundwater</td>\n",
       "      <td>communal standpipe</td>\n",
       "    </tr>\n",
       "    <tr>\n",
       "      <th>26725</th>\n",
       "      <td>2117</td>\n",
       "      <td>33.933526</td>\n",
       "      <td>-8.957378e+00</td>\n",
       "      <td>rufiji</td>\n",
       "      <td>11</td>\n",
       "      <td>3</td>\n",
       "      <td>1.0</td>\n",
       "      <td>False</td>\n",
       "      <td>1974</td>\n",
       "      <td>gravity</td>\n",
       "      <td>user-group</td>\n",
       "      <td>pay when scheme fails</td>\n",
       "      <td>good</td>\n",
       "      <td>enough</td>\n",
       "      <td>groundwater</td>\n",
       "      <td>communal standpipe</td>\n",
       "    </tr>\n",
       "  </tbody>\n",
       "</table>\n",
       "</div>"
      ],
      "text/plain": [
       "       gps_height  longitude      latitude                    basin  \\\n",
       "19993         340  39.483463 -1.060527e+01  ruvuma / southern coast   \n",
       "19255           0  34.081729 -8.789536e+00                   rufiji   \n",
       "1823            0  34.294701 -8.701257e+00                   rufiji   \n",
       "11988         123  37.851370 -7.197111e+00              wami / ruvu   \n",
       "15909        1209  33.591998 -2.129478e+00            lake victoria   \n",
       "11380        1170  32.908859 -1.936028e+00            lake victoria   \n",
       "3641            0  31.474670 -1.471748e+00            lake victoria   \n",
       "9236            0  34.803164 -2.000000e-08            lake victoria   \n",
       "26038        1043  35.078078 -1.079965e+01  ruvuma / southern coast   \n",
       "26725        2117  33.933526 -8.957378e+00                   rufiji   \n",
       "\n",
       "       region_code  district_code  population  permit  construction_year  \\\n",
       "19993            9              4       300.0    True               1982   \n",
       "19255           12              7         1.0    True                  0   \n",
       "1823            12              7         1.0    True                  0   \n",
       "11988            5              2       250.0    True               1997   \n",
       "15909           20              4       300.0   False               2008   \n",
       "11380           19              1       500.0    True               1996   \n",
       "3641            18              2         1.0    True                  0   \n",
       "9236            17              1         1.0   False                  0   \n",
       "26038           10              3        50.0    True               1990   \n",
       "26725           11              3         1.0   False               1974   \n",
       "\n",
       "      extraction_type_class management_group                payment  \\\n",
       "19993           submersible       user-group              never pay   \n",
       "19255               gravity       user-group            pay monthly   \n",
       "1823                gravity       user-group              never pay   \n",
       "11988                 other       user-group            pay monthly   \n",
       "15909                 other       user-group                unknown   \n",
       "11380                 other       user-group              never pay   \n",
       "3641               handpump       user-group              never pay   \n",
       "9236               handpump       parastatal              never pay   \n",
       "26038               gravity       user-group                unknown   \n",
       "26725               gravity       user-group  pay when scheme fails   \n",
       "\n",
       "      quality_group quantity_group source_class waterpoint_type_group  \n",
       "19993          good            dry  groundwater    communal standpipe  \n",
       "19255          good   insufficient      surface    communal standpipe  \n",
       "1823           good       seasonal      surface    communal standpipe  \n",
       "11988         salty   insufficient  groundwater                 other  \n",
       "15909       unknown        unknown  groundwater                 other  \n",
       "11380          good   insufficient  groundwater                 other  \n",
       "3641           good   insufficient  groundwater             hand pump  \n",
       "9236          salty         enough  groundwater             hand pump  \n",
       "26038          good            dry  groundwater    communal standpipe  \n",
       "26725          good         enough  groundwater    communal standpipe  "
      ]
     },
     "execution_count": 41,
     "metadata": {},
     "output_type": "execute_result"
    }
   ],
   "source": [
    "# Reviewing the new cleaned set\n",
    "display(X_train.shape)\n",
    "X_train.head(10)"
   ]
  },
  {
   "cell_type": "code",
   "execution_count": 42,
   "metadata": {},
   "outputs": [],
   "source": [
    "# exporting the cleaned  X_train\n",
    "X_train.to_csv('../analysis-dfs/X_train_cleaned.csv')\n",
    "# exporting X_train_labels\n",
    "y_train.to_csv('../analysis-dfs/y_train_cleaned.csv')"
   ]
  },
  {
   "cell_type": "markdown",
   "metadata": {},
   "source": [
    "### Summarizing the whole data cleaning process in one function"
   ]
  },
  {
   "cell_type": "code",
   "execution_count": 43,
   "metadata": {},
   "outputs": [],
   "source": [
    "def data_cleaner(temp_df, target):\n",
    "    # combining X and y\n",
    "    temp_df = pd.concat([temp_df, y], axis=1)\n",
    "    # converting to lower case and removing any trailing spaces\n",
    "    temp_df_cleaned = temp_df.applymap(lambda x: x.lower().strip() if type(x) == str else  x)\n",
    "\n",
    "    # dealing with null values\n",
    "    # 1. scheme_name column\n",
    "    temp_df_cleaned = temp_df_cleaned.drop('scheme_name', axis=1)\n",
    "    # 2. scheme_management\n",
    "    temp_df_cleaned = temp_df_cleaned.drop('scheme_management', axis=1)\n",
    "    # 3. installer\n",
    "    temp_df_cleaned.installer = temp_df_cleaned.installer.fillna('unknown')\n",
    "    #  4. funder\n",
    "    temp_df_cleaned.funder = temp_df_cleaned.funder.fillna('notknown')\n",
    "    # 5. public_meeting\n",
    "    temp_df_cleaned.drop('public_meeting', axis=1, inplace=True)\n",
    "    # 6. permit\n",
    "    permit_mode = temp_df_cleaned.permit.mode()[0]\n",
    "    temp_df_cleaned.permit = temp_df_cleaned.permit.fillna(permit_mode)\n",
    "    # 7. subvillage\n",
    "    temp_df_cleaned.drop('subvillage', axis=1, inplace=True)\n",
    "\n",
    "    # dealing with outliers\n",
    "    # 1. longitude\n",
    "    longitudes_median = temp_df_cleaned.longitude.median()\n",
    "    temp_df_cleaned.longitude = temp_df_cleaned.longitude.apply(lambda x: longitudes_median if x in longitude_outliers else x)\n",
    "\n",
    "    # 2.population\n",
    "    median_pop = temp_df_cleaned.population.median()\n",
    "    temp_df_cleaned.population = temp_df_cleaned.population.apply(lambda x: median_pop if x<median_pop else x)\n",
    "    temp_df_cleaned = outliers_remover(temp_df_cleaned, 'population')\n",
    "\n",
    "    # dropping irrelevant columns\n",
    "    columns_to_drop = ['id', 'amount_tsh', 'date_recorded', 'installer', 'funder', 'num_private', 'region', 'lga', 'ward', 'recorded_by', 'wpt_name', 'management', 'quantity', 'extraction_type', 'extraction_type_group', 'payment_type', 'water_quality', 'source', 'source_type', 'waterpoint_type']\n",
    "\n",
    "    # dropping these columns\n",
    "    temp_df_cleaned.drop(columns_to_drop, axis=1, inplace=True)\n",
    "\n",
    "    # abnormality\n",
    "    # district_code\n",
    "    temp_df_cleaned = temp_df_cleaned.loc[temp_df_cleaned.district_code != 0]\n",
    "\n",
    "    # splitting back to normal\n",
    "    X_temp_df = temp_df_cleaned.drop('status_group', axis=1)\n",
    "    y_temp_df = temp_df_cleaned['status_group']\n",
    "    return X_temp_df, y_temp_df"
   ]
  },
  {
   "cell_type": "code",
   "execution_count": 44,
   "metadata": {},
   "outputs": [],
   "source": [
    "X_test_cleaned, y_test_cleaned = data_cleaner(X_test, y_test)"
   ]
  },
  {
   "cell_type": "code",
   "execution_count": 45,
   "metadata": {},
   "outputs": [
    {
     "data": {
      "text/plain": [
       "(7626, 16)"
      ]
     },
     "execution_count": 45,
     "metadata": {},
     "output_type": "execute_result"
    }
   ],
   "source": [
    "X_test_cleaned.shape"
   ]
  },
  {
   "cell_type": "code",
   "execution_count": 46,
   "metadata": {},
   "outputs": [
    {
     "data": {
      "text/plain": [
       "(7626,)"
      ]
     },
     "execution_count": 46,
     "metadata": {},
     "output_type": "execute_result"
    }
   ],
   "source": [
    "y_test_cleaned.shape"
   ]
  },
  {
   "cell_type": "code",
   "execution_count": 47,
   "metadata": {},
   "outputs": [],
   "source": [
    "# exporting the cleaned X_test \n",
    "X_test_cleaned.to_csv('../analysis-dfs/X_test_cleaned.csv')\n",
    "# exporting y_test\n",
    "y_test_cleaned.to_csv('../analysis-dfs/y_test_cleaned.csv')"
   ]
  }
 ],
 "metadata": {
  "kernelspec": {
   "display_name": "Python 3.8.10 64-bit",
   "language": "python",
   "name": "python3"
  },
  "language_info": {
   "codemirror_mode": {
    "name": "ipython",
    "version": 3
   },
   "file_extension": ".py",
   "mimetype": "text/x-python",
   "name": "python",
   "nbconvert_exporter": "python",
   "pygments_lexer": "ipython3",
   "version": "3.8.10"
  },
  "orig_nbformat": 4,
  "vscode": {
   "interpreter": {
    "hash": "916dbcbb3f70747c44a77c7bcd40155683ae19c65e1c03b4aa3499c5328201f1"
   }
  }
 },
 "nbformat": 4,
 "nbformat_minor": 2
}
